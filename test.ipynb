{
 "cells": [
  {
   "cell_type": "code",
   "execution_count": 22,
   "metadata": {},
   "outputs": [],
   "source": [
    "import numpy as np"
   ]
  },
  {
   "cell_type": "code",
   "execution_count": 23,
   "metadata": {},
   "outputs": [],
   "source": [
    "rng = np.random.default_rng(seed=123)"
   ]
  },
  {
   "cell_type": "code",
   "execution_count": 24,
   "metadata": {},
   "outputs": [
    {
     "data": {
      "text/plain": [
       "array([-0.98912135, -0.36778665,  1.28792526,  0.19397442,  0.9202309 ,\n",
       "        0.57710379, -0.63646365,  0.54195222, -0.31659545, -0.32238912])"
      ]
     },
     "execution_count": 24,
     "metadata": {},
     "output_type": "execute_result"
    }
   ],
   "source": [
    "rng.normal(0,1,10)"
   ]
  },
  {
   "cell_type": "code",
   "execution_count": 25,
   "metadata": {},
   "outputs": [
    {
     "name": "stdout",
     "output_type": "stream",
     "text": [
      "<class 'numpy.ndarray'>\n",
      "<class 'numpy.ndarray'>\n"
     ]
    }
   ],
   "source": [
    "m = np.array([1,2,3])\n",
    "n = np.array((1,2,3))\n",
    "print(type(m))\n",
    "print(type(n))"
   ]
  },
  {
   "cell_type": "code",
   "execution_count": 26,
   "metadata": {},
   "outputs": [],
   "source": [
    "zv = np.array([])\n"
   ]
  },
  {
   "cell_type": "code",
   "execution_count": 27,
   "metadata": {},
   "outputs": [
    {
     "data": {
      "text/plain": [
       "array([], dtype=float64)"
      ]
     },
     "execution_count": 27,
     "metadata": {},
     "output_type": "execute_result"
    }
   ],
   "source": [
    "zv"
   ]
  },
  {
   "cell_type": "code",
   "execution_count": 28,
   "metadata": {},
   "outputs": [],
   "source": [
    "for x in range(1,4,1):\n",
    "    zv = np.append(zv, rng.normal(0,1,10))\n"
   ]
  },
  {
   "cell_type": "code",
   "execution_count": 29,
   "metadata": {},
   "outputs": [
    {
     "data": {
      "text/plain": [
       "array([ 0.09716732, -1.52593041,  1.1921661 , -0.67108968,  1.00026942,\n",
       "        0.13632112,  1.53203308, -0.65996941, -0.31179486,  0.33776913,\n",
       "       -2.2074711 ,  0.82792144,  1.54163039,  1.12680679,  0.75476964,\n",
       "       -0.14597789,  1.28190223,  1.07403062,  0.39262084,  0.00511431,\n",
       "       -0.36176687, -1.2302322 ,  1.22622929, -2.17204389, -0.37014735,\n",
       "        0.16438007,  0.85988118,  1.76166124,  0.99332378, -0.29152143])"
      ]
     },
     "execution_count": 29,
     "metadata": {},
     "output_type": "execute_result"
    }
   ],
   "source": [
    "zv"
   ]
  },
  {
   "cell_type": "code",
   "execution_count": 30,
   "metadata": {},
   "outputs": [
    {
     "data": {
      "text/plain": [
       "array([ 0.09716732, -1.52593041,  1.1921661 , -0.67108968,  1.00026942,\n",
       "        0.13632112,  1.53203308, -0.65996941, -0.31179486,  0.33776913,\n",
       "       -2.2074711 ,  0.82792144,  1.54163039,  1.12680679,  0.75476964,\n",
       "       -0.14597789,  1.28190223,  1.07403062,  0.39262084,  0.00511431,\n",
       "       -0.36176687, -1.2302322 ,  1.22622929, -2.17204389, -0.37014735,\n",
       "        0.16438007,  0.85988118,  1.76166124,  0.99332378, -0.29152143])"
      ]
     },
     "execution_count": 30,
     "metadata": {},
     "output_type": "execute_result"
    }
   ],
   "source": [
    "zv.flatten()"
   ]
  },
  {
   "cell_type": "code",
   "execution_count": 31,
   "metadata": {},
   "outputs": [
    {
     "data": {
      "text/plain": [
       "array([[ 0.09716732, -1.52593041,  1.1921661 ],\n",
       "       [-0.67108968,  1.00026942,  0.13632112],\n",
       "       [ 1.53203308, -0.65996941, -0.31179486],\n",
       "       [ 0.33776913, -2.2074711 ,  0.82792144],\n",
       "       [ 1.54163039,  1.12680679,  0.75476964],\n",
       "       [-0.14597789,  1.28190223,  1.07403062],\n",
       "       [ 0.39262084,  0.00511431, -0.36176687],\n",
       "       [-1.2302322 ,  1.22622929, -2.17204389],\n",
       "       [-0.37014735,  0.16438007,  0.85988118],\n",
       "       [ 1.76166124,  0.99332378, -0.29152143]])"
      ]
     },
     "execution_count": 31,
     "metadata": {},
     "output_type": "execute_result"
    }
   ],
   "source": [
    "zv.reshape((10,3))"
   ]
  },
  {
   "cell_type": "code",
   "execution_count": 32,
   "metadata": {},
   "outputs": [],
   "source": [
    "zv = zv.reshape((10,3))"
   ]
  },
  {
   "cell_type": "code",
   "execution_count": 33,
   "metadata": {},
   "outputs": [],
   "source": [
    "import pandas as pd"
   ]
  },
  {
   "cell_type": "code",
   "execution_count": 34,
   "metadata": {},
   "outputs": [
    {
     "data": {
      "text/html": [
       "<div>\n",
       "<style scoped>\n",
       "    .dataframe tbody tr th:only-of-type {\n",
       "        vertical-align: middle;\n",
       "    }\n",
       "\n",
       "    .dataframe tbody tr th {\n",
       "        vertical-align: top;\n",
       "    }\n",
       "\n",
       "    .dataframe thead th {\n",
       "        text-align: right;\n",
       "    }\n",
       "</style>\n",
       "<table border=\"1\" class=\"dataframe\">\n",
       "  <thead>\n",
       "    <tr style=\"text-align: right;\">\n",
       "      <th></th>\n",
       "      <th>X</th>\n",
       "      <th>Y</th>\n",
       "      <th>Z</th>\n",
       "    </tr>\n",
       "  </thead>\n",
       "  <tbody>\n",
       "    <tr>\n",
       "      <th>0</th>\n",
       "      <td>0.097167</td>\n",
       "      <td>-1.525930</td>\n",
       "      <td>1.192166</td>\n",
       "    </tr>\n",
       "    <tr>\n",
       "      <th>1</th>\n",
       "      <td>-0.671090</td>\n",
       "      <td>1.000269</td>\n",
       "      <td>0.136321</td>\n",
       "    </tr>\n",
       "    <tr>\n",
       "      <th>2</th>\n",
       "      <td>1.532033</td>\n",
       "      <td>-0.659969</td>\n",
       "      <td>-0.311795</td>\n",
       "    </tr>\n",
       "    <tr>\n",
       "      <th>3</th>\n",
       "      <td>0.337769</td>\n",
       "      <td>-2.207471</td>\n",
       "      <td>0.827921</td>\n",
       "    </tr>\n",
       "    <tr>\n",
       "      <th>4</th>\n",
       "      <td>1.541630</td>\n",
       "      <td>1.126807</td>\n",
       "      <td>0.754770</td>\n",
       "    </tr>\n",
       "    <tr>\n",
       "      <th>5</th>\n",
       "      <td>-0.145978</td>\n",
       "      <td>1.281902</td>\n",
       "      <td>1.074031</td>\n",
       "    </tr>\n",
       "    <tr>\n",
       "      <th>6</th>\n",
       "      <td>0.392621</td>\n",
       "      <td>0.005114</td>\n",
       "      <td>-0.361767</td>\n",
       "    </tr>\n",
       "    <tr>\n",
       "      <th>7</th>\n",
       "      <td>-1.230232</td>\n",
       "      <td>1.226229</td>\n",
       "      <td>-2.172044</td>\n",
       "    </tr>\n",
       "    <tr>\n",
       "      <th>8</th>\n",
       "      <td>-0.370147</td>\n",
       "      <td>0.164380</td>\n",
       "      <td>0.859881</td>\n",
       "    </tr>\n",
       "    <tr>\n",
       "      <th>9</th>\n",
       "      <td>1.761661</td>\n",
       "      <td>0.993324</td>\n",
       "      <td>-0.291521</td>\n",
       "    </tr>\n",
       "  </tbody>\n",
       "</table>\n",
       "</div>"
      ],
      "text/plain": [
       "          X         Y         Z\n",
       "0  0.097167 -1.525930  1.192166\n",
       "1 -0.671090  1.000269  0.136321\n",
       "2  1.532033 -0.659969 -0.311795\n",
       "3  0.337769 -2.207471  0.827921\n",
       "4  1.541630  1.126807  0.754770\n",
       "5 -0.145978  1.281902  1.074031\n",
       "6  0.392621  0.005114 -0.361767\n",
       "7 -1.230232  1.226229 -2.172044\n",
       "8 -0.370147  0.164380  0.859881\n",
       "9  1.761661  0.993324 -0.291521"
      ]
     },
     "execution_count": 34,
     "metadata": {},
     "output_type": "execute_result"
    }
   ],
   "source": [
    "pd.DataFrame(zv, columns=['X', 'Y', 'Z'])"
   ]
  },
  {
   "cell_type": "code",
   "execution_count": 35,
   "metadata": {},
   "outputs": [],
   "source": [
    "df = pd.DataFrame(zv, columns=['X', 'Y', 'Z'])"
   ]
  },
  {
   "cell_type": "code",
   "execution_count": 36,
   "metadata": {},
   "outputs": [
    {
     "data": {
      "text/html": [
       "<div>\n",
       "<style scoped>\n",
       "    .dataframe tbody tr th:only-of-type {\n",
       "        vertical-align: middle;\n",
       "    }\n",
       "\n",
       "    .dataframe tbody tr th {\n",
       "        vertical-align: top;\n",
       "    }\n",
       "\n",
       "    .dataframe thead th {\n",
       "        text-align: right;\n",
       "    }\n",
       "</style>\n",
       "<table border=\"1\" class=\"dataframe\">\n",
       "  <thead>\n",
       "    <tr style=\"text-align: right;\">\n",
       "      <th></th>\n",
       "      <th>X</th>\n",
       "      <th>Y</th>\n",
       "      <th>Z</th>\n",
       "    </tr>\n",
       "  </thead>\n",
       "  <tbody>\n",
       "    <tr>\n",
       "      <th>X</th>\n",
       "      <td>1.019305</td>\n",
       "      <td>-0.144402</td>\n",
       "      <td>0.219671</td>\n",
       "    </tr>\n",
       "    <tr>\n",
       "      <th>Y</th>\n",
       "      <td>-0.144402</td>\n",
       "      <td>1.541170</td>\n",
       "      <td>-0.458975</td>\n",
       "    </tr>\n",
       "    <tr>\n",
       "      <th>Z</th>\n",
       "      <td>0.219671</td>\n",
       "      <td>-0.458975</td>\n",
       "      <td>1.036339</td>\n",
       "    </tr>\n",
       "  </tbody>\n",
       "</table>\n",
       "</div>"
      ],
      "text/plain": [
       "          X         Y         Z\n",
       "X  1.019305 -0.144402  0.219671\n",
       "Y -0.144402  1.541170 -0.458975\n",
       "Z  0.219671 -0.458975  1.036339"
      ]
     },
     "execution_count": 36,
     "metadata": {},
     "output_type": "execute_result"
    }
   ],
   "source": [
    "df.cov()"
   ]
  },
  {
   "cell_type": "code",
   "execution_count": 37,
   "metadata": {},
   "outputs": [
    {
     "data": {
      "text/plain": [
       "0   -0.236597\n",
       "1    0.465501\n",
       "2    0.560269\n",
       "3   -1.041781\n",
       "4    3.423207\n",
       "5    2.209955\n",
       "6    0.035968\n",
       "7   -2.176047\n",
       "8    0.654114\n",
       "9    2.463464\n",
       "dtype: float64"
      ]
     },
     "execution_count": 37,
     "metadata": {},
     "output_type": "execute_result"
    }
   ],
   "source": [
    "df.apply(np.sum, axis=1)"
   ]
  },
  {
   "cell_type": "code",
   "execution_count": 60,
   "metadata": {},
   "outputs": [],
   "source": [
    "def times_hund(*args):\n",
    "    # args[0] is the series, args[1] is the additional parameters\n",
    "    total = np.sum(args[0])\n",
    "    if total < 0:\n",
    "        total *= 100\n",
    "    return total"
   ]
  },
  {
   "cell_type": "code",
   "execution_count": 61,
   "metadata": {},
   "outputs": [
    {
     "data": {
      "text/plain": [
       "0    -23.659698\n",
       "1      0.465501\n",
       "2      0.560269\n",
       "3   -104.178053\n",
       "4      3.423207\n",
       "5      2.209955\n",
       "6      0.035968\n",
       "7   -217.604679\n",
       "8      0.654114\n",
       "9      2.463464\n",
       "dtype: float64"
      ]
     },
     "execution_count": 61,
     "metadata": {},
     "output_type": "execute_result"
    }
   ],
   "source": [
    "df.apply(times_hund, axis=1, args=(100,))"
   ]
  },
  {
   "cell_type": "code",
   "execution_count": 64,
   "metadata": {},
   "outputs": [
    {
     "data": {
      "text/plain": [
       "[(0, 0.09716731867045719),\n",
       " (1, -0.6710896751741096),\n",
       " (2, 1.5320330796287964),\n",
       " (3, 0.337769126558826),\n",
       " (4, 1.541630394690618),\n",
       " (5, -0.14597789311522394),\n",
       " (6, 0.39262084457727114),\n",
       " (7, -1.230232195490445),\n",
       " (8, -0.37014734585231535),\n",
       " (9, 1.761661236511811)]"
      ]
     },
     "execution_count": 64,
     "metadata": {},
     "output_type": "execute_result"
    }
   ],
   "source": [
    "list(df.X.items())"
   ]
  },
  {
   "cell_type": "code",
   "execution_count": 66,
   "metadata": {},
   "outputs": [
    {
     "data": {
      "text/plain": [
       "0    0.097167\n",
       "1   -0.671090\n",
       "2    1.532033\n",
       "3    0.337769\n",
       "4    1.541630\n",
       "5   -0.145978\n",
       "6    0.392621\n",
       "7   -1.230232\n",
       "8   -0.370147\n",
       "9    1.761661\n",
       "Name: X, dtype: float64"
      ]
     },
     "execution_count": 66,
     "metadata": {},
     "output_type": "execute_result"
    }
   ],
   "source": [
    "df.X.explode(list(df.X.items()))"
   ]
  },
  {
   "cell_type": "code",
   "execution_count": 67,
   "metadata": {},
   "outputs": [
    {
     "data": {
      "text/plain": [
       "np.int64(7)"
      ]
     },
     "execution_count": 67,
     "metadata": {},
     "output_type": "execute_result"
    }
   ],
   "source": [
    "df.X.argmin()"
   ]
  },
  {
   "cell_type": "code",
   "execution_count": 68,
   "metadata": {},
   "outputs": [
    {
     "data": {
      "text/plain": [
       "np.float64(-0.19399725944535265)"
      ]
     },
     "execution_count": 68,
     "metadata": {},
     "output_type": "execute_result"
    }
   ],
   "source": [
    "df.X.autocorr()"
   ]
  },
  {
   "cell_type": "code",
   "execution_count": 69,
   "metadata": {},
   "outputs": [
    {
     "data": {
      "text/plain": [
       "<Axes: >"
      ]
     },
     "execution_count": 69,
     "metadata": {},
     "output_type": "execute_result"
    },
    {
     "data": {
      "image/png": "[encoded data removed]",
      "text/plain": [
       "<Figure size 640x480 with 1 Axes>"
      ]
     },
     "metadata": {},
     "output_type": "display_data"
    }
   ],
   "source": [
    "df.X.hist()"
   ]
  },
  {
   "cell_type": "code",
   "execution_count": 1,
   "metadata": {},
   "outputs": [
    {
     "data": {
      "text/plain": [
       "array([0.5, 0.5])"
      ]
     },
     "execution_count": 1,
     "metadata": {},
     "output_type": "execute_result"
    }
   ],
   "source": [
    "# Methode der kleinsten Quadrate\n",
    "from sklearn import linear_model\n",
    "reg = linear_model.LinearRegression()\n",
    "reg.fit([[0, 0], [1, 1], [2, 2]], [0, 1, 2])\n",
    "reg.coef_"
   ]
  },
  {
   "cell_type": "code",
   "execution_count": 2,
   "metadata": {},
   "outputs": [],
   "source": [
    "import os"
   ]
  },
  {
   "cell_type": "code",
   "execution_count": 3,
   "metadata": {},
   "outputs": [
    {
     "data": {
      "text/plain": [
       "'c:\\\\Users\\\\pat_h\\\\OneDrive\\\\p-spohr-repos\\\\HTW-Berlin-Pytorium'"
      ]
     },
     "execution_count": 3,
     "metadata": {},
     "output_type": "execute_result"
    }
   ],
   "source": [
    "os.getcwd()"
   ]
  },
  {
   "cell_type": "code",
   "execution_count": 10,
   "metadata": {},
   "outputs": [
    {
     "name": "stdout",
     "output_type": "stream",
     "text": [
      "C:\\Users\\pat_h\\OneDrive\\p-spohr-repos\\HTW-Berlin-Pytorium\\2-Grundlegend\n",
      "C:\\Users\\pat_h\\OneDrive\\p-spohr-repos\\HTW-Berlin-Pytorium\\2-Grundlegend\\2.1-Rechner-und-Speicher\n",
      "2.1.1-arithmetische-operatoren.py\n",
      "2.1.2-datentypen.py\n",
      "2.1.3-datenstrukturen.py\n",
      "C:\\Users\\pat_h\\OneDrive\\p-spohr-repos\\HTW-Berlin-Pytorium\\2-Grundlegend\\2.2-Kontrollfluss\n",
      "2.2.1-if-bedingung.py\n",
      "2.2.2-for-schleife.py\n",
      "2.2.3-while-schleife.py\n",
      "2.2.4-match-fallunterscheidung.py\n",
      "C:\\Users\\pat_h\\OneDrive\\p-spohr-repos\\HTW-Berlin-Pytorium\\2-Grundlegend\\2.3-Funktionen\n",
      "2.3.1-built-in-funktionen.py\n",
      "2.3.2-benutzerdefinierte-funktionen.py\n",
      "2.3.3-anonyme-lambda-funktionen.py\n",
      "2.3.4-decorators.py\n",
      "C:\\Users\\pat_h\\OneDrive\\p-spohr-repos\\HTW-Berlin-Pytorium\\2-Grundlegend\\Aufgaben\n",
      "2.1-2.2-aufgaben-lösungen.ipynb\n",
      "2.1-2.2-aufgaben-lösungen.py\n",
      "2.1-2.2-aufgaben.py\n",
      "2.3-aufgaben-lösungen.ipynb\n",
      "2.3-aufgaben.ipynb\n",
      "2.3-aufgaben.py\n"
     ]
    }
   ],
   "source": [
    "for dirpath, dirnames, filenames in os.walk('C:\\\\Users\\\\pat_h\\\\OneDrive\\\\p-spohr-repos\\\\HTW-Berlin-Pytorium\\\\2-Grundlegend'):\n",
    "    print(dirpath)\n",
    "    for file in filenames:\n",
    "        print(file)"
   ]
  }
 ],
 "metadata": {
  "kernelspec": {
   "display_name": "datasci",
   "language": "python",
   "name": "python3"
  },
  "language_info": {
   "codemirror_mode": {
    "name": "ipython",
    "version": 3
   },
   "file_extension": ".py",
   "mimetype": "text/x-python",
   "name": "python",
   "nbconvert_exporter": "python",
   "pygments_lexer": "ipython3",
   "version": "3.13.0"
  }
 },
 "nbformat": 4,
 "nbformat_minor": 2
}
