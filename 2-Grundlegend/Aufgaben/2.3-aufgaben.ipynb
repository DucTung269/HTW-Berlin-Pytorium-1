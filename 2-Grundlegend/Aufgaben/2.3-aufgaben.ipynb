{
 "cells": [
  {
   "cell_type": "markdown",
   "metadata": {},
   "source": [
    "# 2.3 Aufgaben\n",
    "Diese Aufgaben sind länger als Lernzielkontrolle und fassen alle Themen aus 2.3 zusammen.\n",
    "\n",
    "Lösen Sie diese Aufgaben in VS Code oder in Jupyter Notebook."
   ]
  },
  {
   "cell_type": "markdown",
   "metadata": {},
   "source": [
    "## Aufgabe 1"
   ]
  },
  {
   "cell_type": "markdown",
   "metadata": {},
   "source": [
    "### 1.1 Definieren Sie eine Funktion, die eine Begrüßung ausdruckt."
   ]
  },
  {
   "cell_type": "code",
   "execution_count": null,
   "metadata": {},
   "outputs": [],
   "source": []
  },
  {
   "cell_type": "markdown",
   "metadata": {},
   "source": [
    "### 1.2 Erweitern Sie die Funktion, sodass die Begrüßung einen Name enthält."
   ]
  },
  {
   "cell_type": "code",
   "execution_count": null,
   "metadata": {},
   "outputs": [],
   "source": []
  },
  {
   "cell_type": "markdown",
   "metadata": {},
   "source": [
    "### 1.3 Erweitern Sie die Funktion mit einer Bedingung, ob jemend gesiezt oder geduzt wird."
   ]
  },
  {
   "cell_type": "code",
   "execution_count": null,
   "metadata": {},
   "outputs": [],
   "source": []
  },
  {
   "cell_type": "markdown",
   "metadata": {},
   "source": [
    "## Aufgabe 2"
   ]
  },
  {
   "cell_type": "markdown",
   "metadata": {},
   "source": [
    "### 2.1 Definieren Sie eine Funktion, die die Fläche einen Kreis zurückgibt."
   ]
  },
  {
   "cell_type": "code",
   "execution_count": null,
   "metadata": {},
   "outputs": [],
   "source": []
  },
  {
   "cell_type": "markdown",
   "metadata": {},
   "source": [
    "### 2.2 Erweitern Sie die Funktion mit einer Farbe- und Muster-Parameter. Drucken Sie die neuen Parameter aus."
   ]
  },
  {
   "cell_type": "code",
   "execution_count": null,
   "metadata": {},
   "outputs": [],
   "source": []
  },
  {
   "cell_type": "markdown",
   "metadata": {},
   "source": [
    "### 2.3 Ändern Sie die Funktion, sodass die Funktion noch die Fläche zurückgibt, aber auch einen vernünftigen Satzt ausdrückt, wenn aufgegeruft."
   ]
  },
  {
   "cell_type": "code",
   "execution_count": null,
   "metadata": {},
   "outputs": [],
   "source": []
  },
  {
   "cell_type": "markdown",
   "metadata": {},
   "source": [
    "## Aufgabe 3\n"
   ]
  },
  {
   "cell_type": "markdown",
   "metadata": {},
   "source": [
    "### 3.1 Definieren Sie eine Funktion, die die Kovarianz zweier Zufallsvariablen berechnet."
   ]
  },
  {
   "cell_type": "code",
   "execution_count": null,
   "metadata": {},
   "outputs": [],
   "source": []
  },
  {
   "cell_type": "markdown",
   "metadata": {},
   "source": [
    "### 3.2 Wie Können Sie die Funktion erweitern, damit sie eine beliebige Anzahl von Zufallsvariablen berechnen kann? Erweitern Sie die Funktion.\n"
   ]
  },
  {
   "cell_type": "code",
   "execution_count": null,
   "metadata": {},
   "outputs": [],
   "source": []
  },
  {
   "cell_type": "markdown",
   "metadata": {},
   "source": [
    "## Aufgabe 4"
   ]
  },
  {
   "cell_type": "markdown",
   "metadata": {},
   "source": [
    "### 4.1 Definieren Sie eine Funktion 'mein_dictionary', mit der ein Benutzer eine beliebige dict bauen kann.\n",
    "1. Mit input() kann man Eingaben von Benutzer*innen bekommen.\n",
    "2. Erlauben Sie keine Python-Fehler, die das Verfahren unterbrechen.\n",
    "3. Keine Schlüssel oder Werte sollte leer sein.\n",
    "\n",
    "Hinweise:\n",
    "Eine while-Schleife mit input() ist notwendig, um diese Aufgabe zu schaffen."
   ]
  },
  {
   "cell_type": "code",
   "execution_count": 4,
   "metadata": {},
   "outputs": [],
   "source": [
    "def mein_dictionary():\n",
    "    pass"
   ]
  }
 ],
 "metadata": {
  "kernelspec": {
   "display_name": "datasci",
   "language": "python",
   "name": "python3"
  },
  "language_info": {
   "codemirror_mode": {
    "name": "ipython",
    "version": 3
   },
   "file_extension": ".py",
   "mimetype": "text/x-python",
   "name": "python",
   "nbconvert_exporter": "python",
   "pygments_lexer": "ipython3",
   "version": "3.13.0"
  }
 },
 "nbformat": 4,
 "nbformat_minor": 2
}
