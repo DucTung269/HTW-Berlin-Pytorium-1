{
 "cells": [
  {
   "cell_type": "markdown",
   "id": "f974a023-1226-4d6e-82e8-bf69078d2e07",
   "metadata": {},
   "source": [
    "# 2.1 - 2.2 Aufgaben\n",
    "\n",
    "Diese Aufgaben sind länger als Lernzielkontrolle und fassen alle Themen aus 2.1 und 2.2 zusammen.\n",
    "\n",
    "Lösen Sie diese Aufgaben in VS Code oder in Jupyter Notebook."
   ]
  },
  {
   "cell_type": "markdown",
   "id": "51431c53-d112-4ac7-98a7-1f51108c4516",
   "metadata": {},
   "source": [
    "## Aufgabe 1"
   ]
  },
  {
   "cell_type": "markdown",
   "id": "ede50ef0-9e28-41d9-b201-0cd513924bdd",
   "metadata": {},
   "source": [
    "### 1.1 Initialisieren Sie eine Liste mit fünf Namen"
   ]
  },
  {
   "cell_type": "code",
   "execution_count": 10,
   "id": "8f4d2ec9-2ca5-4ab5-b44a-d63bf7613f61",
   "metadata": {},
   "outputs": [],
   "source": [
    "namen = ['Tim', 'Nina', 'Sara', 'Alexander', 'Katja']"
   ]
  },
  {
   "cell_type": "code",
   "execution_count": 11,
   "id": "fb8f2061-42b1-48bf-a5f4-609cef27ec82",
   "metadata": {},
   "outputs": [
    {
     "data": {
      "text/plain": [
       "['Tim', 'Nina', 'Sara', 'Alexander', 'Katja']"
      ]
     },
     "execution_count": 11,
     "metadata": {},
     "output_type": "execute_result"
    }
   ],
   "source": [
    "namen"
   ]
  },
  {
   "cell_type": "markdown",
   "id": "9b279a09-520a-4f9f-a11d-0d4a9cd731a4",
   "metadata": {},
   "source": [
    "### 1.2 Fügen Sie noch einen Name der Liste hinzu."
   ]
  },
  {
   "cell_type": "code",
   "execution_count": 12,
   "id": "6912e505-4957-442c-a11c-80e3de9902fc",
   "metadata": {},
   "outputs": [],
   "source": [
    "namen.append('John')"
   ]
  },
  {
   "cell_type": "code",
   "execution_count": 13,
   "id": "2c0dcc1f-b9f7-4e51-ae75-0e1e028b0f76",
   "metadata": {},
   "outputs": [
    {
     "data": {
      "text/plain": [
       "['Tim', 'Nina', 'Sara', 'Alexander', 'Katja', 'John']"
      ]
     },
     "execution_count": 13,
     "metadata": {},
     "output_type": "execute_result"
    }
   ],
   "source": [
    "namen"
   ]
  },
  {
   "cell_type": "markdown",
   "id": "dbbdbe73-9e70-460e-aaca-53df80ba0b6e",
   "metadata": {},
   "source": [
    "### 1.3 Drucken Sie jede Name aus."
   ]
  },
  {
   "cell_type": "code",
   "execution_count": 14,
   "id": "9164bbe1-caea-4c72-95c5-25eedd7bd663",
   "metadata": {},
   "outputs": [
    {
     "name": "stdout",
     "output_type": "stream",
     "text": [
      "Tim\n",
      "Nina\n",
      "Sara\n",
      "Alexander\n",
      "Katja\n",
      "John\n"
     ]
    }
   ],
   "source": [
    "for name in namen:\n",
    "    print(name)"
   ]
  },
  {
   "cell_type": "markdown",
   "id": "2cbc79e3-96ae-48eb-b8aa-c721ea3f70e2",
   "metadata": {},
   "source": [
    "### 1.4 Drucken Sie die erste Buchstabe von jede Name aus."
   ]
  },
  {
   "cell_type": "code",
   "execution_count": 15,
   "id": "16157934-e52f-4134-bcf6-73082915eed4",
   "metadata": {},
   "outputs": [
    {
     "name": "stdout",
     "output_type": "stream",
     "text": [
      "T\n",
      "N\n",
      "S\n",
      "A\n",
      "K\n",
      "J\n"
     ]
    }
   ],
   "source": [
    "for name in namen:\n",
    "    print(name[0])"
   ]
  },
  {
   "cell_type": "markdown",
   "id": "9328e814-4e7f-4d9e-bfd3-bc7654f3769a",
   "metadata": {},
   "source": [
    "### 1.5 Speichern Sie jede Name als ungekehrt in einer neuen Liste und drucken Sie gleichzeitig jeden Name aus.\n"
   ]
  },
  {
   "cell_type": "code",
   "execution_count": 16,
   "id": "5cd05459-606e-4185-aba9-3f3f8de56dc3",
   "metadata": {},
   "outputs": [
    {
     "name": "stdout",
     "output_type": "stream",
     "text": [
      "miT\n",
      "aniN\n",
      "araS\n",
      "rednaxelA\n",
      "ajtaK\n",
      "nhoJ\n"
     ]
    }
   ],
   "source": [
    "ungekehrt = []\n",
    "for name in namen:\n",
    "    print(name[::-1])\n",
    "    ungekehrt.append(name[::-1])    "
   ]
  },
  {
   "cell_type": "code",
   "execution_count": 17,
   "id": "c5b725f6-3433-4e28-8b02-b554eae9a438",
   "metadata": {},
   "outputs": [
    {
     "name": "stdout",
     "output_type": "stream",
     "text": [
      "['miT', 'aniN', 'araS', 'rednaxelA', 'ajtaK', 'nhoJ']\n"
     ]
    }
   ],
   "source": [
    "print(ungekehrt)"
   ]
  },
  {
   "cell_type": "markdown",
   "id": "ef9a1925-85fe-4c6d-91f3-4eb5cbaeecf1",
   "metadata": {},
   "source": [
    "### 1.6 Löschen Sie alle Elemente in der neuen ungekehrten Liste."
   ]
  },
  {
   "cell_type": "code",
   "execution_count": 18,
   "id": "838a94e2-a875-4301-a31c-1b3b58f312be",
   "metadata": {},
   "outputs": [
    {
     "name": "stdout",
     "output_type": "stream",
     "text": [
      "[]\n"
     ]
    }
   ],
   "source": [
    "ungekehrt.clear()\n",
    "print(ungekehrt)"
   ]
  },
  {
   "cell_type": "markdown",
   "id": "37a708d8-ab2b-4549-ad04-7c131e52ad93",
   "metadata": {},
   "source": [
    "## Aufgabe 2"
   ]
  },
  {
   "cell_type": "markdown",
   "id": "5ce17b5b-c3a2-44e5-bd3c-2e3b1ae57245",
   "metadata": {},
   "source": [
    "### 2.1 Initialisieren Sie eine Liste von 0 bis 50."
   ]
  },
  {
   "cell_type": "code",
   "execution_count": 19,
   "id": "fcd90a07-e4b9-4a44-b8d0-d4ba851a55a7",
   "metadata": {},
   "outputs": [],
   "source": [
    "num_liste = list(range(0,51))"
   ]
  },
  {
   "cell_type": "code",
   "execution_count": 20,
   "id": "49baafc6-460b-4842-928f-f99ef04a2dc9",
   "metadata": {},
   "outputs": [
    {
     "name": "stdout",
     "output_type": "stream",
     "text": [
      "[0, 1, 2, 3, 4, 5, 6, 7, 8, 9]\n",
      "[41, 42, 43, 44, 45, 46, 47, 48, 49, 50]\n",
      "51\n"
     ]
    }
   ],
   "source": [
    "print(num_liste[0:10])\n",
    "print(num_liste[-10::])\n",
    "print(len(num_liste))"
   ]
  },
  {
   "cell_type": "markdown",
   "id": "ff7a9524-ea7b-43e5-8e54-485384c960d6",
   "metadata": {},
   "source": [
    "### 2.2 Ordnen Sie die List von absteigend zu."
   ]
  },
  {
   "cell_type": "code",
   "execution_count": 21,
   "id": "b31cfd7b-bee7-44fb-971f-f5ec27832218",
   "metadata": {},
   "outputs": [],
   "source": [
    "num_absteigend = num_liste[::-1]"
   ]
  },
  {
   "cell_type": "code",
   "execution_count": 22,
   "id": "142f28e0-dc40-48b9-9ca1-7dfa715b305e",
   "metadata": {},
   "outputs": [
    {
     "name": "stdout",
     "output_type": "stream",
     "text": [
      "[50, 49, 48, 47, 46, 45, 44, 43, 42, 41]\n",
      "[9, 8, 7, 6, 5, 4, 3, 2, 1, 0]\n"
     ]
    }
   ],
   "source": [
    "print(num_absteigend[0:10])\n",
    "print(num_absteigend[-10::])"
   ]
  },
  {
   "cell_type": "markdown",
   "id": "e71ef59e-ea30-4b8d-92e7-7059639a1b13",
   "metadata": {},
   "source": [
    "### 2.3 Drucken Sie jede gerade Zahl aus, die nicht ein Teiler von zehn ist."
   ]
  },
  {
   "cell_type": "code",
   "execution_count": 23,
   "id": "d3d7cb2e-197a-465f-9ed2-ed9576a65ace",
   "metadata": {},
   "outputs": [],
   "source": [
    "num_gerade = num_liste[::2] # noch eine Methode, aber es funktioniert nur, wenn die Liste schon zugeordnet ist."
   ]
  },
  {
   "cell_type": "code",
   "execution_count": 24,
   "id": "b8f2afdf",
   "metadata": {},
   "outputs": [
    {
     "name": "stdout",
     "output_type": "stream",
     "text": [
      "[0, 2, 4, 6, 8, 10, 12, 14, 16, 18, 20, 22, 24, 26, 28, 30, 32, 34, 36, 38, 40, 42, 44, 46, 48, 50]\n"
     ]
    }
   ],
   "source": [
    "print(num_liste[::2])"
   ]
  },
  {
   "cell_type": "code",
   "execution_count": 25,
   "id": "675c8c84-9c1c-4140-aca3-4d8d680ccfb8",
   "metadata": {},
   "outputs": [
    {
     "name": "stdout",
     "output_type": "stream",
     "text": [
      "[0, 2, 4, 6, 8, 10, 12, 14, 16, 18]\n",
      "[32, 34, 36, 38, 40, 42, 44, 46, 48, 50]\n"
     ]
    }
   ],
   "source": [
    "print(num_gerade[0:10])\n",
    "print(num_gerade[-10::])"
   ]
  },
  {
   "cell_type": "code",
   "execution_count": 26,
   "id": "25005b79-1019-4344-ae9b-970254c347fd",
   "metadata": {},
   "outputs": [
    {
     "name": "stdout",
     "output_type": "stream",
     "text": [
      "2\n",
      "4\n",
      "6\n",
      "8\n",
      "12\n",
      "14\n",
      "16\n",
      "18\n",
      "22\n",
      "24\n",
      "26\n",
      "28\n",
      "32\n",
      "34\n",
      "36\n",
      "38\n",
      "42\n",
      "44\n",
      "46\n",
      "48\n"
     ]
    }
   ],
   "source": [
    "for num in num_liste:\n",
    "    if num % 2 == 0 and num % 10 != 0:\n",
    "        print(num)"
   ]
  },
  {
   "cell_type": "markdown",
   "id": "7bd46be3-f52b-4e56-96fc-abf777fc8106",
   "metadata": {},
   "source": [
    "### 2.4 Drucken Sie jede ungerade Zahl quadriert aus, die nicht ein Teiler von fünf ist."
   ]
  },
  {
   "cell_type": "code",
   "execution_count": 27,
   "id": "b62d4651-8acf-48d6-81fb-040dc24709bf",
   "metadata": {},
   "outputs": [
    {
     "name": "stdout",
     "output_type": "stream",
     "text": [
      "1\n",
      "9\n",
      "49\n",
      "81\n",
      "121\n",
      "169\n",
      "289\n",
      "361\n",
      "441\n",
      "529\n",
      "729\n",
      "841\n",
      "961\n",
      "1089\n",
      "1369\n",
      "1521\n",
      "1681\n",
      "1849\n",
      "2209\n",
      "2401\n"
     ]
    }
   ],
   "source": [
    "for num in num_liste:\n",
    "    if num % 2 != 0 and num % 5 != 0:\n",
    "        print(num * num)"
   ]
  },
  {
   "cell_type": "markdown",
   "id": "8c7f124e-f015-41ca-927f-4fd5a193edbf",
   "metadata": {},
   "source": [
    "## Aufgabe 3 "
   ]
  },
  {
   "cell_type": "markdown",
   "id": "ad6a6528-e11e-47b1-b423-11685a5b4d6c",
   "metadata": {},
   "source": [
    "### 3.1 Initialisieren Sie eine Liste von 0 bis 1 mit 0.01 Schrittgröße   "
   ]
  },
  {
   "cell_type": "code",
   "execution_count": 28,
   "id": "edf17e3d-fece-4fea-85f0-5f0acdc695eb",
   "metadata": {},
   "outputs": [],
   "source": [
    "num_init = range(0,101, 1)\n",
    "schritt_num = []\n",
    "for i in num_init:\n",
    "    neu = i / 100\n",
    "    schritt_num.append(neu)"
   ]
  },
  {
   "cell_type": "code",
   "execution_count": 29,
   "id": "8c2b4013-7de0-4ec4-9a00-e5d5519a005a",
   "metadata": {},
   "outputs": [
    {
     "name": "stdout",
     "output_type": "stream",
     "text": [
      "[0.0, 0.01, 0.02, 0.03, 0.04, 0.05, 0.06, 0.07, 0.08, 0.09]\n",
      "[0.91, 0.92, 0.93, 0.94, 0.95, 0.96, 0.97, 0.98, 0.99, 1.0]\n"
     ]
    }
   ],
   "source": [
    "print(schritt_num[0:10])\n",
    "print(schritt_num[-10::])"
   ]
  },
  {
   "cell_type": "code",
   "execution_count": 30,
   "id": "00e83a5e-26ec-485c-acde-b53541d38a4d",
   "metadata": {},
   "outputs": [
    {
     "data": {
      "text/plain": [
       "101"
      ]
     },
     "execution_count": 30,
     "metadata": {},
     "output_type": "execute_result"
    }
   ],
   "source": [
    "len(schritt_num)"
   ]
  },
  {
   "cell_type": "markdown",
   "id": "23ada5a3-7261-4d56-a6e6-2871a2b055d5",
   "metadata": {},
   "source": [
    "### 3.2 Drucken Sie ein Liste der kumulative Summe aus."
   ]
  },
  {
   "cell_type": "code",
   "execution_count": 31,
   "id": "13851071-2584-4f1b-9ae3-7820cbc3a64e",
   "metadata": {},
   "outputs": [
    {
     "name": "stdout",
     "output_type": "stream",
     "text": [
      "[0.0, 0.01, 0.03, 0.06, 0.1, 0.15, 0.21, 0.28, 0.36, 0.45, 0.55, 0.66, 0.78, 0.91, 1.05, 1.2, 1.36, 1.53, 1.71, 1.9, 2.1, 2.31, 2.53, 2.76, 3.0, 3.25, 3.51, 3.78, 4.06, 4.35, 4.65, 4.96, 5.28, 5.61, 5.95, 6.3, 6.66, 7.03, 7.41, 7.8, 8.2, 8.61, 9.03, 9.46, 9.9, 10.35, 10.81, 11.28, 11.76, 12.25, 12.75, 13.26, 13.78, 14.31, 14.85, 15.4, 15.96, 16.53, 17.11, 17.7, 18.3, 18.91, 19.53, 20.16, 20.8, 21.45, 22.11, 22.78, 23.46, 24.15, 24.85, 25.56, 26.28, 27.01, 27.75, 28.5, 29.26, 30.03, 30.81, 31.6, 32.4, 33.21, 34.03, 34.86, 35.7, 36.55, 37.41, 38.28, 39.16, 40.05, 40.95, 41.86, 42.78, 43.71, 44.65, 45.6, 46.56, 47.53, 48.51, 49.5, 50.5]\n"
     ]
    }
   ],
   "source": [
    "# 1. Methode mit geschachtelten Schleifen\n",
    "summe_1 = []\n",
    "temp = 0\n",
    "for i in range(1,len(schritt_num)+1,1):\n",
    "    for y in schritt_num[0:i]:\n",
    "        temp += y\n",
    "    summe_1.append(round(temp,4))\n",
    "    temp = 0\n",
    "print(summe_1)"
   ]
  },
  {
   "cell_type": "code",
   "execution_count": 32,
   "id": "aeedb6cd-6005-4435-b186-86a5b79a361d",
   "metadata": {},
   "outputs": [
    {
     "name": "stdout",
     "output_type": "stream",
     "text": [
      "50.5\n"
     ]
    }
   ],
   "source": [
    "print(sum(schritt_num))"
   ]
  },
  {
   "cell_type": "code",
   "execution_count": 33,
   "id": "d4987c5f-6717-40f1-8a53-fef9c685d81d",
   "metadata": {},
   "outputs": [],
   "source": [
    "# 2. Methode mit Hilfe sum() von die Standardbibliothek\n",
    "summe_2 = []\n",
    "x_1 = schritt_num.copy()\n",
    "j = 1\n",
    "for i in x_1:\n",
    "    summe_2.append(round(sum(x_1[0:j]),4))\n",
    "    j+=1 "
   ]
  },
  {
   "cell_type": "code",
   "execution_count": 34,
   "id": "8bfcc44d-4e92-4127-b4da-8ca01f27ff58",
   "metadata": {},
   "outputs": [
    {
     "name": "stdout",
     "output_type": "stream",
     "text": [
      "[0.0, 0.01, 0.03, 0.06, 0.1, 0.15, 0.21, 0.28, 0.36, 0.45, 0.55, 0.66, 0.78, 0.91, 1.05, 1.2, 1.36, 1.53, 1.71, 1.9, 2.1, 2.31, 2.53, 2.76, 3.0, 3.25, 3.51, 3.78, 4.06, 4.35, 4.65, 4.96, 5.28, 5.61, 5.95, 6.3, 6.66, 7.03, 7.41, 7.8, 8.2, 8.61, 9.03, 9.46, 9.9, 10.35, 10.81, 11.28, 11.76, 12.25, 12.75, 13.26, 13.78, 14.31, 14.85, 15.4, 15.96, 16.53, 17.11, 17.7, 18.3, 18.91, 19.53, 20.16, 20.8, 21.45, 22.11, 22.78, 23.46, 24.15, 24.85, 25.56, 26.28, 27.01, 27.75, 28.5, 29.26, 30.03, 30.81, 31.6, 32.4, 33.21, 34.03, 34.86, 35.7, 36.55, 37.41, 38.28, 39.16, 40.05, 40.95, 41.86, 42.78, 43.71, 44.65, 45.6, 46.56, 47.53, 48.51, 49.5, 50.5]\n"
     ]
    }
   ],
   "source": [
    "print(summe_2)"
   ]
  },
  {
   "cell_type": "code",
   "execution_count": 35,
   "id": "8b3f6152-993b-4fe8-bbca-113c698516ee",
   "metadata": {},
   "outputs": [],
   "source": [
    "# 3. Methode mit einer while-Schleife\n",
    "summe_3 = []\n",
    "x_2 = schritt_num.copy()\n",
    "temp = 0\n",
    "while len(x_2) > 0:\n",
    "    temp += x_2.pop(0)\n",
    "    summe_3.append(round(temp, 4))"
   ]
  },
  {
   "cell_type": "code",
   "execution_count": 36,
   "id": "1b68cab0-ccdd-4b62-91a1-0ab0bc952108",
   "metadata": {},
   "outputs": [
    {
     "name": "stdout",
     "output_type": "stream",
     "text": [
      "[0.0, 0.01, 0.03, 0.06, 0.1, 0.15, 0.21, 0.28, 0.36, 0.45, 0.55, 0.66, 0.78, 0.91, 1.05, 1.2, 1.36, 1.53, 1.71, 1.9, 2.1, 2.31, 2.53, 2.76, 3.0, 3.25, 3.51, 3.78, 4.06, 4.35, 4.65, 4.96, 5.28, 5.61, 5.95, 6.3, 6.66, 7.03, 7.41, 7.8, 8.2, 8.61, 9.03, 9.46, 9.9, 10.35, 10.81, 11.28, 11.76, 12.25, 12.75, 13.26, 13.78, 14.31, 14.85, 15.4, 15.96, 16.53, 17.11, 17.7, 18.3, 18.91, 19.53, 20.16, 20.8, 21.45, 22.11, 22.78, 23.46, 24.15, 24.85, 25.56, 26.28, 27.01, 27.75, 28.5, 29.26, 30.03, 30.81, 31.6, 32.4, 33.21, 34.03, 34.86, 35.7, 36.55, 37.41, 38.28, 39.16, 40.05, 40.95, 41.86, 42.78, 43.71, 44.65, 45.6, 46.56, 47.53, 48.51, 49.5, 50.5]\n"
     ]
    }
   ],
   "source": [
    "print(summe_3)"
   ]
  },
  {
   "cell_type": "code",
   "execution_count": 37,
   "id": "7dcfe6ee",
   "metadata": {},
   "outputs": [],
   "source": [
    "tiere = ['Katze', 'Hund', 'Vogel']"
   ]
  },
  {
   "cell_type": "code",
   "execution_count": 38,
   "id": "5199682e",
   "metadata": {},
   "outputs": [
    {
     "data": {
      "text/plain": [
       "'Katze'"
      ]
     },
     "execution_count": 38,
     "metadata": {},
     "output_type": "execute_result"
    }
   ],
   "source": [
    "tiere.pop(0)"
   ]
  },
  {
   "cell_type": "code",
   "execution_count": 39,
   "id": "70ffc33e",
   "metadata": {},
   "outputs": [
    {
     "data": {
      "text/plain": [
       "['Hund', 'Vogel']"
      ]
     },
     "execution_count": 39,
     "metadata": {},
     "output_type": "execute_result"
    }
   ],
   "source": [
    "tiere"
   ]
  },
  {
   "cell_type": "code",
   "execution_count": 40,
   "id": "70f9bd36-9f65-4704-bcdc-55ab147870fa",
   "metadata": {},
   "outputs": [],
   "source": [
    "# 4. Methode ohne eine neue Liste mit Hilfe enumerate()\n",
    "x_3 = schritt_num.copy()\n",
    "temp = 0\n",
    "for index, num in enumerate(x_3):\n",
    "    temp += num\n",
    "    x_3[index] = round(temp, 4)"
   ]
  },
  {
   "cell_type": "code",
   "execution_count": 41,
   "id": "66660b88-073f-4bc8-bd43-a223d1935b99",
   "metadata": {},
   "outputs": [
    {
     "name": "stdout",
     "output_type": "stream",
     "text": [
      "[0.0, 0.01, 0.03, 0.06, 0.1, 0.15, 0.21, 0.28, 0.36, 0.45, 0.55, 0.66, 0.78, 0.91, 1.05, 1.2, 1.36, 1.53, 1.71, 1.9, 2.1, 2.31, 2.53, 2.76, 3.0, 3.25, 3.51, 3.78, 4.06, 4.35, 4.65, 4.96, 5.28, 5.61, 5.95, 6.3, 6.66, 7.03, 7.41, 7.8, 8.2, 8.61, 9.03, 9.46, 9.9, 10.35, 10.81, 11.28, 11.76, 12.25, 12.75, 13.26, 13.78, 14.31, 14.85, 15.4, 15.96, 16.53, 17.11, 17.7, 18.3, 18.91, 19.53, 20.16, 20.8, 21.45, 22.11, 22.78, 23.46, 24.15, 24.85, 25.56, 26.28, 27.01, 27.75, 28.5, 29.26, 30.03, 30.81, 31.6, 32.4, 33.21, 34.03, 34.86, 35.7, 36.55, 37.41, 38.28, 39.16, 40.05, 40.95, 41.86, 42.78, 43.71, 44.65, 45.6, 46.56, 47.53, 48.51, 49.5, 50.5]\n"
     ]
    }
   ],
   "source": [
    "print(x_3)"
   ]
  },
  {
   "cell_type": "markdown",
   "id": "56d57da6-97b4-42b0-b26d-74272ff3da7f",
   "metadata": {},
   "source": [
    "## Aufgabe 4"
   ]
  },
  {
   "cell_type": "markdown",
   "id": "86b80620-4b8b-4a23-bdb6-b5184858103f",
   "metadata": {},
   "source": [
    "### 4.1 Initialisieren Sie eine Liste von Dict mit 10 Leute: Name, Age und Haustier (Hund oder Katze)"
   ]
  },
  {
   "cell_type": "markdown",
   "id": "7e794cef-465b-4303-9bbd-331db745ae12",
   "metadata": {},
   "source": [
    "1. Benutzen Sie die Namen von früher plus vier mehr. \n",
    "2. Das Alter ist 5 mal die Anzahl der Buchstaben.\n",
    "3. Alle Leute mit ein 'a' in ihrem Name hat ein Hund, sonst Katze\n",
    "4. Drucken Sie alle Daten in vernünftigen Sätze aus."
   ]
  },
  {
   "cell_type": "code",
   "execution_count": 42,
   "id": "2101e470-710c-4e5e-bdff-dfae8644021e",
   "metadata": {},
   "outputs": [
    {
     "data": {
      "text/plain": [
       "['Tim', 'Nina', 'Sara', 'Alexander', 'Katja', 'John']"
      ]
     },
     "execution_count": 42,
     "metadata": {},
     "output_type": "execute_result"
    }
   ],
   "source": [
    "namen"
   ]
  },
  {
   "cell_type": "code",
   "execution_count": 43,
   "id": "c50c3d5d-e82c-4b0d-a222-05ac6ee7b490",
   "metadata": {},
   "outputs": [],
   "source": [
    "namen_2 = namen + ['Jose', 'Mei', 'Thor', 'Mary']"
   ]
  },
  {
   "cell_type": "code",
   "execution_count": 44,
   "id": "ea4b93b6-d28b-447a-a439-2714886ba43d",
   "metadata": {},
   "outputs": [
    {
     "data": {
      "text/plain": [
       "['Tim',\n",
       " 'Nina',\n",
       " 'Sara',\n",
       " 'Alexander',\n",
       " 'Katja',\n",
       " 'John',\n",
       " 'Jose',\n",
       " 'Mei',\n",
       " 'Thor',\n",
       " 'Mary']"
      ]
     },
     "execution_count": 44,
     "metadata": {},
     "output_type": "execute_result"
    }
   ],
   "source": [
    "namen_2"
   ]
  },
  {
   "cell_type": "code",
   "execution_count": 45,
   "id": "066b5133-8ae0-43db-a7a0-b8e7ab99a1d8",
   "metadata": {},
   "outputs": [],
   "source": [
    "gruppe = []"
   ]
  },
  {
   "cell_type": "code",
   "execution_count": 46,
   "id": "16778169-1241-41c7-838c-115996424e2f",
   "metadata": {},
   "outputs": [],
   "source": [
    "for name in namen_2:\n",
    "    person = {}\n",
    "    person['name'] = name\n",
    "    person['alter'] = len(name) * 5\n",
    "    if 'a' in name:\n",
    "        person['haustier'] = 'Hund'\n",
    "    else: \n",
    "        person['haustier'] = 'Katze'\n",
    "    gruppe.append(person)"
   ]
  },
  {
   "cell_type": "code",
   "execution_count": 47,
   "id": "c569d74b-6af9-450c-af7c-d453ba90f89a",
   "metadata": {},
   "outputs": [
    {
     "name": "stdout",
     "output_type": "stream",
     "text": [
      "dict_keys(['name', 'alter', 'haustier']) dict_values(['Tim', 15, 'Katze'])\n",
      "dict_keys(['name', 'alter', 'haustier']) dict_values(['Nina', 20, 'Hund'])\n",
      "dict_keys(['name', 'alter', 'haustier']) dict_values(['Sara', 20, 'Hund'])\n",
      "dict_keys(['name', 'alter', 'haustier']) dict_values(['Alexander', 45, 'Hund'])\n",
      "dict_keys(['name', 'alter', 'haustier']) dict_values(['Katja', 25, 'Hund'])\n",
      "dict_keys(['name', 'alter', 'haustier']) dict_values(['John', 20, 'Katze'])\n",
      "dict_keys(['name', 'alter', 'haustier']) dict_values(['Jose', 20, 'Katze'])\n",
      "dict_keys(['name', 'alter', 'haustier']) dict_values(['Mei', 15, 'Katze'])\n",
      "dict_keys(['name', 'alter', 'haustier']) dict_values(['Thor', 20, 'Katze'])\n",
      "dict_keys(['name', 'alter', 'haustier']) dict_values(['Mary', 20, 'Hund'])\n"
     ]
    }
   ],
   "source": [
    "for person in gruppe:\n",
    "    print(person.keys(), person.values())"
   ]
  },
  {
   "cell_type": "code",
   "execution_count": 48,
   "id": "7f3a2495-45f8-41f6-a373-c8b2b6bb19db",
   "metadata": {},
   "outputs": [
    {
     "name": "stdout",
     "output_type": "stream",
     "text": [
      "Tim ist 15 Jahre alt und hat eine Katze.\n",
      "Nina ist 20 Jahre alt und hat einen Hund.\n",
      "Sara ist 20 Jahre alt und hat einen Hund.\n",
      "Alexander ist 45 Jahre alt und hat einen Hund.\n",
      "Katja ist 25 Jahre alt und hat einen Hund.\n",
      "John ist 20 Jahre alt und hat eine Katze.\n",
      "Jose ist 20 Jahre alt und hat eine Katze.\n",
      "Mei ist 15 Jahre alt und hat eine Katze.\n",
      "Thor ist 20 Jahre alt und hat eine Katze.\n",
      "Mary ist 20 Jahre alt und hat einen Hund.\n"
     ]
    }
   ],
   "source": [
    "for person in gruppe:\n",
    "    if person['haustier'] == 'Hund':\n",
    "        art = 'einen'\n",
    "    else:\n",
    "        art = 'eine'\n",
    "    print(f'{person['name']} ist {person['alter']} Jahre alt und hat {art} {person['haustier']}.')"
   ]
  }
 ],
 "metadata": {
  "kernelspec": {
   "display_name": "datasci",
   "language": "python",
   "name": "python3"
  },
  "language_info": {
   "codemirror_mode": {
    "name": "ipython",
    "version": 3
   },
   "file_extension": ".py",
   "mimetype": "text/x-python",
   "name": "python",
   "nbconvert_exporter": "python",
   "pygments_lexer": "ipython3",
   "version": "3.13.0"
  }
 },
 "nbformat": 4,
 "nbformat_minor": 5
}
