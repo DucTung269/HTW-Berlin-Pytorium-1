{
 "cells": [
  {
   "cell_type": "markdown",
   "metadata": {},
   "source": [
    "# 2.3 Aufgaben\n",
    "Diese Aufgaben sind länger als Lernzielkontrolle und fassen alle Themen aus 2.3 zusammen.\n",
    "Lösen Sie diese Aufgabe in VS Code oder in Jupyter Notebook."
   ]
  },
  {
   "cell_type": "markdown",
   "metadata": {},
   "source": [
    "## Aufgabe 1"
   ]
  },
  {
   "cell_type": "markdown",
   "metadata": {},
   "source": [
    "### 1.1 Definieren Sie eine Funktion, die eine Begrüßung ausdruckt."
   ]
  },
  {
   "cell_type": "code",
   "execution_count": 1,
   "metadata": {},
   "outputs": [],
   "source": [
    "def hallo():\n",
    "    print('Hallo!')"
   ]
  },
  {
   "cell_type": "code",
   "execution_count": 2,
   "metadata": {},
   "outputs": [
    {
     "name": "stdout",
     "output_type": "stream",
     "text": [
      "Hallo!\n"
     ]
    }
   ],
   "source": [
    "hallo()"
   ]
  },
  {
   "cell_type": "markdown",
   "metadata": {},
   "source": [
    "### 1.2 Erweitern Sie die Funktion, sodass die Begrüßung einen Name enthält."
   ]
  },
  {
   "cell_type": "code",
   "execution_count": 3,
   "metadata": {},
   "outputs": [],
   "source": [
    "def hallo_name(name):\n",
    "    print(f'Hallo, {name}!')"
   ]
  },
  {
   "cell_type": "code",
   "execution_count": 4,
   "metadata": {},
   "outputs": [
    {
     "name": "stdout",
     "output_type": "stream",
     "text": [
      "Hallo, Helena!\n"
     ]
    }
   ],
   "source": [
    "hallo_name('Helena')"
   ]
  },
  {
   "cell_type": "markdown",
   "metadata": {},
   "source": [
    "### 1.3 Erweitern Sie die Funktion mit einer Bedingung, ob jemend gesiezt oder geduzt wird."
   ]
  },
  {
   "cell_type": "code",
   "execution_count": 5,
   "metadata": {},
   "outputs": [],
   "source": [
    "def hallo_name_1(vorname, nachname, anrede, hkf='duzen'):\n",
    "    match hkf: # Höflichkeitsform\n",
    "        case 'duzen':\n",
    "            print(f'Hallo, {vorname}!')\n",
    "        case 'siezen':\n",
    "            print(f'Guten Tag, {anrede} {nachname}!')"
   ]
  },
  {
   "cell_type": "code",
   "execution_count": 6,
   "metadata": {},
   "outputs": [
    {
     "name": "stdout",
     "output_type": "stream",
     "text": [
      "Guten Tag, Herr Gates!\n"
     ]
    }
   ],
   "source": [
    "hallo_name_1('Bill', 'Gates', 'Herr', 'siezen')"
   ]
  },
  {
   "cell_type": "markdown",
   "metadata": {},
   "source": [
    "## Aufgabe 2"
   ]
  },
  {
   "cell_type": "markdown",
   "metadata": {},
   "source": [
    "### 2.1 Definieren Sie eine Funktion, die die Fläche einen Kreis zurückgibt."
   ]
  },
  {
   "cell_type": "markdown",
   "metadata": {},
   "source": [
    "$ A = \\pi r^2 $"
   ]
  },
  {
   "cell_type": "code",
   "execution_count": 3,
   "metadata": {},
   "outputs": [],
   "source": [
    "from math import pi\n",
    "def kreis_flaeche(rad):\n",
    "    return pi * rad ** 2"
   ]
  },
  {
   "cell_type": "code",
   "execution_count": 4,
   "metadata": {},
   "outputs": [
    {
     "data": {
      "text/plain": [
       "12.566370614359172"
      ]
     },
     "execution_count": 4,
     "metadata": {},
     "output_type": "execute_result"
    }
   ],
   "source": [
    "kreis_flaeche(2)"
   ]
  },
  {
   "cell_type": "markdown",
   "metadata": {},
   "source": [
    "### 2.2 Erweitern Sie die Funktion mit einer Farbe- und Muster-Parameter. Drucken Sie die neuen Parameter aus."
   ]
  },
  {
   "cell_type": "code",
   "execution_count": 7,
   "metadata": {},
   "outputs": [],
   "source": [
    "def kreis_flaeche_1(rad, farbe, muster):\n",
    "    print(farbe, muster)\n",
    "    return pi * rad ** 2"
   ]
  },
  {
   "cell_type": "code",
   "execution_count": 8,
   "metadata": {},
   "outputs": [
    {
     "name": "stdout",
     "output_type": "stream",
     "text": [
      "rot Streifen\n"
     ]
    }
   ],
   "source": [
    "mein_kreis = kreis_flaeche_1(2, 'rot', 'Streifen')"
   ]
  },
  {
   "cell_type": "code",
   "execution_count": 9,
   "metadata": {},
   "outputs": [
    {
     "data": {
      "text/plain": [
       "12.566370614359172"
      ]
     },
     "execution_count": 9,
     "metadata": {},
     "output_type": "execute_result"
    }
   ],
   "source": [
    "mein_kreis"
   ]
  },
  {
   "cell_type": "markdown",
   "metadata": {},
   "source": [
    "### 2.3 Ändern Sie die Funktion, sodass die Funktion noch die Fläche zurückgibt, aber auch einen vernünftigen Satzt ausdrückt, wenn aufgegeruft."
   ]
  },
  {
   "cell_type": "code",
   "execution_count": 12,
   "metadata": {},
   "outputs": [],
   "source": [
    "def kreis_flaeche_1(rad, farbe, muster):\n",
    "    \n",
    "    print(f'Der Kreis ist {farbe} und hat {muster}.')    \n",
    "    \n",
    "    return pi * rad ** 2"
   ]
  },
  {
   "cell_type": "code",
   "execution_count": 13,
   "metadata": {},
   "outputs": [
    {
     "name": "stdout",
     "output_type": "stream",
     "text": [
      "Der Kreis ist rot und hat Streifen.\n"
     ]
    }
   ],
   "source": [
    "mein_kreis = kreis_flaeche_1(2, 'rot', 'Streifen')"
   ]
  },
  {
   "cell_type": "code",
   "execution_count": 14,
   "metadata": {},
   "outputs": [
    {
     "data": {
      "text/plain": [
       "12.566370614359172"
      ]
     },
     "execution_count": 14,
     "metadata": {},
     "output_type": "execute_result"
    }
   ],
   "source": [
    "mein_kreis"
   ]
  },
  {
   "cell_type": "markdown",
   "metadata": {},
   "source": [
    "## Aufgabe 3\n"
   ]
  },
  {
   "cell_type": "markdown",
   "metadata": {},
   "source": [
    "### 3.1 Definieren Sie eine Funktion, die die Kovarianz zweier Zufallsvariablen berechnet."
   ]
  },
  {
   "cell_type": "code",
   "execution_count": 3,
   "metadata": {},
   "outputs": [],
   "source": [
    "def kov(x, y):\n",
    "    Ex = sum(x) / len(x)\n",
    "    Ey = sum(y) / len(y)\n",
    "\n",
    "    xy = [x * y for x, y in zip(x,y)] # Liste-Comprehension\n",
    "\n",
    "    Exy = sum(xy) / len(xy)\n",
    "\n",
    "    return round(Exy - Ex * Ey,2)"
   ]
  },
  {
   "cell_type": "code",
   "execution_count": 4,
   "metadata": {},
   "outputs": [
    {
     "data": {
      "text/plain": [
       "1.25"
      ]
     },
     "execution_count": 4,
     "metadata": {},
     "output_type": "execute_result"
    }
   ],
   "source": [
    "kov([5,1,2,3], [3,0,4,5])"
   ]
  },
  {
   "cell_type": "markdown",
   "metadata": {},
   "source": [
    "### 3.2 Wie Können Sie die Funktion erweitern, damit sie eine beliebige Anzahl von Zufallsvariablen berechnen kann? Erweitern Sie die Funktion.\n"
   ]
  },
  {
   "cell_type": "code",
   "execution_count": 7,
   "metadata": {},
   "outputs": [],
   "source": [
    "def kov_mat(*args):\n",
    "    # Liste-Comprehension um einzigarg Liste zu erzeugen\n",
    "    # [0] * 2 ist zweimal die gleiche Liste\n",
    "    temp = [ [ 0 for _ in range(0,len(args)) ] for _ in range(0,len(args))]\n",
    "    \n",
    "    for i in range(0,len(args)):\n",
    "\n",
    "        for j in range(0,len(args)):\n",
    "            print(f'Index: ({i}, {j})')\n",
    "            temp[i][j] = kov(args[i], args[j])\n",
    "\n",
    "    for row in temp:\n",
    "        print(row)\n",
    "\n",
    "    return temp"
   ]
  },
  {
   "cell_type": "code",
   "execution_count": 8,
   "metadata": {},
   "outputs": [
    {
     "name": "stdout",
     "output_type": "stream",
     "text": [
      "Index: (0, 0)\n",
      "Index: (0, 1)\n",
      "Index: (0, 2)\n",
      "Index: (1, 0)\n",
      "Index: (1, 1)\n",
      "Index: (1, 2)\n",
      "Index: (2, 0)\n",
      "Index: (2, 1)\n",
      "Index: (2, 2)\n",
      "[2.19, 1.25, -5.56]\n",
      "[1.25, 3.5, -6.25]\n",
      "[-5.56, -6.25, 19.69]\n"
     ]
    },
    {
     "data": {
      "text/plain": [
       "[[2.19, 1.25, -5.56], [1.25, 3.5, -6.25], [-5.56, -6.25, 19.69]]"
      ]
     },
     "execution_count": 8,
     "metadata": {},
     "output_type": "execute_result"
    }
   ],
   "source": [
    "kov_mat([5,1,2,3], [3,0,4,5], [0,12,3,4])"
   ]
  },
  {
   "cell_type": "markdown",
   "metadata": {},
   "source": [
    "## Aufgabe 4"
   ]
  },
  {
   "cell_type": "markdown",
   "metadata": {},
   "source": [
    "### 4.1 Definieren Sie eine Funktion 'mein_dictionary', mit der ein Benutzer eine beliebige dict bauen kann.\n",
    "1. Mit input() kann man Eingaben von Benutzer*innen bekommen.\n",
    "2. Erlauben Sie keine Python-Fehler, die das Verfahren unterbrechen.\n",
    "3. Keine Schlüssel oder Werte sollte leer sein.\n",
    "\n",
    "Hinweise:\n",
    "Eine while-Schleife mit input() ist notwendig, um diese Aufgabe zu schaffen."
   ]
  },
  {
   "cell_type": "code",
   "execution_count": 65,
   "metadata": {},
   "outputs": [],
   "source": [
    "def mein_dictionary(**kwargs):\n",
    "    anzahl = ''\n",
    "    while anzahl == '':\n",
    "        try:\n",
    "            anzahl = int(input('Anzahl von Einträge[1-5]: '))\n",
    "            if anzahl > 5:\n",
    "                print(f'{anzahl} ist zu groß! Nur sechs Einträge sind erlaubt.')\n",
    "                anzahl = ''\n",
    "            if anzahl < 1:\n",
    "                print(f'Bitte geben Sie eine Zahl großer als Null.')\n",
    "                anzahl = ''\n",
    "        except:\n",
    "            anzahl = ''\n",
    "    for i in range(1, anzahl+1):\n",
    "        k = v = ''\n",
    "        while k == '' or k in kwargs.keys():\n",
    "            k = input(f'Schlüssel({i}): ').capitalize().strip()\n",
    "        while v == '':\n",
    "            v = input(f'Wert({i}): ').strip()\n",
    "        kwargs[k] = v\n",
    "    \n",
    "    for key, value in kwargs.items():\n",
    "        print(f'{key}: {value}')\n",
    "\n",
    "    return kwargs"
   ]
  },
  {
   "cell_type": "code",
   "execution_count": 66,
   "metadata": {},
   "outputs": [
    {
     "name": "stdout",
     "output_type": "stream",
     "text": [
      "Name: Helena\n",
      "Alter: 45\n",
      "Beruf: lehrerin\n"
     ]
    }
   ],
   "source": [
    "neu_dict = mein_dictionary()"
   ]
  },
  {
   "cell_type": "code",
   "execution_count": 67,
   "metadata": {},
   "outputs": [
    {
     "data": {
      "text/plain": [
       "dict_items([('Name', 'Helena'), ('Alter', '45'), ('Beruf', 'lehrerin')])"
      ]
     },
     "execution_count": 67,
     "metadata": {},
     "output_type": "execute_result"
    }
   ],
   "source": [
    "neu_dict.items()"
   ]
  }
 ],
 "metadata": {
  "kernelspec": {
   "display_name": "datasci",
   "language": "python",
   "name": "python3"
  },
  "language_info": {
   "codemirror_mode": {
    "name": "ipython",
    "version": 3
   },
   "file_extension": ".py",
   "mimetype": "text/x-python",
   "name": "python",
   "nbconvert_exporter": "python",
   "pygments_lexer": "ipython3",
   "version": "3.13.0"
  }
 },
 "nbformat": 4,
 "nbformat_minor": 2
}
