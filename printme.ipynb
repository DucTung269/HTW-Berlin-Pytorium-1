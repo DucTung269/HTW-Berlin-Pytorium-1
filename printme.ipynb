{
 "cells": [
  {
   "cell_type": "code",
   "execution_count": 1,
   "metadata": {},
   "outputs": [
    {
     "name": "stdout",
     "output_type": "stream",
     "text": [
      "HI\n"
     ]
    }
   ],
   "source": [
    "print('HI')"
   ]
  },
  {
   "cell_type": "code",
   "execution_count": 3,
   "metadata": {},
   "outputs": [
    {
     "name": "stdout",
     "output_type": "stream",
     "text": [
      "Microsoft Windows [Version 10.0.26100.2314]\n",
      "(c) Microsoft Corporation. All rights reserved.\n",
      "\n",
      "$[pat] c:\\Users\\pat_h\\OneDrive\\p-spohr-repos\\HTW-Berlin-Pytorium > py .\\runme.py\n",
      "100\n",
      "\n",
      "$[pat] c:\\Users\\pat_h\\OneDrive\\p-spohr-repos\\HTW-Berlin-Pytorium > "
     ]
    }
   ],
   "source": [
    "%%cmd\n",
    "py .\\runme.py"
   ]
  },
  {
   "cell_type": "code",
   "execution_count": null,
   "metadata": {},
   "outputs": [],
   "source": []
  }
 ],
 "metadata": {
  "kernelspec": {
   "display_name": "Python 3",
   "language": "python",
   "name": "python3"
  },
  "language_info": {
   "codemirror_mode": {
    "name": "ipython",
    "version": 3
   },
   "file_extension": ".py",
   "mimetype": "text/x-python",
   "name": "python",
   "nbconvert_exporter": "python",
   "pygments_lexer": "ipython3",
   "version": "3.13.0"
  }
 },
 "nbformat": 4,
 "nbformat_minor": 4
}
