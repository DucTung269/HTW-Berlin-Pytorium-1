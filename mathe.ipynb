{
 "cells": [
  {
   "cell_type": "code",
   "execution_count": null,
   "id": "418c41f6-bc06-47d3-9b04-605c61adbebf",
   "metadata": {},
   "outputs": [],
   "source": []
  },
  {
   "cell_type": "code",
   "execution_count": null,
   "id": "dbed6e03-3dd6-4902-bab5-4f447284019d",
   "metadata": {},
   "outputs": [],
   "source": []
  },
  {
   "cell_type": "code",
   "execution_count": null,
   "id": "51d5f007-6cf3-44ae-b175-d11edef5d318",
   "metadata": {},
   "outputs": [],
   "source": [
    "1 + 1"
   ]
  },
  {
   "cell_type": "code",
   "execution_count": 16,
   "id": "5be94bbd-2166-45b6-919f-a6804987a161",
   "metadata": {},
   "outputs": [
    {
     "data": {
      "text/plain": [
       "'h'"
      ]
     },
     "execution_count": 16,
     "metadata": {},
     "output_type": "execute_result"
    }
   ],
   "source": [
    "'hi'[0]"
   ]
  },
  {
   "cell_type": "code",
   "execution_count": 17,
   "id": "1f1323c9-7cc4-42a4-aa14-cbe6f2bd2188",
   "metadata": {},
   "outputs": [
    {
     "data": {
      "text/plain": [
       "False"
      ]
     },
     "execution_count": 17,
     "metadata": {},
     "output_type": "execute_result"
    }
   ],
   "source": [
    "'45390'[3] == 9"
   ]
  },
  {
   "cell_type": "code",
   "execution_count": 18,
   "id": "f1107b0f-f75d-4bf3-baca-d7849e000f51",
   "metadata": {},
   "outputs": [
    {
     "data": {
      "text/plain": [
       "'9'"
      ]
     },
     "execution_count": 18,
     "metadata": {},
     "output_type": "execute_result"
    }
   ],
   "source": [
    "'45390'[3]"
   ]
  },
  {
   "cell_type": "code",
   "execution_count": 19,
   "id": "a98575f6-3ab1-42c5-b330-49f8063c0902",
   "metadata": {},
   "outputs": [
    {
     "data": {
      "text/plain": [
       "False"
      ]
     },
     "execution_count": 19,
     "metadata": {},
     "output_type": "execute_result"
    }
   ],
   "source": [
    "'9' == 9"
   ]
  },
  {
   "cell_type": "code",
   "execution_count": 20,
   "id": "6261031a-ae33-47f0-a306-ef7d5ad8d15d",
   "metadata": {},
   "outputs": [
    {
     "data": {
      "text/plain": [
       "'55'"
      ]
     },
     "execution_count": 20,
     "metadata": {},
     "output_type": "execute_result"
    }
   ],
   "source": [
    "'5' + '5'"
   ]
  },
  {
   "cell_type": "code",
   "execution_count": 22,
   "id": "9a7fe9b5-17c5-4796-995c-4c463eefcdae",
   "metadata": {},
   "outputs": [
    {
     "data": {
      "text/plain": [
       "'Ich bin Patrick'"
      ]
     },
     "execution_count": 22,
     "metadata": {},
     "output_type": "execute_result"
    }
   ],
   "source": [
    "'Ich' + ' ' + 'bin' + ' ' + 'Patrick'"
   ]
  },
  {
   "cell_type": "code",
   "execution_count": 23,
   "id": "3a26bf01-09d7-4407-a583-dd49366fc316",
   "metadata": {},
   "outputs": [],
   "source": [
    "alter = 30"
   ]
  },
  {
   "cell_type": "code",
   "execution_count": 24,
   "id": "534dba96-9771-4733-8b64-e1e1fb5caa75",
   "metadata": {},
   "outputs": [
    {
     "name": "stdout",
     "output_type": "stream",
     "text": [
      "30\n"
     ]
    }
   ],
   "source": [
    "print(alter)"
   ]
  },
  {
   "cell_type": "code",
   "execution_count": 25,
   "id": "0bd26463-d35b-4e32-88e0-a64d1947348d",
   "metadata": {},
   "outputs": [
    {
     "ename": "TypeError",
     "evalue": "can only concatenate str (not \"int\") to str",
     "output_type": "error",
     "traceback": [
      "\u001b[1;31m---------------------------------------------------------------------------\u001b[0m",
      "\u001b[1;31mTypeError\u001b[0m                                 Traceback (most recent call last)",
      "Cell \u001b[1;32mIn[25], line 1\u001b[0m\n\u001b[1;32m----> 1\u001b[0m \u001b[38;5;124;43m'\u001b[39;49m\u001b[38;5;124;43mIch\u001b[39;49m\u001b[38;5;124;43m'\u001b[39;49m\u001b[43m \u001b[49m\u001b[38;5;241;43m+\u001b[39;49m\u001b[43m \u001b[49m\u001b[38;5;124;43m'\u001b[39;49m\u001b[38;5;124;43m \u001b[39;49m\u001b[38;5;124;43m'\u001b[39;49m\u001b[43m \u001b[49m\u001b[38;5;241;43m+\u001b[39;49m\u001b[43m \u001b[49m\u001b[38;5;124;43m'\u001b[39;49m\u001b[38;5;124;43mbin\u001b[39;49m\u001b[38;5;124;43m'\u001b[39;49m\u001b[43m \u001b[49m\u001b[38;5;241;43m+\u001b[39;49m\u001b[43m \u001b[49m\u001b[38;5;124;43m'\u001b[39;49m\u001b[38;5;124;43m \u001b[39;49m\u001b[38;5;124;43m'\u001b[39;49m\u001b[43m \u001b[49m\u001b[38;5;241;43m+\u001b[39;49m\u001b[43m \u001b[49m\u001b[43malter\u001b[49m\n",
      "\u001b[1;31mTypeError\u001b[0m: can only concatenate str (not \"int\") to str"
     ]
    }
   ],
   "source": [
    "'Ich' + ' ' + 'bin' + ' ' + alter"
   ]
  },
  {
   "cell_type": "code",
   "execution_count": 26,
   "id": "89082dde-faa6-455c-af6c-81402f68547e",
   "metadata": {},
   "outputs": [
    {
     "data": {
      "text/plain": [
       "int"
      ]
     },
     "execution_count": 26,
     "metadata": {},
     "output_type": "execute_result"
    }
   ],
   "source": [
    "type(alter)"
   ]
  },
  {
   "cell_type": "code",
   "execution_count": 27,
   "id": "5fbfdd83-311a-4355-a72c-ebda228a5186",
   "metadata": {},
   "outputs": [
    {
     "data": {
      "text/plain": [
       "str"
      ]
     },
     "execution_count": 27,
     "metadata": {},
     "output_type": "execute_result"
    }
   ],
   "source": [
    "type('Ich')"
   ]
  },
  {
   "cell_type": "code",
   "execution_count": 30,
   "id": "088872d1-1b91-471b-87cc-01de5869325c",
   "metadata": {},
   "outputs": [
    {
     "data": {
      "text/plain": [
       "float"
      ]
     },
     "execution_count": 30,
     "metadata": {},
     "output_type": "execute_result"
    }
   ],
   "source": [
    "type(1 / 2)"
   ]
  },
  {
   "cell_type": "code",
   "execution_count": 33,
   "id": "19009aab-3183-4ba7-9b2e-491b6a1e0ffb",
   "metadata": {},
   "outputs": [
    {
     "data": {
      "text/plain": [
       "int"
      ]
     },
     "execution_count": 33,
     "metadata": {},
     "output_type": "execute_result"
    }
   ],
   "source": [
    "type(1)"
   ]
  },
  {
   "cell_type": "code",
   "execution_count": 35,
   "id": "dbd91f73-9900-4e3b-8605-5222f5a0b10c",
   "metadata": {},
   "outputs": [
    {
     "data": {
      "text/plain": [
       "'Ich bin 30'"
      ]
     },
     "execution_count": 35,
     "metadata": {},
     "output_type": "execute_result"
    }
   ],
   "source": [
    "'Ich' + ' ' + 'bin' + ' ' + str(alter)"
   ]
  },
  {
   "cell_type": "code",
   "execution_count": 36,
   "id": "6a5443d5-c9d9-48b2-8174-b22414a02509",
   "metadata": {},
   "outputs": [],
   "source": [
    "name = 'Patrick'"
   ]
  },
  {
   "cell_type": "code",
   "execution_count": 38,
   "id": "a9f38f88-ad6a-4267-8673-141ae7c2c66e",
   "metadata": {},
   "outputs": [
    {
     "data": {
      "text/plain": [
       "'PATRICK'"
      ]
     },
     "execution_count": 38,
     "metadata": {},
     "output_type": "execute_result"
    }
   ],
   "source": [
    "name.upper()"
   ]
  },
  {
   "cell_type": "code",
   "execution_count": 39,
   "id": "679213f4-8ea1-4fcb-84ee-83f743615805",
   "metadata": {},
   "outputs": [
    {
     "data": {
      "text/plain": [
       "int"
      ]
     },
     "execution_count": 39,
     "metadata": {},
     "output_type": "execute_result"
    }
   ],
   "source": [
    "type(alter)"
   ]
  },
  {
   "cell_type": "code",
   "execution_count": 40,
   "id": "dc5685a8-d742-45ae-aebe-c97bf1de0e2e",
   "metadata": {},
   "outputs": [
    {
     "data": {
      "text/plain": [
       "'Patrick'"
      ]
     },
     "execution_count": 40,
     "metadata": {},
     "output_type": "execute_result"
    }
   ],
   "source": [
    "'Pat' + 'rick'"
   ]
  },
  {
   "cell_type": "code",
   "execution_count": 41,
   "id": "dbe8beac-b608-41f0-95bd-5fac2a5b06e7",
   "metadata": {},
   "outputs": [
    {
     "data": {
      "text/plain": [
       "True"
      ]
     },
     "execution_count": 41,
     "metadata": {},
     "output_type": "execute_result"
    }
   ],
   "source": [
    "5 == int('5')"
   ]
  },
  {
   "cell_type": "code",
   "execution_count": 42,
   "id": "75eb715f-d7ab-41c8-8aed-2da142a78d05",
   "metadata": {},
   "outputs": [
    {
     "data": {
      "text/plain": [
       "'Patrick ist 30'"
      ]
     },
     "execution_count": 42,
     "metadata": {},
     "output_type": "execute_result"
    }
   ],
   "source": [
    "name + ' ist ' + str(alter)"
   ]
  },
  {
   "cell_type": "code",
   "execution_count": 43,
   "id": "6bb81401-07ae-446e-859a-59c31e9a07ea",
   "metadata": {},
   "outputs": [
    {
     "data": {
      "text/plain": [
       "str"
      ]
     },
     "execution_count": 43,
     "metadata": {},
     "output_type": "execute_result"
    }
   ],
   "source": [
    "type('5')"
   ]
  },
  {
   "cell_type": "code",
   "execution_count": 45,
   "id": "5fc529e0-0b8a-4bca-8f07-c4b3d78a51a8",
   "metadata": {},
   "outputs": [
    {
     "data": {
      "text/plain": [
       "10"
      ]
     },
     "execution_count": 45,
     "metadata": {},
     "output_type": "execute_result"
    }
   ],
   "source": [
    "int('5') * 2"
   ]
  },
  {
   "cell_type": "code",
   "execution_count": 49,
   "id": "5ae0b7ce-1f29-4323-8980-d4e932525624",
   "metadata": {},
   "outputs": [],
   "source": [
    "y = 5"
   ]
  },
  {
   "cell_type": "code",
   "execution_count": 51,
   "id": "4c16c81c-9df0-480e-bc0e-fbb901e8a7ae",
   "metadata": {},
   "outputs": [
    {
     "data": {
      "text/plain": [
       "True"
      ]
     },
     "execution_count": 51,
     "metadata": {},
     "output_type": "execute_result"
    }
   ],
   "source": [
    "y == 5"
   ]
  },
  {
   "cell_type": "code",
   "execution_count": 52,
   "id": "b4fdf422-4462-44e8-9bc8-cf53f119ed0c",
   "metadata": {},
   "outputs": [
    {
     "data": {
      "text/plain": [
       "True"
      ]
     },
     "execution_count": 52,
     "metadata": {},
     "output_type": "execute_result"
    }
   ],
   "source": [
    "5 == 5"
   ]
  },
  {
   "cell_type": "code",
   "execution_count": 53,
   "id": "873587bf-367d-4583-b17f-81ebc1dbf29e",
   "metadata": {},
   "outputs": [
    {
     "data": {
      "text/plain": [
       "False"
      ]
     },
     "execution_count": 53,
     "metadata": {},
     "output_type": "execute_result"
    }
   ],
   "source": [
    "5 == 4."
   ]
  },
  {
   "cell_type": "code",
   "execution_count": 59,
   "id": "1ea1ed13-f1bb-445c-86f1-dd0025a56e17",
   "metadata": {},
   "outputs": [
    {
     "data": {
      "text/plain": [
       "True"
      ]
     },
     "execution_count": 59,
     "metadata": {},
     "output_type": "execute_result"
    }
   ],
   "source": [
    "'pat' == 'PAT'.lower()"
   ]
  },
  {
   "cell_type": "code",
   "execution_count": 61,
   "id": "1acf720d-0358-4d32-b9c3-b2a01d7334ca",
   "metadata": {},
   "outputs": [
    {
     "data": {
      "text/plain": [
       "'pat'"
      ]
     },
     "execution_count": 61,
     "metadata": {},
     "output_type": "execute_result"
    }
   ],
   "source": [
    "'PAT'.lower()"
   ]
  },
  {
   "cell_type": "code",
   "execution_count": 63,
   "id": "362ec304-5c13-4f10-a010-32feb129b4bf",
   "metadata": {},
   "outputs": [],
   "source": [
    "num = '4'"
   ]
  },
  {
   "cell_type": "code",
   "execution_count": 64,
   "id": "8e5f4337-5808-42ab-a236-30c0ca730ac8",
   "metadata": {},
   "outputs": [
    {
     "data": {
      "text/plain": [
       "'4'"
      ]
     },
     "execution_count": 64,
     "metadata": {},
     "output_type": "execute_result"
    }
   ],
   "source": [
    "num.upper()"
   ]
  },
  {
   "cell_type": "code",
   "execution_count": 65,
   "id": "ccd418c0-f078-47a9-ab34-7ce23f2f4df0",
   "metadata": {},
   "outputs": [
    {
     "data": {
      "text/plain": [
       "'R'"
      ]
     },
     "execution_count": 65,
     "metadata": {},
     "output_type": "execute_result"
    }
   ],
   "source": [
    "'r'.upper()"
   ]
  },
  {
   "cell_type": "code",
   "execution_count": 67,
   "id": "1d2940b9-bd2e-4906-a327-9b4e06686ba6",
   "metadata": {},
   "outputs": [
    {
     "data": {
      "text/plain": [
       "str"
      ]
     },
     "execution_count": 67,
     "metadata": {},
     "output_type": "execute_result"
    }
   ],
   "source": [
    "type(str(int('9')))"
   ]
  },
  {
   "cell_type": "code",
   "execution_count": 68,
   "id": "aac69caa-514d-48f3-8778-5e61ae894f20",
   "metadata": {},
   "outputs": [
    {
     "data": {
      "text/plain": [
       "True"
      ]
     },
     "execution_count": 68,
     "metadata": {},
     "output_type": "execute_result"
    }
   ],
   "source": [
    "True"
   ]
  },
  {
   "cell_type": "code",
   "execution_count": 70,
   "id": "61c38274-9fb8-4339-a6ba-f86da3d9f660",
   "metadata": {},
   "outputs": [
    {
     "data": {
      "text/plain": [
       "False"
      ]
     },
     "execution_count": 70,
     "metadata": {},
     "output_type": "execute_result"
    }
   ],
   "source": [
    "True == False"
   ]
  },
  {
   "cell_type": "code",
   "execution_count": 71,
   "id": "76913653-0fb8-42de-b94b-e1c868bac228",
   "metadata": {},
   "outputs": [
    {
     "data": {
      "text/plain": [
       "False"
      ]
     },
     "execution_count": 71,
     "metadata": {},
     "output_type": "execute_result"
    }
   ],
   "source": [
    "True != True"
   ]
  },
  {
   "cell_type": "code",
   "execution_count": 72,
   "id": "f786c868-5e47-48e0-ac7e-e611d4a271d0",
   "metadata": {},
   "outputs": [
    {
     "data": {
      "text/plain": [
       "False"
      ]
     },
     "execution_count": 72,
     "metadata": {},
     "output_type": "execute_result"
    }
   ],
   "source": [
    "not ((True == False) == False)"
   ]
  },
  {
   "cell_type": "code",
   "execution_count": 73,
   "id": "c9a7f712-3773-4ac6-825e-ecd5d0c8f153",
   "metadata": {},
   "outputs": [
    {
     "data": {
      "text/plain": [
       "False"
      ]
     },
     "execution_count": 73,
     "metadata": {},
     "output_type": "execute_result"
    }
   ],
   "source": [
    "True == False"
   ]
  },
  {
   "cell_type": "code",
   "execution_count": 74,
   "id": "25df95a7-873c-4d91-b5bc-bc996708ab56",
   "metadata": {},
   "outputs": [
    {
     "data": {
      "text/plain": [
       "True"
      ]
     },
     "execution_count": 74,
     "metadata": {},
     "output_type": "execute_result"
    }
   ],
   "source": [
    "False == False"
   ]
  },
  {
   "cell_type": "code",
   "execution_count": 75,
   "id": "a298e3c8-b8f7-4dcb-80ae-eb2fc1e3c1fd",
   "metadata": {},
   "outputs": [
    {
     "data": {
      "text/plain": [
       "False"
      ]
     },
     "execution_count": 75,
     "metadata": {},
     "output_type": "execute_result"
    }
   ],
   "source": [
    "not True"
   ]
  },
  {
   "cell_type": "code",
   "execution_count": 77,
   "id": "c7e28a0d-25dd-447d-93e9-8a7cfeeb48ea",
   "metadata": {},
   "outputs": [
    {
     "data": {
      "text/plain": [
       "list"
      ]
     },
     "execution_count": 77,
     "metadata": {},
     "output_type": "execute_result"
    }
   ],
   "source": [
    "type([])"
   ]
  },
  {
   "cell_type": "code",
   "execution_count": 79,
   "id": "7a79947e-e7db-46f2-a793-94a002a8ed29",
   "metadata": {},
   "outputs": [
    {
     "data": {
      "text/plain": [
       "list"
      ]
     },
     "execution_count": 79,
     "metadata": {},
     "output_type": "execute_result"
    }
   ],
   "source": [
    "type([1,2,3])"
   ]
  },
  {
   "cell_type": "code",
   "execution_count": 81,
   "id": "3496609f-db8a-4245-91f4-e419f21b8693",
   "metadata": {},
   "outputs": [
    {
     "data": {
      "text/plain": [
       "'1'"
      ]
     },
     "execution_count": 81,
     "metadata": {},
     "output_type": "execute_result"
    }
   ],
   "source": [
    "'123'[0]"
   ]
  },
  {
   "cell_type": "code",
   "execution_count": 83,
   "id": "d38f9f2c-8bab-4db1-aaaf-82db3570687a",
   "metadata": {},
   "outputs": [
    {
     "data": {
      "text/plain": [
       "2"
      ]
     },
     "execution_count": 83,
     "metadata": {},
     "output_type": "execute_result"
    }
   ],
   "source": [
    "[1,2,3][1]"
   ]
  },
  {
   "cell_type": "code",
   "execution_count": 85,
   "id": "23a24885-9705-4efa-9b0a-8a77b94ca1dc",
   "metadata": {},
   "outputs": [],
   "source": [
    "namen = ['Patrick', 'Katie', 'Han']"
   ]
  },
  {
   "cell_type": "code",
   "execution_count": 86,
   "id": "bdb6f4a3-9d7f-4d07-895a-187a8809127c",
   "metadata": {},
   "outputs": [
    {
     "data": {
      "text/plain": [
       "list"
      ]
     },
     "execution_count": 86,
     "metadata": {},
     "output_type": "execute_result"
    }
   ],
   "source": [
    "type(namen)"
   ]
  },
  {
   "cell_type": "code",
   "execution_count": 90,
   "id": "e8f80037-e30c-4024-9c08-3694253fb1ab",
   "metadata": {},
   "outputs": [
    {
     "data": {
      "text/plain": [
       "'Pat'"
      ]
     },
     "execution_count": 90,
     "metadata": {},
     "output_type": "execute_result"
    }
   ],
   "source": [
    "namen[0][0:3]"
   ]
  },
  {
   "cell_type": "code",
   "execution_count": 91,
   "id": "c6682b09-6e71-4307-b132-d8772c99cad6",
   "metadata": {},
   "outputs": [
    {
     "data": {
      "text/plain": [
       "'Kat'"
      ]
     },
     "execution_count": 91,
     "metadata": {},
     "output_type": "execute_result"
    }
   ],
   "source": [
    "namen[1][0:3]"
   ]
  },
  {
   "cell_type": "code",
   "execution_count": 92,
   "id": "bca584ec-b42b-4277-a0d2-50a941f9ff71",
   "metadata": {},
   "outputs": [],
   "source": [
    "namen[0] = 'Tom'"
   ]
  },
  {
   "cell_type": "code",
   "execution_count": 93,
   "id": "c97e6b4d-3f66-46e9-bcaf-79f521df5d88",
   "metadata": {},
   "outputs": [
    {
     "data": {
      "text/plain": [
       "['Tom', 'Katie', 'Han']"
      ]
     },
     "execution_count": 93,
     "metadata": {},
     "output_type": "execute_result"
    }
   ],
   "source": [
    "namen"
   ]
  },
  {
   "cell_type": "code",
   "execution_count": 95,
   "id": "b575fa51-835e-4bb2-856f-1c8b2d3b462c",
   "metadata": {},
   "outputs": [
    {
     "data": {
      "text/plain": [
       "tuple"
      ]
     },
     "execution_count": 95,
     "metadata": {},
     "output_type": "execute_result"
    }
   ],
   "source": [
    "type((1,2,3))"
   ]
  },
  {
   "cell_type": "code",
   "execution_count": 96,
   "id": "dbbc71f0-1eb8-4480-bdcb-e0c69952d9f3",
   "metadata": {},
   "outputs": [],
   "source": [
    "tup_namen = ('Bill', 'George', 'Alex')"
   ]
  },
  {
   "cell_type": "code",
   "execution_count": 98,
   "id": "8f28b733-f2f7-42c7-a9ef-00807fc26759",
   "metadata": {},
   "outputs": [
    {
     "data": {
      "text/plain": [
       "'i'"
      ]
     },
     "execution_count": 98,
     "metadata": {},
     "output_type": "execute_result"
    }
   ],
   "source": [
    "tup_namen[0][1]"
   ]
  },
  {
   "cell_type": "code",
   "execution_count": 99,
   "id": "d3034061-5d03-4832-b8dc-bb261443d76a",
   "metadata": {},
   "outputs": [
    {
     "ename": "TypeError",
     "evalue": "'tuple' object does not support item assignment",
     "output_type": "error",
     "traceback": [
      "\u001b[1;31m---------------------------------------------------------------------------\u001b[0m",
      "\u001b[1;31mTypeError\u001b[0m                                 Traceback (most recent call last)",
      "Cell \u001b[1;32mIn[99], line 1\u001b[0m\n\u001b[1;32m----> 1\u001b[0m \u001b[43mtup_namen\u001b[49m\u001b[43m[\u001b[49m\u001b[38;5;241;43m0\u001b[39;49m\u001b[43m]\u001b[49m \u001b[38;5;241m=\u001b[39m \u001b[38;5;124m'\u001b[39m\u001b[38;5;124mPat\u001b[39m\u001b[38;5;124m'\u001b[39m\n",
      "\u001b[1;31mTypeError\u001b[0m: 'tuple' object does not support item assignment"
     ]
    }
   ],
   "source": [
    "tup_namen[0] = 'Pat'"
   ]
  },
  {
   "cell_type": "code",
   "execution_count": 101,
   "id": "dde58c96-fff6-46ab-8831-a8184ac70b80",
   "metadata": {},
   "outputs": [],
   "source": [
    "namen[1] = 'Sara'"
   ]
  },
  {
   "cell_type": "code",
   "execution_count": 102,
   "id": "05f94df3-4ac6-477a-b734-a816272be5b1",
   "metadata": {},
   "outputs": [
    {
     "data": {
      "text/plain": [
       "['Tom', 'Sara', 'Han']"
      ]
     },
     "execution_count": 102,
     "metadata": {},
     "output_type": "execute_result"
    }
   ],
   "source": [
    "namen"
   ]
  },
  {
   "cell_type": "code",
   "execution_count": 109,
   "id": "5d44137e-50a7-479e-b020-dfc1b4c52fed",
   "metadata": {},
   "outputs": [
    {
     "data": {
      "text/plain": [
       "[0, 1, 2, 3, 4, 5, 6, 7, 8, 9, 10]"
      ]
     },
     "execution_count": 109,
     "metadata": {},
     "output_type": "execute_result"
    }
   ],
   "source": [
    "list(range(0,11,1))"
   ]
  },
  {
   "cell_type": "code",
   "execution_count": 110,
   "id": "0a417dcc-d71a-4943-bccf-c7a9c244ab94",
   "metadata": {},
   "outputs": [],
   "source": [
    "namen.append('NEW NAME')"
   ]
  },
  {
   "cell_type": "code",
   "execution_count": 111,
   "id": "74d2ef24-0179-488b-afaa-a6bbae145efc",
   "metadata": {},
   "outputs": [
    {
     "data": {
      "text/plain": [
       "['Tom', 'Sara', 'Han', 'NEW NAME']"
      ]
     },
     "execution_count": 111,
     "metadata": {},
     "output_type": "execute_result"
    }
   ],
   "source": [
    "namen"
   ]
  },
  {
   "cell_type": "code",
   "execution_count": 114,
   "id": "ecdf7fd8-014f-4537-8eb3-a072ad993082",
   "metadata": {},
   "outputs": [],
   "source": [
    "namen = namen + ['Rick']"
   ]
  },
  {
   "cell_type": "code",
   "execution_count": 115,
   "id": "930d9152-b358-487a-a3c2-0391af2e9a9c",
   "metadata": {},
   "outputs": [
    {
     "data": {
      "text/plain": [
       "['Tom', 'Sara', 'Han', 'NEW NAME', 'Rick']"
      ]
     },
     "execution_count": 115,
     "metadata": {},
     "output_type": "execute_result"
    }
   ],
   "source": [
    "namen"
   ]
  },
  {
   "cell_type": "code",
   "execution_count": 116,
   "id": "e10d3a8c-f08c-4558-b6d2-7b1da0b55eb0",
   "metadata": {},
   "outputs": [],
   "source": [
    "namen2 = namen.copy()"
   ]
  },
  {
   "cell_type": "code",
   "execution_count": 119,
   "id": "861c0d1e-eed8-49f6-92e5-2eaf4f1da223",
   "metadata": {},
   "outputs": [],
   "source": [
    "namen2.insert(1, 'Karl')"
   ]
  },
  {
   "cell_type": "code",
   "execution_count": 120,
   "id": "7adfaf64-0ef8-4599-a127-e186cdf0e2b2",
   "metadata": {},
   "outputs": [
    {
     "data": {
      "text/plain": [
       "['Tom', 'Karl', 'Sara', 'Han', 'NEW NAME', 'Rick']"
      ]
     },
     "execution_count": 120,
     "metadata": {},
     "output_type": "execute_result"
    }
   ],
   "source": [
    "namen2"
   ]
  },
  {
   "cell_type": "code",
   "execution_count": 121,
   "id": "85efe238-e503-49ec-9ab1-5b795db04039",
   "metadata": {},
   "outputs": [
    {
     "data": {
      "text/plain": [
       "'Rick'"
      ]
     },
     "execution_count": 121,
     "metadata": {},
     "output_type": "execute_result"
    }
   ],
   "source": [
    "namen2.pop()"
   ]
  },
  {
   "cell_type": "code",
   "execution_count": 122,
   "id": "7ef605bd-5eb4-461e-9e84-5154664fa318",
   "metadata": {},
   "outputs": [
    {
     "data": {
      "text/plain": [
       "['Tom', 'Karl', 'Sara', 'Han', 'NEW NAME']"
      ]
     },
     "execution_count": 122,
     "metadata": {},
     "output_type": "execute_result"
    }
   ],
   "source": [
    "namen2"
   ]
  },
  {
   "cell_type": "code",
   "execution_count": 123,
   "id": "026b2bd5-dab5-4176-9522-b53c66d06768",
   "metadata": {},
   "outputs": [
    {
     "data": {
      "text/plain": [
       "'NEW NAME'"
      ]
     },
     "execution_count": 123,
     "metadata": {},
     "output_type": "execute_result"
    }
   ],
   "source": [
    "namen2.pop()"
   ]
  },
  {
   "cell_type": "code",
   "execution_count": 124,
   "id": "a47db665-cdac-43b0-b9b5-38823f6b4f34",
   "metadata": {},
   "outputs": [
    {
     "data": {
      "text/plain": [
       "['Tom', 'Karl', 'Sara', 'Han']"
      ]
     },
     "execution_count": 124,
     "metadata": {},
     "output_type": "execute_result"
    }
   ],
   "source": [
    "namen2"
   ]
  },
  {
   "cell_type": "code",
   "execution_count": 125,
   "id": "6543a33e-3d3d-4d04-8fc7-87f5f021bfce",
   "metadata": {},
   "outputs": [],
   "source": [
    "mein_freund = namen2.pop()"
   ]
  },
  {
   "cell_type": "code",
   "execution_count": 126,
   "id": "a8f06c7b-a570-4381-9a95-fedc8d991b89",
   "metadata": {},
   "outputs": [
    {
     "data": {
      "text/plain": [
       "'Han'"
      ]
     },
     "execution_count": 126,
     "metadata": {},
     "output_type": "execute_result"
    }
   ],
   "source": [
    "mein_freund"
   ]
  },
  {
   "cell_type": "code",
   "execution_count": 127,
   "id": "77cec5ae-b6ff-45ec-b832-e0b7d62cfbf3",
   "metadata": {},
   "outputs": [
    {
     "data": {
      "text/plain": [
       "3"
      ]
     },
     "execution_count": 127,
     "metadata": {},
     "output_type": "execute_result"
    }
   ],
   "source": [
    "len('000')"
   ]
  },
  {
   "cell_type": "code",
   "execution_count": 128,
   "id": "1f37c4ec-1349-4e2b-9ffb-e7d563db1752",
   "metadata": {},
   "outputs": [
    {
     "data": {
      "text/plain": [
       "3"
      ]
     },
     "execution_count": 128,
     "metadata": {},
     "output_type": "execute_result"
    }
   ],
   "source": [
    "len(namen2)"
   ]
  },
  {
   "cell_type": "code",
   "execution_count": 129,
   "id": "d7c48058-14db-41cf-9671-0a9e187fd597",
   "metadata": {},
   "outputs": [
    {
     "data": {
      "text/plain": [
       "['Tom', 'Karl', 'Sara']"
      ]
     },
     "execution_count": 129,
     "metadata": {},
     "output_type": "execute_result"
    }
   ],
   "source": [
    "namen2"
   ]
  },
  {
   "cell_type": "code",
   "execution_count": 130,
   "id": "8c39737c-e729-429a-9bb0-d33304635df3",
   "metadata": {},
   "outputs": [
    {
     "data": {
      "text/plain": [
       "5"
      ]
     },
     "execution_count": 130,
     "metadata": {},
     "output_type": "execute_result"
    }
   ],
   "source": [
    "len(namen)"
   ]
  },
  {
   "cell_type": "code",
   "execution_count": 131,
   "id": "0bd1e292-2bb0-4f69-9f8c-1bf8fd0d8323",
   "metadata": {},
   "outputs": [
    {
     "data": {
      "text/plain": [
       "['Tom', 'Sara', 'Han', 'NEW NAME', 'Rick']"
      ]
     },
     "execution_count": 131,
     "metadata": {},
     "output_type": "execute_result"
    }
   ],
   "source": [
    "namen"
   ]
  },
  {
   "cell_type": "code",
   "execution_count": 132,
   "id": "cbd9c4a1-d391-4a38-9aef-b897c0c836bc",
   "metadata": {},
   "outputs": [
    {
     "data": {
      "text/plain": [
       "['Tom', 'Karl', 'Sara']"
      ]
     },
     "execution_count": 132,
     "metadata": {},
     "output_type": "execute_result"
    }
   ],
   "source": [
    "namen2"
   ]
  },
  {
   "cell_type": "code",
   "execution_count": 133,
   "id": "a6ab8f04-a221-45f0-a99b-e1b42ebf46f8",
   "metadata": {},
   "outputs": [
    {
     "name": "stdout",
     "output_type": "stream",
     "text": [
      "Tom\n",
      "Karl\n",
      "Sara\n"
     ]
    }
   ],
   "source": [
    "for name in namen2:\n",
    "    print(name)"
   ]
  },
  {
   "cell_type": "code",
   "execution_count": 134,
   "id": "bc49da54-930e-431b-8550-a87ee1c850ac",
   "metadata": {},
   "outputs": [],
   "source": [
    "familie = 'Markson'"
   ]
  },
  {
   "cell_type": "code",
   "execution_count": 136,
   "id": "fd3e85f1-fc37-4e9f-a39b-0be6fd85bff6",
   "metadata": {},
   "outputs": [
    {
     "name": "stdout",
     "output_type": "stream",
     "text": [
      "Tom Markson\n",
      "Karl Markson\n",
      "Sara Markson\n"
     ]
    }
   ],
   "source": [
    "for name in namen2:\n",
    "    print(name, familie)"
   ]
  },
  {
   "cell_type": "code",
   "execution_count": 143,
   "id": "5a2a0660-e97e-49cc-b221-933527c880d0",
   "metadata": {},
   "outputs": [
    {
     "name": "stdout",
     "output_type": "stream",
     "text": [
      "4\n",
      "6\n",
      "8\n",
      "10\n",
      "12\n",
      "14\n",
      "16\n",
      "18\n",
      "20\n"
     ]
    }
   ],
   "source": [
    "for num in range(2,11,1):\n",
    "    print(num * 2)"
   ]
  },
  {
   "cell_type": "code",
   "execution_count": 152,
   "id": "f0a0d463-2708-403d-b105-c4c4896f30a2",
   "metadata": {},
   "outputs": [],
   "source": [
    "gerade_zahl = ['INDEX']"
   ]
  },
  {
   "cell_type": "code",
   "execution_count": 160,
   "id": "b524350b-b959-408d-9c2c-a02d1405619c",
   "metadata": {},
   "outputs": [],
   "source": [
    "for num in range(2,11,1):\n",
    "    gerade_zahl.insert(0, num)"
   ]
  },
  {
   "cell_type": "code",
   "execution_count": 162,
   "id": "266ee2e0-ac77-4de3-a993-0bfc0f3fc8aa",
   "metadata": {},
   "outputs": [],
   "source": [
    "gerade_zahl.clear()"
   ]
  },
  {
   "cell_type": "code",
   "execution_count": 163,
   "id": "be65159d-1d72-4a57-8426-a95d9dfe0776",
   "metadata": {},
   "outputs": [],
   "source": [
    "buchstaben = ['a', 'a', 'b', 'c']"
   ]
  },
  {
   "cell_type": "code",
   "execution_count": 165,
   "id": "326b64cb-5cb4-4658-a001-b199f341df73",
   "metadata": {},
   "outputs": [
    {
     "data": {
      "text/plain": [
       "['c', 'b', 'a']"
      ]
     },
     "execution_count": 165,
     "metadata": {},
     "output_type": "execute_result"
    }
   ],
   "source": [
    "list(set(buchstaben))"
   ]
  },
  {
   "cell_type": "code",
   "execution_count": 166,
   "id": "a0a6bdf5-dfcd-4581-8ab0-349324d0dbd8",
   "metadata": {},
   "outputs": [],
   "source": [
    "mein_dict = {\n",
    "    \"Name\": \"Alice\",\n",
    "    \"Alter\": 30,\n",
    "    \"Stadt\": \"Berlin\"\n",
    "}"
   ]
  },
  {
   "cell_type": "code",
   "execution_count": 168,
   "id": "cc2273c7-fcb5-4ce0-a420-45d850ab78b1",
   "metadata": {},
   "outputs": [
    {
     "data": {
      "text/plain": [
       "dict"
      ]
     },
     "execution_count": 168,
     "metadata": {},
     "output_type": "execute_result"
    }
   ],
   "source": [
    "type(mein_dict)"
   ]
  },
  {
   "cell_type": "code",
   "execution_count": 169,
   "id": "83c293c3-2aa8-46d8-a076-6659a153beb7",
   "metadata": {},
   "outputs": [
    {
     "name": "stdout",
     "output_type": "stream",
     "text": [
      "{'Name': 'Alice', 'Alter': 30, 'Stadt': 'Berlin'}\n"
     ]
    }
   ],
   "source": [
    "print(mein_dict)"
   ]
  },
  {
   "cell_type": "code",
   "execution_count": 172,
   "id": "c5dbe5f9-7884-4bdb-9bcf-eebc1d5d2e7c",
   "metadata": {},
   "outputs": [
    {
     "data": {
      "text/plain": [
       "'A'"
      ]
     },
     "execution_count": 172,
     "metadata": {},
     "output_type": "execute_result"
    }
   ],
   "source": [
    "mein_dict['Name'][0]"
   ]
  },
  {
   "cell_type": "code",
   "execution_count": 173,
   "id": "d1b0390c-114e-4ded-a264-2c4f196a0888",
   "metadata": {},
   "outputs": [
    {
     "data": {
      "text/plain": [
       "dict_keys(['Name', 'Alter', 'Stadt'])"
      ]
     },
     "execution_count": 173,
     "metadata": {},
     "output_type": "execute_result"
    }
   ],
   "source": [
    "mein_dict.keys()"
   ]
  },
  {
   "cell_type": "code",
   "execution_count": 174,
   "id": "85cdf6ee-9bf4-46a9-8ff4-f46b3a2c8c26",
   "metadata": {},
   "outputs": [
    {
     "data": {
      "text/plain": [
       "dict_values(['Alice', 30, 'Berlin'])"
      ]
     },
     "execution_count": 174,
     "metadata": {},
     "output_type": "execute_result"
    }
   ],
   "source": [
    "mein_dict.values()"
   ]
  },
  {
   "cell_type": "code",
   "execution_count": 175,
   "id": "1c976766-75d4-4f05-9530-d4a2490f3324",
   "metadata": {},
   "outputs": [
    {
     "data": {
      "text/plain": [
       "dict_items([('Name', 'Alice'), ('Alter', 30), ('Stadt', 'Berlin')])"
      ]
     },
     "execution_count": 175,
     "metadata": {},
     "output_type": "execute_result"
    }
   ],
   "source": [
    "mein_dict.items()"
   ]
  },
  {
   "cell_type": "code",
   "execution_count": 183,
   "id": "544969a3-0474-49ce-b8ea-5d5f16489a74",
   "metadata": {},
   "outputs": [
    {
     "data": {
      "text/plain": [
       "'Sie ist 30 Jahre und heisst Alice'"
      ]
     },
     "execution_count": 183,
     "metadata": {},
     "output_type": "execute_result"
    }
   ],
   "source": [
    "'Sie ist {0} Jahre und heisst {1}'.format(mein_dict['Alter'], mein_dict['Name'])"
   ]
  },
  {
   "cell_type": "code",
   "execution_count": 184,
   "id": "8cb3e16b-fa98-483c-8958-78561d9fc2f3",
   "metadata": {},
   "outputs": [
    {
     "data": {
      "text/plain": [
       "'Sie ist 30 Jahre und heisst Alice'"
      ]
     },
     "execution_count": 184,
     "metadata": {},
     "output_type": "execute_result"
    }
   ],
   "source": [
    "f'Sie ist {mein_dict['Alter']} Jahre und heisst {mein_dict['Name']}'"
   ]
  },
  {
   "cell_type": "code",
   "execution_count": 187,
   "id": "efe65368-5a85-4095-9fd0-8afe9cf4e278",
   "metadata": {},
   "outputs": [
    {
     "ename": "SyntaxError",
     "evalue": "invalid non-printable character U+00A0 (698643140.py, line 2)",
     "output_type": "error",
     "traceback": [
      "\u001b[1;36m  Cell \u001b[1;32mIn[187], line 2\u001b[1;36m\u001b[0m\n\u001b[1;33m    'Alter': 45}\u001b[0m\n\u001b[1;37m    ^\u001b[0m\n\u001b[1;31mSyntaxError\u001b[0m\u001b[1;31m:\u001b[0m invalid non-printable character U+00A0\n"
     ]
    }
   ],
   "source": [
    "name_dict = {'Name': 'Charles',\n",
    "            'Alter': 45}\n",
    "\n",
    "print(name_dict['Name'])"
   ]
  },
  {
   "cell_type": "code",
   "execution_count": 189,
   "id": "1c969d82-f095-4303-b6f6-cfab426fde1d",
   "metadata": {},
   "outputs": [],
   "source": [
    "name_dict = {'Name': 'Charles'}"
   ]
  },
  {
   "cell_type": "code",
   "execution_count": 190,
   "id": "aacbe662-aeb8-4017-84b5-0663c15e3ac0",
   "metadata": {},
   "outputs": [
    {
     "data": {
      "text/plain": [
       "'Charles'"
      ]
     },
     "execution_count": 190,
     "metadata": {},
     "output_type": "execute_result"
    }
   ],
   "source": [
    "name_dict['Name']"
   ]
  },
  {
   "cell_type": "code",
   "execution_count": 191,
   "id": "9232f994-0926-4e3c-93b9-9f2f01862d20",
   "metadata": {},
   "outputs": [
    {
     "name": "stdout",
     "output_type": "stream",
     "text": [
      "Ja\n"
     ]
    }
   ],
   "source": [
    "if True:\n",
    "    print('Ja')"
   ]
  },
  {
   "cell_type": "code",
   "execution_count": 192,
   "id": "ee57f2f1-5107-4ca3-8305-14a362902870",
   "metadata": {},
   "outputs": [
    {
     "name": "stdout",
     "output_type": "stream",
     "text": [
      "Ja\n"
     ]
    }
   ],
   "source": [
    "if 'hi':\n",
    "    print('Ja')"
   ]
  },
  {
   "cell_type": "code",
   "execution_count": 193,
   "id": "f6b248a6-056d-4c2f-aaf5-366bbbb0c851",
   "metadata": {},
   "outputs": [
    {
     "data": {
      "text/plain": [
       "30"
      ]
     },
     "execution_count": 193,
     "metadata": {},
     "output_type": "execute_result"
    }
   ],
   "source": [
    "alter"
   ]
  },
  {
   "cell_type": "code",
   "execution_count": 195,
   "id": "a7f8eb7a-6e48-4419-bd2d-b0b4a9ce5bc2",
   "metadata": {},
   "outputs": [],
   "source": [
    "if alter != 30:\n",
    "    print(f'Ich bin {alter}')"
   ]
  },
  {
   "cell_type": "code",
   "execution_count": 196,
   "id": "c26d2198-6c19-4e6f-8267-ee1121b299c4",
   "metadata": {},
   "outputs": [],
   "source": [
    "hungrig = True"
   ]
  },
  {
   "cell_type": "code",
   "execution_count": 197,
   "id": "5ef71002-eb09-4a5a-98a8-2a771f1edf30",
   "metadata": {},
   "outputs": [
    {
     "name": "stdout",
     "output_type": "stream",
     "text": [
      "Isst!\n"
     ]
    }
   ],
   "source": [
    "if hungrig:\n",
    "    print('Isst!')"
   ]
  },
  {
   "cell_type": "code",
   "execution_count": 198,
   "id": "c9665dfa-be7a-464e-9fa2-c6929e3f5375",
   "metadata": {},
   "outputs": [
    {
     "name": "stdout",
     "output_type": "stream",
     "text": [
      "Isst!\n"
     ]
    }
   ],
   "source": [
    "if hungrig:\n",
    "    print('Isst!')\n",
    "else:\n",
    "    print('Ich bin satt!')"
   ]
  },
  {
   "cell_type": "code",
   "execution_count": 199,
   "id": "91db6c55-5345-4a95-a1c6-f87ebcd1dca5",
   "metadata": {},
   "outputs": [
    {
     "data": {
      "text/plain": [
       "True"
      ]
     },
     "execution_count": 199,
     "metadata": {},
     "output_type": "execute_result"
    }
   ],
   "source": [
    "10 < 20"
   ]
  },
  {
   "cell_type": "code",
   "execution_count": 200,
   "id": "15abbf3a-9b82-4712-b7c2-ef91258805e8",
   "metadata": {},
   "outputs": [
    {
     "name": "stdout",
     "output_type": "stream",
     "text": [
      "zehn kleiner als zwanzig\n"
     ]
    }
   ],
   "source": [
    "if 10 < 20:\n",
    "    print('zehn kleiner als zwanzig')"
   ]
  },
  {
   "cell_type": "code",
   "execution_count": 201,
   "id": "3146cb5a-c062-4582-bccf-773aabc5f275",
   "metadata": {},
   "outputs": [
    {
     "data": {
      "text/plain": [
       "bool"
      ]
     },
     "execution_count": 201,
     "metadata": {},
     "output_type": "execute_result"
    }
   ],
   "source": [
    "type(10 < 20)"
   ]
  },
  {
   "cell_type": "code",
   "execution_count": 202,
   "id": "410e44cd-299f-4249-b381-404ec155f797",
   "metadata": {},
   "outputs": [
    {
     "data": {
      "text/plain": [
       "True"
      ]
     },
     "execution_count": 202,
     "metadata": {},
     "output_type": "execute_result"
    }
   ],
   "source": [
    "True"
   ]
  },
  {
   "cell_type": "code",
   "execution_count": 203,
   "id": "4ff05eb4-9ec0-4804-b9e8-afb12b49550f",
   "metadata": {},
   "outputs": [
    {
     "data": {
      "text/plain": [
       "False"
      ]
     },
     "execution_count": 203,
     "metadata": {},
     "output_type": "execute_result"
    }
   ],
   "source": [
    "False"
   ]
  },
  {
   "cell_type": "code",
   "execution_count": 204,
   "id": "2f97be1b-3639-4ffd-a191-99bb797856a4",
   "metadata": {},
   "outputs": [
    {
     "data": {
      "text/plain": [
       "bool"
      ]
     },
     "execution_count": 204,
     "metadata": {},
     "output_type": "execute_result"
    }
   ],
   "source": [
    "type(True)"
   ]
  },
  {
   "cell_type": "code",
   "execution_count": 205,
   "id": "f3e463a8-eed3-4996-81d2-da1cc957ef83",
   "metadata": {},
   "outputs": [
    {
     "data": {
      "text/plain": [
       "10"
      ]
     },
     "execution_count": 205,
     "metadata": {},
     "output_type": "execute_result"
    }
   ],
   "source": [
    "True * 10"
   ]
  },
  {
   "cell_type": "code",
   "execution_count": 206,
   "id": "42d97a6f-fd90-4ac4-afae-a5926aa98870",
   "metadata": {},
   "outputs": [
    {
     "data": {
      "text/plain": [
       "0"
      ]
     },
     "execution_count": 206,
     "metadata": {},
     "output_type": "execute_result"
    }
   ],
   "source": [
    "False * 10"
   ]
  },
  {
   "cell_type": "code",
   "execution_count": 207,
   "id": "1c3b96cd-83d9-48b2-bb5f-7a32c805cf59",
   "metadata": {},
   "outputs": [
    {
     "data": {
      "text/plain": [
       "1"
      ]
     },
     "execution_count": 207,
     "metadata": {},
     "output_type": "execute_result"
    }
   ],
   "source": [
    "int(True)"
   ]
  },
  {
   "cell_type": "code",
   "execution_count": 210,
   "id": "b3d34797-5a67-451f-93a0-46bcb80f294d",
   "metadata": {},
   "outputs": [
    {
     "data": {
      "text/plain": [
       "0"
      ]
     },
     "execution_count": 210,
     "metadata": {},
     "output_type": "execute_result"
    }
   ],
   "source": [
    "int(False)"
   ]
  },
  {
   "cell_type": "code",
   "execution_count": 211,
   "id": "e0b21c2a-1e37-4625-be2b-4b411501e1e8",
   "metadata": {},
   "outputs": [],
   "source": [
    "name = 'Patrick'"
   ]
  },
  {
   "cell_type": "code",
   "execution_count": 215,
   "id": "b803c2e1-19a4-4b0d-a172-6edf3740a9a0",
   "metadata": {},
   "outputs": [
    {
     "data": {
      "text/plain": [
       "'kcirtaP'"
      ]
     },
     "execution_count": 215,
     "metadata": {},
     "output_type": "execute_result"
    }
   ],
   "source": [
    "name[::-1]"
   ]
  },
  {
   "cell_type": "code",
   "execution_count": null,
   "id": "3ef19d24-045e-47ec-93e3-4a3fb596c866",
   "metadata": {},
   "outputs": [],
   "source": []
  }
 ],
 "metadata": {
  "kernelspec": {
   "display_name": "Python 3 (ipykernel)",
   "language": "python",
   "name": "python3"
  },
  "language_info": {
   "codemirror_mode": {
    "name": "ipython",
    "version": 3
   },
   "file_extension": ".py",
   "mimetype": "text/x-python",
   "name": "python",
   "nbconvert_exporter": "python",
   "pygments_lexer": "ipython3",
   "version": "3.13.0"
  }
 },
 "nbformat": 4,
 "nbformat_minor": 5
}
