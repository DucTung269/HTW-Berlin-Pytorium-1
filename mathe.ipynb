{
 "cells": [
  {
   "cell_type": "code",
   "execution_count": null,
   "id": "418c41f6-bc06-47d3-9b04-605c61adbebf",
   "metadata": {},
   "outputs": [],
   "source": []
  },
  {
   "cell_type": "code",
   "execution_count": null,
   "id": "dbed6e03-3dd6-4902-bab5-4f447284019d",
   "metadata": {},
   "outputs": [],
   "source": []
  },
  {
   "cell_type": "code",
   "execution_count": null,
   "id": "51d5f007-6cf3-44ae-b175-d11edef5d318",
   "metadata": {},
   "outputs": [],
   "source": [
    "1 + 1"
   ]
  },
  {
   "cell_type": "code",
   "execution_count": 16,
   "id": "5be94bbd-2166-45b6-919f-a6804987a161",
   "metadata": {},
   "outputs": [
    {
     "data": {
      "text/plain": [
       "'h'"
      ]
     },
     "execution_count": 16,
     "metadata": {},
     "output_type": "execute_result"
    }
   ],
   "source": [
    "'hi'[0]"
   ]
  },
  {
   "cell_type": "code",
   "execution_count": 17,
   "id": "1f1323c9-7cc4-42a4-aa14-cbe6f2bd2188",
   "metadata": {},
   "outputs": [
    {
     "data": {
      "text/plain": [
       "False"
      ]
     },
     "execution_count": 17,
     "metadata": {},
     "output_type": "execute_result"
    }
   ],
   "source": [
    "'45390'[3] == 9"
   ]
  },
  {
   "cell_type": "code",
   "execution_count": 18,
   "id": "f1107b0f-f75d-4bf3-baca-d7849e000f51",
   "metadata": {},
   "outputs": [
    {
     "data": {
      "text/plain": [
       "'9'"
      ]
     },
     "execution_count": 18,
     "metadata": {},
     "output_type": "execute_result"
    }
   ],
   "source": [
    "'45390'[3]"
   ]
  },
  {
   "cell_type": "code",
   "execution_count": 19,
   "id": "a98575f6-3ab1-42c5-b330-49f8063c0902",
   "metadata": {},
   "outputs": [
    {
     "data": {
      "text/plain": [
       "False"
      ]
     },
     "execution_count": 19,
     "metadata": {},
     "output_type": "execute_result"
    }
   ],
   "source": [
    "'9' == 9"
   ]
  },
  {
   "cell_type": "code",
   "execution_count": 20,
   "id": "6261031a-ae33-47f0-a306-ef7d5ad8d15d",
   "metadata": {},
   "outputs": [
    {
     "data": {
      "text/plain": [
       "'55'"
      ]
     },
     "execution_count": 20,
     "metadata": {},
     "output_type": "execute_result"
    }
   ],
   "source": [
    "'5' + '5'"
   ]
  },
  {
   "cell_type": "code",
   "execution_count": 22,
   "id": "9a7fe9b5-17c5-4796-995c-4c463eefcdae",
   "metadata": {},
   "outputs": [
    {
     "data": {
      "text/plain": [
       "'Ich bin Patrick'"
      ]
     },
     "execution_count": 22,
     "metadata": {},
     "output_type": "execute_result"
    }
   ],
   "source": [
    "'Ich' + ' ' + 'bin' + ' ' + 'Patrick'"
   ]
  },
  {
   "cell_type": "code",
   "execution_count": 23,
   "id": "3a26bf01-09d7-4407-a583-dd49366fc316",
   "metadata": {},
   "outputs": [],
   "source": [
    "alter = 30"
   ]
  },
  {
   "cell_type": "code",
   "execution_count": 24,
   "id": "534dba96-9771-4733-8b64-e1e1fb5caa75",
   "metadata": {},
   "outputs": [
    {
     "name": "stdout",
     "output_type": "stream",
     "text": [
      "30\n"
     ]
    }
   ],
   "source": [
    "print(alter)"
   ]
  },
  {
   "cell_type": "code",
   "execution_count": 25,
   "id": "0bd26463-d35b-4e32-88e0-a64d1947348d",
   "metadata": {},
   "outputs": [
    {
     "ename": "TypeError",
     "evalue": "can only concatenate str (not \"int\") to str",
     "output_type": "error",
     "traceback": [
      "\u001b[1;31m---------------------------------------------------------------------------\u001b[0m",
      "\u001b[1;31mTypeError\u001b[0m                                 Traceback (most recent call last)",
      "Cell \u001b[1;32mIn[25], line 1\u001b[0m\n\u001b[1;32m----> 1\u001b[0m \u001b[38;5;124;43m'\u001b[39;49m\u001b[38;5;124;43mIch\u001b[39;49m\u001b[38;5;124;43m'\u001b[39;49m\u001b[43m \u001b[49m\u001b[38;5;241;43m+\u001b[39;49m\u001b[43m \u001b[49m\u001b[38;5;124;43m'\u001b[39;49m\u001b[38;5;124;43m \u001b[39;49m\u001b[38;5;124;43m'\u001b[39;49m\u001b[43m \u001b[49m\u001b[38;5;241;43m+\u001b[39;49m\u001b[43m \u001b[49m\u001b[38;5;124;43m'\u001b[39;49m\u001b[38;5;124;43mbin\u001b[39;49m\u001b[38;5;124;43m'\u001b[39;49m\u001b[43m \u001b[49m\u001b[38;5;241;43m+\u001b[39;49m\u001b[43m \u001b[49m\u001b[38;5;124;43m'\u001b[39;49m\u001b[38;5;124;43m \u001b[39;49m\u001b[38;5;124;43m'\u001b[39;49m\u001b[43m \u001b[49m\u001b[38;5;241;43m+\u001b[39;49m\u001b[43m \u001b[49m\u001b[43malter\u001b[49m\n",
      "\u001b[1;31mTypeError\u001b[0m: can only concatenate str (not \"int\") to str"
     ]
    }
   ],
   "source": [
    "'Ich' + ' ' + 'bin' + ' ' + alter"
   ]
  },
  {
   "cell_type": "code",
   "execution_count": 26,
   "id": "89082dde-faa6-455c-af6c-81402f68547e",
   "metadata": {},
   "outputs": [
    {
     "data": {
      "text/plain": [
       "int"
      ]
     },
     "execution_count": 26,
     "metadata": {},
     "output_type": "execute_result"
    }
   ],
   "source": [
    "type(alter)"
   ]
  },
  {
   "cell_type": "code",
   "execution_count": 27,
   "id": "5fbfdd83-311a-4355-a72c-ebda228a5186",
   "metadata": {},
   "outputs": [
    {
     "data": {
      "text/plain": [
       "str"
      ]
     },
     "execution_count": 27,
     "metadata": {},
     "output_type": "execute_result"
    }
   ],
   "source": [
    "type('Ich')"
   ]
  },
  {
   "cell_type": "code",
   "execution_count": 30,
   "id": "088872d1-1b91-471b-87cc-01de5869325c",
   "metadata": {},
   "outputs": [
    {
     "data": {
      "text/plain": [
       "float"
      ]
     },
     "execution_count": 30,
     "metadata": {},
     "output_type": "execute_result"
    }
   ],
   "source": [
    "type(1 / 2)"
   ]
  },
  {
   "cell_type": "code",
   "execution_count": 33,
   "id": "19009aab-3183-4ba7-9b2e-491b6a1e0ffb",
   "metadata": {},
   "outputs": [
    {
     "data": {
      "text/plain": [
       "int"
      ]
     },
     "execution_count": 33,
     "metadata": {},
     "output_type": "execute_result"
    }
   ],
   "source": [
    "type(1)"
   ]
  },
  {
   "cell_type": "code",
   "execution_count": 35,
   "id": "dbd91f73-9900-4e3b-8605-5222f5a0b10c",
   "metadata": {},
   "outputs": [
    {
     "data": {
      "text/plain": [
       "'Ich bin 30'"
      ]
     },
     "execution_count": 35,
     "metadata": {},
     "output_type": "execute_result"
    }
   ],
   "source": [
    "'Ich' + ' ' + 'bin' + ' ' + str(alter)"
   ]
  },
  {
   "cell_type": "code",
   "execution_count": 36,
   "id": "6a5443d5-c9d9-48b2-8174-b22414a02509",
   "metadata": {},
   "outputs": [],
   "source": [
    "name = 'Patrick'"
   ]
  },
  {
   "cell_type": "code",
   "execution_count": 38,
   "id": "a9f38f88-ad6a-4267-8673-141ae7c2c66e",
   "metadata": {},
   "outputs": [
    {
     "data": {
      "text/plain": [
       "'PATRICK'"
      ]
     },
     "execution_count": 38,
     "metadata": {},
     "output_type": "execute_result"
    }
   ],
   "source": [
    "name.upper()"
   ]
  },
  {
   "cell_type": "code",
   "execution_count": 39,
   "id": "679213f4-8ea1-4fcb-84ee-83f743615805",
   "metadata": {},
   "outputs": [
    {
     "data": {
      "text/plain": [
       "int"
      ]
     },
     "execution_count": 39,
     "metadata": {},
     "output_type": "execute_result"
    }
   ],
   "source": [
    "type(alter)"
   ]
  },
  {
   "cell_type": "code",
   "execution_count": null,
   "id": "dc5685a8-d742-45ae-aebe-c97bf1de0e2e",
   "metadata": {},
   "outputs": [],
   "source": []
  }
 ],
 "metadata": {
  "kernelspec": {
   "display_name": "Python 3 (ipykernel)",
   "language": "python",
   "name": "python3"
  },
  "language_info": {
   "codemirror_mode": {
    "name": "ipython",
    "version": 3
   },
   "file_extension": ".py",
   "mimetype": "text/x-python",
   "name": "python",
   "nbconvert_exporter": "python",
   "pygments_lexer": "ipython3",
   "version": "3.13.0"
  }
 },
 "nbformat": 4,
 "nbformat_minor": 5
}
