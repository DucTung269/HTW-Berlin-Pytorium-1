{
 "cells": [
  {
   "cell_type": "markdown",
   "metadata": {},
   "source": [
    "# 4.2 Aufgaben\n",
    "\n",
    "Diese Aufgabe ist länger als Lernzielkontrolle und fasst alle Themen aus 4.2 and früher zusammen.\n",
    "\n",
    "Lösen Sie diese Aufgabe in VS Code oder in Jupyter Notebook.\n",
    "\n",
    "**Erzeugen einen Datensatz mit folgenden Spalten:**\n",
    "1. [Vorname](https://catalog.data.gov/dataset/popular-baby-names/resource/02e8f55e-2157-4cb2-961a-2aabb75cbc8b)\n",
    "3. [Nachname](https://gist.github.com/craigh411/19a4479b289ae6c3f6edb95152214efc)\n",
    "3. [Job](https://github.com/johnlsheridan/occupations/blob/master/occupations.csv)\n",
    "4. [Firma](https://github.com/prasertcbs/basic-dataset/blob/master/companies.csv)\n",
    "5. Alter - zufällig (18 - 65)\n",
    "6. Gehalt - zufällig plus auf Alter basiert\n",
    "7. Email - auf Name und Firma basiert\n",
    "8. Geburtstag - auf Alter und heutiges Datum basiert\n",
    "\n",
    "\n",
    "Sie müssen die Daten für Spalten 1-4 herunterladen. Spalten 5-8 wird entweder erzeugt oder von anderen Daten herausgekommen.\n",
    "\n",
    "> Bitte benutzen Sie NumPy und pandas.\n"
   ]
  }
 ],
 "metadata": {
  "kernelspec": {
   "display_name": "datasci",
   "language": "python",
   "name": "python3"
  },
  "language_info": {
   "codemirror_mode": {
    "name": "ipython",
    "version": 3
   },
   "file_extension": ".py",
   "mimetype": "text/x-python",
   "name": "python",
   "nbconvert_exporter": "python",
   "pygments_lexer": "ipython3",
   "version": "3.13.0"
  }
 },
 "nbformat": 4,
 "nbformat_minor": 2
}
