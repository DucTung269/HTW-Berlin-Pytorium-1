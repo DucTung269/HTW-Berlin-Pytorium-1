{
 "cells": [
  {
   "cell_type": "markdown",
   "metadata": {},
   "source": [
    "# 4.2 Aufgaben\n",
    "\n",
    "Diese Aufgabe ist länger als Lernzielkontrolle und fasst alle Themen aus 4.2 and früher zusammen.\n",
    "\n",
    "Lösen Sie diese Aufgabe in VS Code oder in Jupyter Notebook.\n",
    "\n",
    "**Erzeugen einen Datensatz mit folgenden Spalten:**\n",
    "1. [Vorname](https://catalog.data.gov/dataset/popular-baby-names/resource/02e8f55e-2157-4cb2-961a-2aabb75cbc8b)\n",
    "3. [Nachname](https://gist.github.com/craigh411/19a4479b289ae6c3f6edb95152214efc)\n",
    "3. [Job](https://github.com/johnlsheridan/occupations/blob/master/occupations.csv)\n",
    "4. [Firma](https://github.com/prasertcbs/basic-dataset/blob/master/companies.csv)\n",
    "5. Alter - zufällig (18 - 65)\n",
    "6. Gehalt - zufällig plus auf Alter basiert\n",
    "7. Email - auf Name und Firma basiert\n",
    "8. Geburtsjahr - auf Alter und heutiges Jahr basiert\n",
    "\n",
    "\n",
    "Sie müssen die Daten für Spalten 1-4 herunterladen. Spalten 5-8 wird entweder erzeugt oder von anderen Daten herausgekommen.\n",
    "\n",
    "> Bitte benutzen Sie NumPy und pandas.\n"
   ]
  },
  {
   "cell_type": "code",
   "execution_count": 186,
   "metadata": {},
   "outputs": [],
   "source": [
    "import numpy as np\n",
    "import pandas as pd\n",
    "import os"
   ]
  },
  {
   "cell_type": "code",
   "execution_count": 187,
   "metadata": {},
   "outputs": [],
   "source": [
    "df = pd.DataFrame(columns=['vorname', 'nachname', 'job', 'firma', 'alter', 'gehalt', 'email', 'geburtstag'])"
   ]
  },
  {
   "cell_type": "code",
   "execution_count": 188,
   "metadata": {},
   "outputs": [
    {
     "data": {
      "text/plain": [
       "True"
      ]
     },
     "execution_count": 188,
     "metadata": {},
     "output_type": "execute_result"
    }
   ],
   "source": [
    "df.empty"
   ]
  },
  {
   "cell_type": "code",
   "execution_count": 189,
   "metadata": {},
   "outputs": [
    {
     "data": {
      "text/plain": [
       "'c:\\\\Users\\\\pat_h\\\\OneDrive\\\\p-spohr-repos\\\\HTW-Berlin-Pytorium\\\\4-Wichtige-Libraries\\\\Aufgaben'"
      ]
     },
     "execution_count": 189,
     "metadata": {},
     "output_type": "execute_result"
    }
   ],
   "source": [
    "os.getcwd()"
   ]
  },
  {
   "cell_type": "code",
   "execution_count": 190,
   "metadata": {},
   "outputs": [],
   "source": [
    "df_dict = {}\n",
    "for dirpath, dirnames, filenames in os.walk('daten'):\n",
    "    for file in filenames:\n",
    "        # print(os.path.splitext(file)[0])\n",
    "        df_dict[os.path.splitext(file)[0]] = pd.read_csv(os.path.join(dirpath,file))\n",
    "\n"
   ]
  },
  {
   "cell_type": "code",
   "execution_count": 191,
   "metadata": {},
   "outputs": [
    {
     "data": {
      "text/plain": [
       "dict_keys(['firma', 'job', 'nachname', 'vorname'])"
      ]
     },
     "execution_count": 191,
     "metadata": {},
     "output_type": "execute_result"
    }
   ],
   "source": [
    "df_dict.keys()"
   ]
  },
  {
   "cell_type": "code",
   "execution_count": 192,
   "metadata": {},
   "outputs": [
    {
     "data": {
      "text/html": [
       "<div>\n",
       "<style scoped>\n",
       "    .dataframe tbody tr th:only-of-type {\n",
       "        vertical-align: middle;\n",
       "    }\n",
       "\n",
       "    .dataframe tbody tr th {\n",
       "        vertical-align: top;\n",
       "    }\n",
       "\n",
       "    .dataframe thead th {\n",
       "        text-align: right;\n",
       "    }\n",
       "</style>\n",
       "<table border=\"1\" class=\"dataframe\">\n",
       "  <thead>\n",
       "    <tr style=\"text-align: right;\">\n",
       "      <th></th>\n",
       "      <th>lastname</th>\n",
       "      <th>Unnamed: 1</th>\n",
       "    </tr>\n",
       "  </thead>\n",
       "  <tbody>\n",
       "    <tr>\n",
       "      <th>0</th>\n",
       "      <td>Smith</td>\n",
       "      <td>NaN</td>\n",
       "    </tr>\n",
       "    <tr>\n",
       "      <th>1</th>\n",
       "      <td>Johnson</td>\n",
       "      <td>NaN</td>\n",
       "    </tr>\n",
       "    <tr>\n",
       "      <th>2</th>\n",
       "      <td>Williams</td>\n",
       "      <td>NaN</td>\n",
       "    </tr>\n",
       "    <tr>\n",
       "      <th>3</th>\n",
       "      <td>Brown</td>\n",
       "      <td>NaN</td>\n",
       "    </tr>\n",
       "    <tr>\n",
       "      <th>4</th>\n",
       "      <td>Jones</td>\n",
       "      <td>NaN</td>\n",
       "    </tr>\n",
       "    <tr>\n",
       "      <th>...</th>\n",
       "      <td>...</td>\n",
       "      <td>...</td>\n",
       "    </tr>\n",
       "    <tr>\n",
       "      <th>998</th>\n",
       "      <td>Duke</td>\n",
       "      <td>NaN</td>\n",
       "    </tr>\n",
       "    <tr>\n",
       "      <th>999</th>\n",
       "      <td>Odom</td>\n",
       "      <td>NaN</td>\n",
       "    </tr>\n",
       "    <tr>\n",
       "      <th>1000</th>\n",
       "      <td>Daugherty</td>\n",
       "      <td>NaN</td>\n",
       "    </tr>\n",
       "    <tr>\n",
       "      <th>1001</th>\n",
       "      <td>Travis</td>\n",
       "      <td>NaN</td>\n",
       "    </tr>\n",
       "    <tr>\n",
       "      <th>1002</th>\n",
       "      <td>Tang</td>\n",
       "      <td>NaN</td>\n",
       "    </tr>\n",
       "  </tbody>\n",
       "</table>\n",
       "<p>1003 rows × 2 columns</p>\n",
       "</div>"
      ],
      "text/plain": [
       "       lastname  Unnamed: 1\n",
       "0         Smith         NaN\n",
       "1       Johnson         NaN\n",
       "2      Williams         NaN\n",
       "3         Brown         NaN\n",
       "4         Jones         NaN\n",
       "...         ...         ...\n",
       "998        Duke         NaN\n",
       "999        Odom         NaN\n",
       "1000  Daugherty         NaN\n",
       "1001     Travis         NaN\n",
       "1002       Tang         NaN\n",
       "\n",
       "[1003 rows x 2 columns]"
      ]
     },
     "execution_count": 192,
     "metadata": {},
     "output_type": "execute_result"
    }
   ],
   "source": [
    "df_dict['nachname']"
   ]
  },
  {
   "cell_type": "code",
   "execution_count": 193,
   "metadata": {},
   "outputs": [
    {
     "data": {
      "text/plain": [
       "Index(['vorname', 'nachname', 'job', 'firma', 'alter', 'gehalt', 'email',\n",
       "       'geburtstag'],\n",
       "      dtype='object')"
      ]
     },
     "execution_count": 193,
     "metadata": {},
     "output_type": "execute_result"
    }
   ],
   "source": [
    "df.columns"
   ]
  },
  {
   "cell_type": "code",
   "execution_count": 194,
   "metadata": {},
   "outputs": [
    {
     "data": {
      "text/plain": [
       "array(['Conley', 'Keller', 'Prince', 'Pace', 'Bauer', 'Gordon', 'House',\n",
       "       'Santana', 'Ross', 'Dawson'], dtype=object)"
      ]
     },
     "execution_count": 194,
     "metadata": {},
     "output_type": "execute_result"
    }
   ],
   "source": [
    "df_dict['nachname']['lastname'].sample(10, axis=0).values"
   ]
  },
  {
   "cell_type": "code",
   "execution_count": 195,
   "metadata": {},
   "outputs": [],
   "source": [
    "# size = 10\n",
    "# df['vorname'] = df_dict['vorname']['Child\\'s First Name'][0:size].str.capitalize()\n",
    "# df['nachname'] = df_dict['nachname']['lastname'][0:size]\n",
    "# df['job'] = df_dict['job']['Occupations'][0:size]\n",
    "# df['firma'] = df_dict['firma']['name_latest'][0:size]\n",
    "\n",
    "df['vorname'] = df_dict['vorname']['Child\\'s First Name'].sample(10, axis=0).str.capitalize().values\n",
    "df['nachname'] = df_dict['nachname']['lastname'].sample(10, axis=0).values\n",
    "df['job'] = df_dict['job']['Occupations'].sample(10, axis=0).values\n",
    "df['firma'] = df_dict['firma']['name_latest'].sample(10, axis=0).values"
   ]
  },
  {
   "cell_type": "code",
   "execution_count": 196,
   "metadata": {},
   "outputs": [
    {
     "data": {
      "text/html": [
       "<div>\n",
       "<style scoped>\n",
       "    .dataframe tbody tr th:only-of-type {\n",
       "        vertical-align: middle;\n",
       "    }\n",
       "\n",
       "    .dataframe tbody tr th {\n",
       "        vertical-align: top;\n",
       "    }\n",
       "\n",
       "    .dataframe thead th {\n",
       "        text-align: right;\n",
       "    }\n",
       "</style>\n",
       "<table border=\"1\" class=\"dataframe\">\n",
       "  <thead>\n",
       "    <tr style=\"text-align: right;\">\n",
       "      <th></th>\n",
       "      <th>vorname</th>\n",
       "      <th>nachname</th>\n",
       "      <th>job</th>\n",
       "      <th>firma</th>\n",
       "      <th>alter</th>\n",
       "      <th>gehalt</th>\n",
       "      <th>email</th>\n",
       "      <th>geburtstag</th>\n",
       "    </tr>\n",
       "  </thead>\n",
       "  <tbody>\n",
       "    <tr>\n",
       "      <th>0</th>\n",
       "      <td>Yitty</td>\n",
       "      <td>Larsen</td>\n",
       "      <td>Auction Worker</td>\n",
       "      <td>Sunergy Inc</td>\n",
       "      <td>NaN</td>\n",
       "      <td>NaN</td>\n",
       "      <td>NaN</td>\n",
       "      <td>NaN</td>\n",
       "    </tr>\n",
       "    <tr>\n",
       "      <th>1</th>\n",
       "      <td>Perl</td>\n",
       "      <td>Reid</td>\n",
       "      <td>Stable Hand</td>\n",
       "      <td>Ants Software Inc</td>\n",
       "      <td>NaN</td>\n",
       "      <td>NaN</td>\n",
       "      <td>NaN</td>\n",
       "      <td>NaN</td>\n",
       "    </tr>\n",
       "    <tr>\n",
       "      <th>2</th>\n",
       "      <td>Jonathan</td>\n",
       "      <td>Carroll</td>\n",
       "      <td>Assistant Nurse</td>\n",
       "      <td>Carrizo OIL &amp; GAS Inc</td>\n",
       "      <td>NaN</td>\n",
       "      <td>NaN</td>\n",
       "      <td>NaN</td>\n",
       "      <td>NaN</td>\n",
       "    </tr>\n",
       "    <tr>\n",
       "      <th>3</th>\n",
       "      <td>Brianna</td>\n",
       "      <td>Skinner</td>\n",
       "      <td>Mineralologist</td>\n",
       "      <td>Hammer Fiber Optics Holdings Corp</td>\n",
       "      <td>NaN</td>\n",
       "      <td>NaN</td>\n",
       "      <td>NaN</td>\n",
       "      <td>NaN</td>\n",
       "    </tr>\n",
       "    <tr>\n",
       "      <th>4</th>\n",
       "      <td>Johnathan</td>\n",
       "      <td>Malone</td>\n",
       "      <td>Restaurateur</td>\n",
       "      <td>Regeneron Pharmaceuticals Inc</td>\n",
       "      <td>NaN</td>\n",
       "      <td>NaN</td>\n",
       "      <td>NaN</td>\n",
       "      <td>NaN</td>\n",
       "    </tr>\n",
       "    <tr>\n",
       "      <th>5</th>\n",
       "      <td>Liliana</td>\n",
       "      <td>Lynn</td>\n",
       "      <td>Hod Carrier</td>\n",
       "      <td>DEL Taco Income Properties IV</td>\n",
       "      <td>NaN</td>\n",
       "      <td>NaN</td>\n",
       "      <td>NaN</td>\n",
       "      <td>NaN</td>\n",
       "    </tr>\n",
       "    <tr>\n",
       "      <th>6</th>\n",
       "      <td>Mario</td>\n",
       "      <td>Baxter</td>\n",
       "      <td>Bingo Caller</td>\n",
       "      <td>Berkshire Homes, Inc.</td>\n",
       "      <td>NaN</td>\n",
       "      <td>NaN</td>\n",
       "      <td>NaN</td>\n",
       "      <td>NaN</td>\n",
       "    </tr>\n",
       "    <tr>\n",
       "      <th>7</th>\n",
       "      <td>Jacqueline</td>\n",
       "      <td>White</td>\n",
       "      <td>Nurse</td>\n",
       "      <td>Chase Corp</td>\n",
       "      <td>NaN</td>\n",
       "      <td>NaN</td>\n",
       "      <td>NaN</td>\n",
       "      <td>NaN</td>\n",
       "    </tr>\n",
       "    <tr>\n",
       "      <th>8</th>\n",
       "      <td>Connor</td>\n",
       "      <td>Lyons</td>\n",
       "      <td>Pastry Chef</td>\n",
       "      <td>Ccfnb Bancorp Inc</td>\n",
       "      <td>NaN</td>\n",
       "      <td>NaN</td>\n",
       "      <td>NaN</td>\n",
       "      <td>NaN</td>\n",
       "    </tr>\n",
       "    <tr>\n",
       "      <th>9</th>\n",
       "      <td>Ivanna</td>\n",
       "      <td>Owen</td>\n",
       "      <td>French Polisher</td>\n",
       "      <td>Computer Software Innovations, Inc.</td>\n",
       "      <td>NaN</td>\n",
       "      <td>NaN</td>\n",
       "      <td>NaN</td>\n",
       "      <td>NaN</td>\n",
       "    </tr>\n",
       "  </tbody>\n",
       "</table>\n",
       "</div>"
      ],
      "text/plain": [
       "      vorname nachname              job                                firma  \\\n",
       "0       Yitty   Larsen   Auction Worker                          Sunergy Inc   \n",
       "1        Perl     Reid      Stable Hand                    Ants Software Inc   \n",
       "2    Jonathan  Carroll  Assistant Nurse                Carrizo OIL & GAS Inc   \n",
       "3     Brianna  Skinner   Mineralologist    Hammer Fiber Optics Holdings Corp   \n",
       "4   Johnathan   Malone     Restaurateur        Regeneron Pharmaceuticals Inc   \n",
       "5     Liliana     Lynn      Hod Carrier        DEL Taco Income Properties IV   \n",
       "6       Mario   Baxter     Bingo Caller                Berkshire Homes, Inc.   \n",
       "7  Jacqueline    White            Nurse                           Chase Corp   \n",
       "8      Connor    Lyons      Pastry Chef                    Ccfnb Bancorp Inc   \n",
       "9      Ivanna     Owen  French Polisher  Computer Software Innovations, Inc.   \n",
       "\n",
       "  alter gehalt email geburtstag  \n",
       "0   NaN    NaN   NaN        NaN  \n",
       "1   NaN    NaN   NaN        NaN  \n",
       "2   NaN    NaN   NaN        NaN  \n",
       "3   NaN    NaN   NaN        NaN  \n",
       "4   NaN    NaN   NaN        NaN  \n",
       "5   NaN    NaN   NaN        NaN  \n",
       "6   NaN    NaN   NaN        NaN  \n",
       "7   NaN    NaN   NaN        NaN  \n",
       "8   NaN    NaN   NaN        NaN  \n",
       "9   NaN    NaN   NaN        NaN  "
      ]
     },
     "execution_count": 196,
     "metadata": {},
     "output_type": "execute_result"
    }
   ],
   "source": [
    "df"
   ]
  },
  {
   "cell_type": "code",
   "execution_count": 197,
   "metadata": {},
   "outputs": [],
   "source": [
    "rng = np.random.default_rng()"
   ]
  },
  {
   "cell_type": "code",
   "execution_count": 198,
   "metadata": {},
   "outputs": [],
   "source": [
    "df['alter'] = rng.integers(18, 65, 10)"
   ]
  },
  {
   "cell_type": "code",
   "execution_count": 199,
   "metadata": {},
   "outputs": [],
   "source": [
    "df['gehalt'] = ((df.alter / 100) * rng.normal(8000, 2000, len(df))).round(2)"
   ]
  },
  {
   "cell_type": "code",
   "execution_count": 200,
   "metadata": {},
   "outputs": [],
   "source": [
    "def email_par(ser : pd.Series):\n",
    "\n",
    "    return f'{ser.vorname}.{ser.nachname}@{ser.firma.split()[0]}.com'"
   ]
  },
  {
   "cell_type": "code",
   "execution_count": 201,
   "metadata": {},
   "outputs": [],
   "source": [
    "df['email'] = f'{df.vorname}.{df.nachname}@{df.firma}'"
   ]
  },
  {
   "cell_type": "code",
   "execution_count": 202,
   "metadata": {},
   "outputs": [],
   "source": [
    "df['email'] = df.apply(email_par, axis=1)"
   ]
  },
  {
   "cell_type": "code",
   "execution_count": 203,
   "metadata": {},
   "outputs": [],
   "source": [
    "df['geburtstag'] = pd.Timestamp.today().year - df.alter"
   ]
  },
  {
   "cell_type": "code",
   "execution_count": 204,
   "metadata": {},
   "outputs": [
    {
     "data": {
      "text/html": [
       "<div>\n",
       "<style scoped>\n",
       "    .dataframe tbody tr th:only-of-type {\n",
       "        vertical-align: middle;\n",
       "    }\n",
       "\n",
       "    .dataframe tbody tr th {\n",
       "        vertical-align: top;\n",
       "    }\n",
       "\n",
       "    .dataframe thead th {\n",
       "        text-align: right;\n",
       "    }\n",
       "</style>\n",
       "<table border=\"1\" class=\"dataframe\">\n",
       "  <thead>\n",
       "    <tr style=\"text-align: right;\">\n",
       "      <th></th>\n",
       "      <th>vorname</th>\n",
       "      <th>nachname</th>\n",
       "      <th>job</th>\n",
       "      <th>firma</th>\n",
       "      <th>alter</th>\n",
       "      <th>gehalt</th>\n",
       "      <th>email</th>\n",
       "      <th>geburtstag</th>\n",
       "    </tr>\n",
       "  </thead>\n",
       "  <tbody>\n",
       "    <tr>\n",
       "      <th>0</th>\n",
       "      <td>Yitty</td>\n",
       "      <td>Larsen</td>\n",
       "      <td>Auction Worker</td>\n",
       "      <td>Sunergy Inc</td>\n",
       "      <td>47</td>\n",
       "      <td>4535.82</td>\n",
       "      <td>Yitty.Larsen@Sunergy.com</td>\n",
       "      <td>1977</td>\n",
       "    </tr>\n",
       "    <tr>\n",
       "      <th>1</th>\n",
       "      <td>Perl</td>\n",
       "      <td>Reid</td>\n",
       "      <td>Stable Hand</td>\n",
       "      <td>Ants Software Inc</td>\n",
       "      <td>56</td>\n",
       "      <td>4844.01</td>\n",
       "      <td>Perl.Reid@Ants.com</td>\n",
       "      <td>1968</td>\n",
       "    </tr>\n",
       "    <tr>\n",
       "      <th>2</th>\n",
       "      <td>Jonathan</td>\n",
       "      <td>Carroll</td>\n",
       "      <td>Assistant Nurse</td>\n",
       "      <td>Carrizo OIL &amp; GAS Inc</td>\n",
       "      <td>27</td>\n",
       "      <td>950.67</td>\n",
       "      <td>Jonathan.Carroll@Carrizo.com</td>\n",
       "      <td>1997</td>\n",
       "    </tr>\n",
       "    <tr>\n",
       "      <th>3</th>\n",
       "      <td>Brianna</td>\n",
       "      <td>Skinner</td>\n",
       "      <td>Mineralologist</td>\n",
       "      <td>Hammer Fiber Optics Holdings Corp</td>\n",
       "      <td>36</td>\n",
       "      <td>1689.50</td>\n",
       "      <td>Brianna.Skinner@Hammer.com</td>\n",
       "      <td>1988</td>\n",
       "    </tr>\n",
       "    <tr>\n",
       "      <th>4</th>\n",
       "      <td>Johnathan</td>\n",
       "      <td>Malone</td>\n",
       "      <td>Restaurateur</td>\n",
       "      <td>Regeneron Pharmaceuticals Inc</td>\n",
       "      <td>36</td>\n",
       "      <td>2911.45</td>\n",
       "      <td>Johnathan.Malone@Regeneron.com</td>\n",
       "      <td>1988</td>\n",
       "    </tr>\n",
       "    <tr>\n",
       "      <th>5</th>\n",
       "      <td>Liliana</td>\n",
       "      <td>Lynn</td>\n",
       "      <td>Hod Carrier</td>\n",
       "      <td>DEL Taco Income Properties IV</td>\n",
       "      <td>48</td>\n",
       "      <td>4052.54</td>\n",
       "      <td>Liliana.Lynn@DEL.com</td>\n",
       "      <td>1976</td>\n",
       "    </tr>\n",
       "    <tr>\n",
       "      <th>6</th>\n",
       "      <td>Mario</td>\n",
       "      <td>Baxter</td>\n",
       "      <td>Bingo Caller</td>\n",
       "      <td>Berkshire Homes, Inc.</td>\n",
       "      <td>39</td>\n",
       "      <td>2367.53</td>\n",
       "      <td>Mario.Baxter@Berkshire.com</td>\n",
       "      <td>1985</td>\n",
       "    </tr>\n",
       "    <tr>\n",
       "      <th>7</th>\n",
       "      <td>Jacqueline</td>\n",
       "      <td>White</td>\n",
       "      <td>Nurse</td>\n",
       "      <td>Chase Corp</td>\n",
       "      <td>21</td>\n",
       "      <td>1011.50</td>\n",
       "      <td>Jacqueline.White@Chase.com</td>\n",
       "      <td>2003</td>\n",
       "    </tr>\n",
       "    <tr>\n",
       "      <th>8</th>\n",
       "      <td>Connor</td>\n",
       "      <td>Lyons</td>\n",
       "      <td>Pastry Chef</td>\n",
       "      <td>Ccfnb Bancorp Inc</td>\n",
       "      <td>31</td>\n",
       "      <td>1665.32</td>\n",
       "      <td>Connor.Lyons@Ccfnb.com</td>\n",
       "      <td>1993</td>\n",
       "    </tr>\n",
       "    <tr>\n",
       "      <th>9</th>\n",
       "      <td>Ivanna</td>\n",
       "      <td>Owen</td>\n",
       "      <td>French Polisher</td>\n",
       "      <td>Computer Software Innovations, Inc.</td>\n",
       "      <td>46</td>\n",
       "      <td>3822.16</td>\n",
       "      <td>Ivanna.Owen@Computer.com</td>\n",
       "      <td>1978</td>\n",
       "    </tr>\n",
       "  </tbody>\n",
       "</table>\n",
       "</div>"
      ],
      "text/plain": [
       "      vorname nachname              job                                firma  \\\n",
       "0       Yitty   Larsen   Auction Worker                          Sunergy Inc   \n",
       "1        Perl     Reid      Stable Hand                    Ants Software Inc   \n",
       "2    Jonathan  Carroll  Assistant Nurse                Carrizo OIL & GAS Inc   \n",
       "3     Brianna  Skinner   Mineralologist    Hammer Fiber Optics Holdings Corp   \n",
       "4   Johnathan   Malone     Restaurateur        Regeneron Pharmaceuticals Inc   \n",
       "5     Liliana     Lynn      Hod Carrier        DEL Taco Income Properties IV   \n",
       "6       Mario   Baxter     Bingo Caller                Berkshire Homes, Inc.   \n",
       "7  Jacqueline    White            Nurse                           Chase Corp   \n",
       "8      Connor    Lyons      Pastry Chef                    Ccfnb Bancorp Inc   \n",
       "9      Ivanna     Owen  French Polisher  Computer Software Innovations, Inc.   \n",
       "\n",
       "   alter   gehalt                           email  geburtstag  \n",
       "0     47  4535.82        Yitty.Larsen@Sunergy.com        1977  \n",
       "1     56  4844.01              Perl.Reid@Ants.com        1968  \n",
       "2     27   950.67    Jonathan.Carroll@Carrizo.com        1997  \n",
       "3     36  1689.50      Brianna.Skinner@Hammer.com        1988  \n",
       "4     36  2911.45  Johnathan.Malone@Regeneron.com        1988  \n",
       "5     48  4052.54            Liliana.Lynn@DEL.com        1976  \n",
       "6     39  2367.53      Mario.Baxter@Berkshire.com        1985  \n",
       "7     21  1011.50      Jacqueline.White@Chase.com        2003  \n",
       "8     31  1665.32          Connor.Lyons@Ccfnb.com        1993  \n",
       "9     46  3822.16        Ivanna.Owen@Computer.com        1978  "
      ]
     },
     "execution_count": 204,
     "metadata": {},
     "output_type": "execute_result"
    }
   ],
   "source": [
    "df"
   ]
  }
 ],
 "metadata": {
  "kernelspec": {
   "display_name": "datasci",
   "language": "python",
   "name": "python3"
  },
  "language_info": {
   "codemirror_mode": {
    "name": "ipython",
    "version": 3
   },
   "file_extension": ".py",
   "mimetype": "text/x-python",
   "name": "python",
   "nbconvert_exporter": "python",
   "pygments_lexer": "ipython3",
   "version": "3.13.0"
  }
 },
 "nbformat": 4,
 "nbformat_minor": 2
}
