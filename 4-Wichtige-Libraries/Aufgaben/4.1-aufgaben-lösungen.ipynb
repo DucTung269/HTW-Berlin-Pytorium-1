{
 "cells": [
  {
   "cell_type": "markdown",
   "metadata": {},
   "source": [
    "# 4.1 Aufgaben\n",
    "\n",
    "Diese Aufgabe ist länger als Lernzielkontrolle und fasst alle Themen aus 4.1 and früher zusammen.\n",
    "\n",
    "1. Bitte verbessern Sie die folgenden Funktionen mit NumPy ohne numpy.cov(). \n",
    "2. Messen Sie, welche Funktion schneller ist: kov_mat(), np_kov_mat() oder numpy.cov().\n",
    "3. Die Zufallsvariablen sind auf der Grundgesamtheit und keine Stichprobe.\n",
    "\n",
    "> Bitte benutzen Sie NumPy.\n"
   ]
  },
  {
   "cell_type": "code",
   "execution_count": 1,
   "metadata": {},
   "outputs": [],
   "source": [
    "def kov(x, y):\n",
    "    Ex = sum(x) / len(x)\n",
    "    Ey = sum(y) / len(y)\n",
    "\n",
    "    xy = [x * y for x, y in zip(x,y)] # Liste-Comprehension\n",
    "\n",
    "    Exy = sum(xy) / len(xy)\n",
    "\n",
    "    return round(Exy - (Ex * Ey), 2)"
   ]
  },
  {
   "cell_type": "code",
   "execution_count": 2,
   "metadata": {},
   "outputs": [],
   "source": [
    "def kov_mat(*args):\n",
    "    # Liste-Comprehension um einzigarg Liste zu erzeugen\n",
    "    # [0] * 2 ist zweimal die gleiche Liste\n",
    "    temp = [ [ 0 for _ in range(0,len(args)) ] for _ in range(0, len(args))]\n",
    "    \n",
    "    for i in range(0,len(args)):\n",
    "\n",
    "        for j in range(0,len(args)):\n",
    "            # print(f'Index: ({i}, {j})')\n",
    "            temp[i][j] = kov(args[i], args[j])\n",
    "\n",
    "    # for row in temp:\n",
    "    #   print(row)\n",
    "\n",
    "    return temp"
   ]
  },
  {
   "cell_type": "code",
   "execution_count": 3,
   "metadata": {},
   "outputs": [],
   "source": [
    "import numpy as np"
   ]
  },
  {
   "cell_type": "code",
   "execution_count": 4,
   "metadata": {},
   "outputs": [],
   "source": [
    "def np_kov(x, y):\n",
    "\n",
    "    x, y = np.array(x), np.array(y)\n",
    "    Ex, Ey = np.mean(x), np.mean(y)\n",
    "\n",
    "    Exy = np.mean(x * y)\n",
    "\n",
    "    return np.round(Exy - (Ex * Ey), 4)"
   ]
  },
  {
   "cell_type": "code",
   "execution_count": 5,
   "metadata": {},
   "outputs": [
    {
     "data": {
      "text/plain": [
       "np.float64(0.4444)"
      ]
     },
     "execution_count": 5,
     "metadata": {},
     "output_type": "execute_result"
    }
   ],
   "source": [
    "np_kov([1,1,3], [0,2,2])"
   ]
  },
  {
   "cell_type": "code",
   "execution_count": 6,
   "metadata": {},
   "outputs": [
    {
     "data": {
      "text/plain": [
       "0.44"
      ]
     },
     "execution_count": 6,
     "metadata": {},
     "output_type": "execute_result"
    }
   ],
   "source": [
    "kov([1,1,3], [0,2,2])"
   ]
  },
  {
   "cell_type": "code",
   "execution_count": 7,
   "metadata": {},
   "outputs": [],
   "source": [
    "def np_kov_mat(*args):\n",
    "    # Liste-Comprehension um einzigarg Liste zu erzeugen\n",
    "    # [0] * 2 ist zweimal die gleiche Liste\n",
    "    # temp = [ [ 0 for _ in range(0,len(args)) ] for _ in range(0, len(args))]\n",
    "    lang = len(args)\n",
    "    temp = np.ndarray((lang, lang))\n",
    "\n",
    "    for i in range(0,lang):\n",
    "\n",
    "        for j in range(0,lang):\n",
    "            # print(f'Index: ({i}, {j})')\n",
    "            temp[i][j] = np_kov(args[i], args[j])\n",
    "\n",
    "    # for row in temp:\n",
    "    #     print(row)\n",
    "\n",
    "    return temp"
   ]
  },
  {
   "cell_type": "code",
   "execution_count": 8,
   "metadata": {},
   "outputs": [
    {
     "data": {
      "text/plain": [
       "np.float64(0.888888888888889)"
      ]
     },
     "execution_count": 8,
     "metadata": {},
     "output_type": "execute_result"
    }
   ],
   "source": [
    "np.var([1,1,3])"
   ]
  },
  {
   "cell_type": "code",
   "execution_count": 9,
   "metadata": {},
   "outputs": [
    {
     "data": {
      "text/plain": [
       "array([[0.8889, 0.4444],\n",
       "       [0.4444, 0.8889]])"
      ]
     },
     "execution_count": 9,
     "metadata": {},
     "output_type": "execute_result"
    }
   ],
   "source": [
    "np_kov_mat([1,1,3], [0,2,2])"
   ]
  },
  {
   "cell_type": "code",
   "execution_count": 10,
   "metadata": {},
   "outputs": [
    {
     "data": {
      "text/plain": [
       "[[0.89, 0.44], [0.44, 0.89]]"
      ]
     },
     "execution_count": 10,
     "metadata": {},
     "output_type": "execute_result"
    }
   ],
   "source": [
    "kov_mat([1,1,3], [0,2,2])"
   ]
  },
  {
   "cell_type": "code",
   "execution_count": 11,
   "metadata": {},
   "outputs": [
    {
     "name": "stdout",
     "output_type": "stream",
     "text": [
      "1.39 μs ± 148 ns per loop (mean ± std. dev. of 7 runs, 10,000 loops each)\n"
     ]
    }
   ],
   "source": [
    "%%timeit -n 10000\n",
    "kov([1,1,3], [0,2,2])"
   ]
  },
  {
   "cell_type": "code",
   "execution_count": 12,
   "metadata": {},
   "outputs": [
    {
     "name": "stdout",
     "output_type": "stream",
     "text": [
      "18.7 μs ± 502 ns per loop (mean ± std. dev. of 7 runs, 10,000 loops each)\n"
     ]
    }
   ],
   "source": [
    "%%timeit -n 10000\n",
    "np_kov([1,1,3], [0,2,2])"
   ]
  },
  {
   "cell_type": "code",
   "execution_count": 13,
   "metadata": {},
   "outputs": [
    {
     "name": "stdout",
     "output_type": "stream",
     "text": [
      "6.92 μs ± 861 ns per loop (mean ± std. dev. of 7 runs, 10,000 loops each)\n"
     ]
    }
   ],
   "source": [
    "%%timeit -n 10000\n",
    "kov_mat([1,1,3], [0,2,2])"
   ]
  },
  {
   "cell_type": "code",
   "execution_count": 14,
   "metadata": {},
   "outputs": [
    {
     "name": "stdout",
     "output_type": "stream",
     "text": [
      "91.2 μs ± 4.74 μs per loop (mean ± std. dev. of 7 runs, 10,000 loops each)\n"
     ]
    }
   ],
   "source": [
    "%%timeit -n 10000\n",
    "np_kov_mat([1,1,3], [0,2,2])"
   ]
  },
  {
   "cell_type": "code",
   "execution_count": 15,
   "metadata": {},
   "outputs": [
    {
     "name": "stdout",
     "output_type": "stream",
     "text": [
      "35.4 μs ± 3.97 μs per loop (mean ± std. dev. of 7 runs, 10,000 loops each)\n"
     ]
    }
   ],
   "source": [
    "%%timeit -n 10000\n",
    "np.cov([1,1,3], [0,2,2])"
   ]
  },
  {
   "cell_type": "code",
   "execution_count": 16,
   "metadata": {},
   "outputs": [],
   "source": [
    "rng = np.random.default_rng()"
   ]
  },
  {
   "cell_type": "code",
   "execution_count": 17,
   "metadata": {},
   "outputs": [],
   "source": [
    "zfl_1 = rng.integers(-100, 100, 10_000_000).tolist()\n",
    "zfl_2 = rng.integers(-100, 100, 10_000_000).tolist()\n",
    "zfl_3 = rng.integers(-100, 100, 10_000_000).tolist()"
   ]
  },
  {
   "cell_type": "code",
   "execution_count": 18,
   "metadata": {},
   "outputs": [
    {
     "data": {
      "text/plain": [
       "[[3331.83, 1.68, 1.39], [1.68, 3334.73, 1.56], [1.39, 1.56, 3334.52]]"
      ]
     },
     "execution_count": 18,
     "metadata": {},
     "output_type": "execute_result"
    }
   ],
   "source": [
    "kov_mat(zfl_1, zfl_2, zfl_3) # 10.5s"
   ]
  },
  {
   "cell_type": "code",
   "execution_count": 19,
   "metadata": {},
   "outputs": [],
   "source": [
    "zfl_1 = rng.integers(-100, 100, 10_000_000)\n",
    "zfl_2 = rng.integers(-100, 100, 10_000_000)\n",
    "zfl_3 = rng.integers(-100, 100, 10_000_000)"
   ]
  },
  {
   "cell_type": "code",
   "execution_count": 20,
   "metadata": {},
   "outputs": [
    {
     "data": {
      "text/plain": [
       "array([[ 3.3340358e+03,  2.7920000e-01, -5.2120000e-01],\n",
       "       [ 2.7920000e-01,  3.3333170e+03, -6.3170000e-01],\n",
       "       [-5.2120000e-01, -6.3170000e-01,  3.3328582e+03]])"
      ]
     },
     "execution_count": 20,
     "metadata": {},
     "output_type": "execute_result"
    }
   ],
   "source": [
    "np_kov_mat(zfl_1, zfl_2, zfl_3) # 1.0s"
   ]
  },
  {
   "cell_type": "code",
   "execution_count": 21,
   "metadata": {},
   "outputs": [
    {
     "data": {
      "text/plain": [
       "array([[ 3.33403584e+03,  2.79161855e-01, -5.21153387e-01],\n",
       "       [ 2.79161855e-01,  3.33331697e+03, -6.31672116e-01],\n",
       "       [-5.21153387e-01, -6.31672116e-01,  3.33285816e+03]])"
      ]
     },
     "execution_count": 21,
     "metadata": {},
     "output_type": "execute_result"
    }
   ],
   "source": [
    "np.cov(np.array((zfl_1, zfl_2, zfl_3)), bias=True) # 0.3s"
   ]
  },
  {
   "cell_type": "code",
   "execution_count": 23,
   "metadata": {},
   "outputs": [
    {
     "data": {
      "text/plain": [
       "np.float64(1.2063)"
      ]
     },
     "execution_count": 23,
     "metadata": {},
     "output_type": "execute_result"
    }
   ],
   "source": [
    "np_kov(zfl_1, zfl_2)"
   ]
  },
  {
   "cell_type": "code",
   "execution_count": 24,
   "metadata": {},
   "outputs": [
    {
     "data": {
      "text/plain": [
       "array([[3.33376061e+03, 1.20625228e+00],\n",
       "       [1.20625228e+00, 3.33241613e+03]])"
      ]
     },
     "execution_count": 24,
     "metadata": {},
     "output_type": "execute_result"
    }
   ],
   "source": [
    "np.cov((zfl_1, zfl_2))"
   ]
  }
 ],
 "metadata": {
  "kernelspec": {
   "display_name": "datasci",
   "language": "python",
   "name": "python3"
  },
  "language_info": {
   "codemirror_mode": {
    "name": "ipython",
    "version": 3
   },
   "file_extension": ".py",
   "mimetype": "text/x-python",
   "name": "python",
   "nbconvert_exporter": "python",
   "pygments_lexer": "ipython3",
   "version": "3.13.0"
  }
 },
 "nbformat": 4,
 "nbformat_minor": 2
}
