{
 "cells": [
  {
   "cell_type": "markdown",
   "metadata": {},
   "source": [
    "# 4.1 Aufgaben\n",
    "\n",
    "Diese Aufgabe ist länger als Lernzielkontrolle und fasst alle Themen aus 4.1 and früher zusammen.\n",
    "\n",
    "1. Bitte verbessern Sie die folgenden Funktionen mit NumPy ohne numpy.cov(). \n",
    "2. Messen Sie, welche Funktion schneller ist: kov_mat(), np_kov_mat() oder numpy.cov().\n",
    "3. Die Zufallsvariablen sind auf der Grundgesamtheit und keine Stichprobe.\n",
    "\n",
    "> Bitte benutzen Sie NumPy.\n"
   ]
  },
  {
   "cell_type": "code",
   "execution_count": 196,
   "metadata": {},
   "outputs": [],
   "source": [
    "def kov(x, y):\n",
    "    Ex = sum(x) / len(x)\n",
    "    Ey = sum(y) / len(y)\n",
    "\n",
    "    xy = [x * y for x, y in zip(x,y)] # Liste-Comprehension\n",
    "\n",
    "    Exy = sum(xy) / len(xy)\n",
    "\n",
    "    return round(Exy - (Ex * Ey), 2)"
   ]
  },
  {
   "cell_type": "code",
   "execution_count": 197,
   "metadata": {},
   "outputs": [],
   "source": [
    "def kov_mat(*args):\n",
    "    # Liste-Comprehension um einzigarg Liste zu erzeugen\n",
    "    # [0] * 2 ist zweimal die gleiche Liste\n",
    "    temp = [ [ 0 for _ in range(0,len(args)) ] for _ in range(0, len(args))]\n",
    "    \n",
    "    for i in range(0,len(args)):\n",
    "\n",
    "        for j in range(0,len(args)):\n",
    "            # print(f'Index: ({i}, {j})')\n",
    "            temp[i][j] = kov(args[i], args[j])\n",
    "\n",
    "    # for row in temp:\n",
    "    #   print(row)\n",
    "\n",
    "    return temp"
   ]
  },
  {
   "cell_type": "code",
   "execution_count": 198,
   "metadata": {},
   "outputs": [],
   "source": [
    "import numpy as np"
   ]
  },
  {
   "cell_type": "code",
   "execution_count": 199,
   "metadata": {},
   "outputs": [],
   "source": [
    "def np_kov(x, y):\n",
    "    x, y = np.array(x), np.array(y)\n",
    "    Ex, Ey = np.mean(x), np.mean(y)\n",
    "\n",
    "    xy = x * y\n",
    "\n",
    "    Exy = np.mean(xy)\n",
    "\n",
    "    return np.round(Exy - (Ex * Ey), 4)"
   ]
  },
  {
   "cell_type": "code",
   "execution_count": 200,
   "metadata": {},
   "outputs": [
    {
     "data": {
      "text/plain": [
       "np.float64(0.4444)"
      ]
     },
     "execution_count": 200,
     "metadata": {},
     "output_type": "execute_result"
    }
   ],
   "source": [
    "np_kov([1,1,3], [0,2,2])"
   ]
  },
  {
   "cell_type": "code",
   "execution_count": 201,
   "metadata": {},
   "outputs": [
    {
     "data": {
      "text/plain": [
       "0.44"
      ]
     },
     "execution_count": 201,
     "metadata": {},
     "output_type": "execute_result"
    }
   ],
   "source": [
    "kov([1,1,3], [0,2,2])"
   ]
  },
  {
   "cell_type": "code",
   "execution_count": 202,
   "metadata": {},
   "outputs": [],
   "source": [
    "def np_kov_mat(*args):\n",
    "    # Liste-Comprehension um einzigarg Liste zu erzeugen\n",
    "    # [0] * 2 ist zweimal die gleiche Liste\n",
    "    # temp = [ [ 0 for _ in range(0,len(args)) ] for _ in range(0, len(args))]\n",
    "    lang = len(args)\n",
    "    temp = np.ndarray((lang, lang))\n",
    "\n",
    "    for i in range(0,lang):\n",
    "\n",
    "        for j in range(0,lang):\n",
    "            # print(f'Index: ({i}, {j})')\n",
    "            temp[i][j] = np_kov(args[i], args[j])\n",
    "\n",
    "    # for row in temp:\n",
    "    #     print(row)\n",
    "\n",
    "    return temp"
   ]
  },
  {
   "cell_type": "code",
   "execution_count": 203,
   "metadata": {},
   "outputs": [
    {
     "data": {
      "text/plain": [
       "np.float64(0.888888888888889)"
      ]
     },
     "execution_count": 203,
     "metadata": {},
     "output_type": "execute_result"
    }
   ],
   "source": [
    "np.var([1,1,3])"
   ]
  },
  {
   "cell_type": "code",
   "execution_count": 204,
   "metadata": {},
   "outputs": [
    {
     "data": {
      "text/plain": [
       "array([[0.8889, 0.4444],\n",
       "       [0.4444, 0.8889]])"
      ]
     },
     "execution_count": 204,
     "metadata": {},
     "output_type": "execute_result"
    }
   ],
   "source": [
    "np_kov_mat([1,1,3], [0,2,2])"
   ]
  },
  {
   "cell_type": "code",
   "execution_count": 205,
   "metadata": {},
   "outputs": [
    {
     "data": {
      "text/plain": [
       "[[0.89, 0.44], [0.44, 0.89]]"
      ]
     },
     "execution_count": 205,
     "metadata": {},
     "output_type": "execute_result"
    }
   ],
   "source": [
    "kov_mat([1,1,3], [0,2,2])"
   ]
  },
  {
   "cell_type": "code",
   "execution_count": 206,
   "metadata": {},
   "outputs": [
    {
     "name": "stdout",
     "output_type": "stream",
     "text": [
      "1.6 μs ± 522 ns per loop (mean ± std. dev. of 7 runs, 10,000 loops each)\n"
     ]
    }
   ],
   "source": [
    "%%timeit -n 10000\n",
    "kov([1,1,3], [0,2,2])"
   ]
  },
  {
   "cell_type": "code",
   "execution_count": 207,
   "metadata": {},
   "outputs": [
    {
     "name": "stdout",
     "output_type": "stream",
     "text": [
      "20.3 μs ± 616 ns per loop (mean ± std. dev. of 7 runs, 10,000 loops each)\n"
     ]
    }
   ],
   "source": [
    "%%timeit -n 10000\n",
    "np_kov([1,1,3], [0,2,2])"
   ]
  },
  {
   "cell_type": "code",
   "execution_count": 208,
   "metadata": {},
   "outputs": [
    {
     "name": "stdout",
     "output_type": "stream",
     "text": [
      "6 μs ± 242 ns per loop (mean ± std. dev. of 7 runs, 10,000 loops each)\n"
     ]
    }
   ],
   "source": [
    "%%timeit -n 10000\n",
    "kov_mat([1,1,3], [0,2,2])"
   ]
  },
  {
   "cell_type": "code",
   "execution_count": 209,
   "metadata": {},
   "outputs": [
    {
     "name": "stdout",
     "output_type": "stream",
     "text": [
      "88.1 μs ± 2.15 μs per loop (mean ± std. dev. of 7 runs, 10,000 loops each)\n"
     ]
    }
   ],
   "source": [
    "%%timeit -n 10000\n",
    "np_kov_mat([1,1,3], [0,2,2])"
   ]
  },
  {
   "cell_type": "code",
   "execution_count": 210,
   "metadata": {},
   "outputs": [
    {
     "name": "stdout",
     "output_type": "stream",
     "text": [
      "31.9 μs ± 5.2 μs per loop (mean ± std. dev. of 7 runs, 10,000 loops each)\n"
     ]
    }
   ],
   "source": [
    "%%timeit -n 10000\n",
    "np.cov([1,1,3], [0,2,2])"
   ]
  },
  {
   "cell_type": "code",
   "execution_count": 211,
   "metadata": {},
   "outputs": [],
   "source": [
    "rng = np.random.default_rng()"
   ]
  },
  {
   "cell_type": "code",
   "execution_count": 212,
   "metadata": {},
   "outputs": [],
   "source": [
    "zfl_1 = rng.integers(-100, 100, 10_000_000).tolist()\n",
    "zfl_2 = rng.integers(-100, 100, 10_000_000).tolist()\n",
    "zfl_3 = rng.integers(-100, 100, 10_000_000).tolist()"
   ]
  },
  {
   "cell_type": "code",
   "execution_count": 213,
   "metadata": {},
   "outputs": [
    {
     "data": {
      "text/plain": [
       "[[3332.13, -0.06, -1.44], [-0.06, 3332.84, -0.33], [-1.44, -0.33, 3331.86]]"
      ]
     },
     "execution_count": 213,
     "metadata": {},
     "output_type": "execute_result"
    }
   ],
   "source": [
    "kov_mat(zfl_1, zfl_2, zfl_3) # 10.5s"
   ]
  },
  {
   "cell_type": "code",
   "execution_count": 214,
   "metadata": {},
   "outputs": [],
   "source": [
    "zfl_1 = rng.integers(-100, 100, 10_000_000)\n",
    "zfl_2 = rng.integers(-100, 100, 10_000_000)\n",
    "zfl_3 = rng.integers(-100, 100, 10_000_000)"
   ]
  },
  {
   "cell_type": "code",
   "execution_count": null,
   "metadata": {},
   "outputs": [
    {
     "data": {
      "text/plain": [
       "array([[ 3.3332050e+03,  1.0134000e+00,  2.0510000e-01],\n",
       "       [ 1.0134000e+00,  3.3334605e+03, -3.9700000e-01],\n",
       "       [ 2.0510000e-01, -3.9700000e-01,  3.3343422e+03]])"
      ]
     },
     "execution_count": 215,
     "metadata": {},
     "output_type": "execute_result"
    }
   ],
   "source": [
    "np_kov_mat(zfl_1, zfl_2, zfl_3) # 1.0s"
   ]
  },
  {
   "cell_type": "code",
   "execution_count": null,
   "metadata": {},
   "outputs": [
    {
     "data": {
      "text/plain": [
       "array([[ 3.33320503e+03,  1.01335159e+00,  2.05101338e-01],\n",
       "       [ 1.01335159e+00,  3.33346048e+03, -3.97000405e-01],\n",
       "       [ 2.05101338e-01, -3.97000405e-01,  3.33434217e+03]])"
      ]
     },
     "execution_count": 216,
     "metadata": {},
     "output_type": "execute_result"
    }
   ],
   "source": [
    "np.cov(np.array((zfl_1, zfl_2, zfl_3)), bias=True) # 0.3s"
   ]
  },
  {
   "cell_type": "code",
   "execution_count": 217,
   "metadata": {},
   "outputs": [
    {
     "data": {
      "text/plain": [
       "np.float64(1.0134)"
      ]
     },
     "execution_count": 217,
     "metadata": {},
     "output_type": "execute_result"
    }
   ],
   "source": [
    "np_kov(zfl_1, zfl_2)"
   ]
  },
  {
   "cell_type": "code",
   "execution_count": 218,
   "metadata": {},
   "outputs": [
    {
     "data": {
      "text/plain": [
       "array([[3.33320536e+03, 1.01335169e+00],\n",
       "       [1.01335169e+00, 3.33346081e+03]])"
      ]
     },
     "execution_count": 218,
     "metadata": {},
     "output_type": "execute_result"
    }
   ],
   "source": [
    "np.cov((zfl_1, zfl_2))"
   ]
  }
 ],
 "metadata": {
  "kernelspec": {
   "display_name": "datasci",
   "language": "python",
   "name": "python3"
  },
  "language_info": {
   "codemirror_mode": {
    "name": "ipython",
    "version": 3
   },
   "file_extension": ".py",
   "mimetype": "text/x-python",
   "name": "python",
   "nbconvert_exporter": "python",
   "pygments_lexer": "ipython3",
   "version": "3.13.0"
  }
 },
 "nbformat": 4,
 "nbformat_minor": 2
}
