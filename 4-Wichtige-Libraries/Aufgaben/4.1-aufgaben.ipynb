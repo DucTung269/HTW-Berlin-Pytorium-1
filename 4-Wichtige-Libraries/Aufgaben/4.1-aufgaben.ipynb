{
 "cells": [
  {
   "cell_type": "markdown",
   "metadata": {},
   "source": [
    "# 4.1 Aufgaben\n",
    "\n",
    "Diese Aufgabe ist länger als Lernzielkontrolle und fasst alle Themen aus 4.1 and früher zusammen.\n",
    "\n",
    "1. Bitte verbessern Sie die folgenden Funktionen mit NumPy ohne numpy.cov(). \n",
    "2. Messen Sie, welche Funktion schneller ist: kov_mat(), np_kov_mat() oder numpy.cov().\n",
    "3. Die Zufallsvariablen sind auf der Grundgesamtheit und keine Stichprobe.\n",
    "\n",
    "> Bitte benutzen Sie NumPy.\n"
   ]
  },
  {
   "cell_type": "code",
   "execution_count": 1,
   "metadata": {},
   "outputs": [],
   "source": [
    "def kov(x, y):\n",
    "    Ex = sum(x) / len(x)\n",
    "    Ey = sum(y) / len(y)\n",
    "\n",
    "    xy = [x * y for x, y in zip(x,y)] # Liste-Comprehension\n",
    "\n",
    "    Exy = sum(xy) / len(xy)\n",
    "\n",
    "    return round(Exy - (Ex * Ey), 2)"
   ]
  },
  {
   "cell_type": "code",
   "execution_count": 5,
   "metadata": {},
   "outputs": [],
   "source": [
    "def kov_mat(*args):\n",
    "    # Liste-Comprehension um einzigarg Liste zu erzeugen\n",
    "    # [0] * 2 ist zweimal die gleiche Liste\n",
    "    temp = [ [ 0 for _ in range(0,len(args)) ] for _ in range(0, len(args))]\n",
    "    \n",
    "    for i in range(0,len(args)):\n",
    "\n",
    "        for j in range(0,len(args)):\n",
    "            print(f'Index: ({i}, {j})')\n",
    "            temp[i][j] = kov(args[i], args[j])\n",
    "\n",
    "    for row in temp:\n",
    "        print(row)\n",
    "\n",
    "    return temp"
   ]
  },
  {
   "cell_type": "code",
   "execution_count": 6,
   "metadata": {},
   "outputs": [],
   "source": [
    "def np_kov():\n",
    "    pass"
   ]
  },
  {
   "cell_type": "code",
   "execution_count": 4,
   "metadata": {},
   "outputs": [],
   "source": [
    "def np_kov_mat():\n",
    "    pass"
   ]
  },
  {
   "cell_type": "code",
   "execution_count": null,
   "metadata": {},
   "outputs": [],
   "source": []
  }
 ],
 "metadata": {
  "kernelspec": {
   "display_name": "datasci",
   "language": "python",
   "name": "python3"
  },
  "language_info": {
   "codemirror_mode": {
    "name": "ipython",
    "version": 3
   },
   "file_extension": ".py",
   "mimetype": "text/x-python",
   "name": "python",
   "nbconvert_exporter": "python",
   "pygments_lexer": "ipython3",
   "version": "3.13.0"
  }
 },
 "nbformat": 4,
 "nbformat_minor": 2
}
