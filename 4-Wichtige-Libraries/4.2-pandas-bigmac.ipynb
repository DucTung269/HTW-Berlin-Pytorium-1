{
 "cells": [
  {
   "cell_type": "code",
   "execution_count": 84,
   "metadata": {},
   "outputs": [],
   "source": [
    "import numpy as np\n",
    "import pandas as pd\n",
    "import matplotlib.pyplot as plt"
   ]
  },
  {
   "cell_type": "code",
   "execution_count": 85,
   "metadata": {},
   "outputs": [],
   "source": [
    "# https://www.kaggle.com/datasets/vittoriogiatti/bigmacprice\n",
    "daten = pd.read_csv('..\\\\daten\\\\BigmacPrice.csv', sep=',', header='infer')\n",
    "# im gleichem Ordner\n",
    "# daten = pd.read_csv('BigmacPrice.csv', sep=',', header='infer')\n",
    "# C:\\Users\\pat_h\\OneDrive\\p-spohr-repos\\HTW-Berlin-Pytorium\\daten\\BigmacPrice.csv"
   ]
  },
  {
   "cell_type": "code",
   "execution_count": 86,
   "metadata": {},
   "outputs": [
    {
     "data": {
      "text/plain": [
       "pandas.core.frame.DataFrame"
      ]
     },
     "execution_count": 86,
     "metadata": {},
     "output_type": "execute_result"
    }
   ],
   "source": [
    "type(daten)"
   ]
  },
  {
   "cell_type": "code",
   "execution_count": 87,
   "metadata": {},
   "outputs": [
    {
     "data": {
      "text/html": [
       "<div>\n",
       "<style scoped>\n",
       "    .dataframe tbody tr th:only-of-type {\n",
       "        vertical-align: middle;\n",
       "    }\n",
       "\n",
       "    .dataframe tbody tr th {\n",
       "        vertical-align: top;\n",
       "    }\n",
       "\n",
       "    .dataframe thead th {\n",
       "        text-align: right;\n",
       "    }\n",
       "</style>\n",
       "<table border=\"1\" class=\"dataframe\">\n",
       "  <thead>\n",
       "    <tr style=\"text-align: right;\">\n",
       "      <th></th>\n",
       "      <th>date</th>\n",
       "      <th>currency_code</th>\n",
       "      <th>name</th>\n",
       "      <th>local_price</th>\n",
       "      <th>dollar_ex</th>\n",
       "      <th>dollar_price</th>\n",
       "    </tr>\n",
       "  </thead>\n",
       "  <tbody>\n",
       "    <tr>\n",
       "      <th>0</th>\n",
       "      <td>2000-04-01</td>\n",
       "      <td>ARS</td>\n",
       "      <td>Argentina</td>\n",
       "      <td>2.50</td>\n",
       "      <td>1</td>\n",
       "      <td>2.50</td>\n",
       "    </tr>\n",
       "    <tr>\n",
       "      <th>1</th>\n",
       "      <td>2000-04-01</td>\n",
       "      <td>AUD</td>\n",
       "      <td>Australia</td>\n",
       "      <td>2.59</td>\n",
       "      <td>1</td>\n",
       "      <td>2.59</td>\n",
       "    </tr>\n",
       "    <tr>\n",
       "      <th>2</th>\n",
       "      <td>2000-04-01</td>\n",
       "      <td>BRL</td>\n",
       "      <td>Brazil</td>\n",
       "      <td>2.95</td>\n",
       "      <td>1</td>\n",
       "      <td>2.95</td>\n",
       "    </tr>\n",
       "    <tr>\n",
       "      <th>3</th>\n",
       "      <td>2000-04-01</td>\n",
       "      <td>GBP</td>\n",
       "      <td>Britain</td>\n",
       "      <td>1.90</td>\n",
       "      <td>1</td>\n",
       "      <td>1.90</td>\n",
       "    </tr>\n",
       "    <tr>\n",
       "      <th>4</th>\n",
       "      <td>2000-04-01</td>\n",
       "      <td>CAD</td>\n",
       "      <td>Canada</td>\n",
       "      <td>2.85</td>\n",
       "      <td>1</td>\n",
       "      <td>2.85</td>\n",
       "    </tr>\n",
       "    <tr>\n",
       "      <th>5</th>\n",
       "      <td>2000-04-01</td>\n",
       "      <td>CLP</td>\n",
       "      <td>Chile</td>\n",
       "      <td>1260.00</td>\n",
       "      <td>514</td>\n",
       "      <td>2.45</td>\n",
       "    </tr>\n",
       "    <tr>\n",
       "      <th>6</th>\n",
       "      <td>2000-04-01</td>\n",
       "      <td>CNY</td>\n",
       "      <td>China</td>\n",
       "      <td>9.90</td>\n",
       "      <td>8</td>\n",
       "      <td>1.24</td>\n",
       "    </tr>\n",
       "    <tr>\n",
       "      <th>7</th>\n",
       "      <td>2000-04-01</td>\n",
       "      <td>CZK</td>\n",
       "      <td>Czech Republic</td>\n",
       "      <td>54.37</td>\n",
       "      <td>39</td>\n",
       "      <td>1.39</td>\n",
       "    </tr>\n",
       "    <tr>\n",
       "      <th>8</th>\n",
       "      <td>2000-04-01</td>\n",
       "      <td>DKK</td>\n",
       "      <td>Denmark</td>\n",
       "      <td>24.75</td>\n",
       "      <td>8</td>\n",
       "      <td>3.09</td>\n",
       "    </tr>\n",
       "    <tr>\n",
       "      <th>9</th>\n",
       "      <td>2000-04-01</td>\n",
       "      <td>EUR</td>\n",
       "      <td>Euro area</td>\n",
       "      <td>2.56</td>\n",
       "      <td>1</td>\n",
       "      <td>2.56</td>\n",
       "    </tr>\n",
       "  </tbody>\n",
       "</table>\n",
       "</div>"
      ],
      "text/plain": [
       "         date currency_code            name  local_price  dollar_ex  \\\n",
       "0  2000-04-01           ARS       Argentina         2.50          1   \n",
       "1  2000-04-01           AUD       Australia         2.59          1   \n",
       "2  2000-04-01           BRL          Brazil         2.95          1   \n",
       "3  2000-04-01           GBP         Britain         1.90          1   \n",
       "4  2000-04-01           CAD          Canada         2.85          1   \n",
       "5  2000-04-01           CLP           Chile      1260.00        514   \n",
       "6  2000-04-01           CNY           China         9.90          8   \n",
       "7  2000-04-01           CZK  Czech Republic        54.37         39   \n",
       "8  2000-04-01           DKK         Denmark        24.75          8   \n",
       "9  2000-04-01           EUR       Euro area         2.56          1   \n",
       "\n",
       "   dollar_price  \n",
       "0          2.50  \n",
       "1          2.59  \n",
       "2          2.95  \n",
       "3          1.90  \n",
       "4          2.85  \n",
       "5          2.45  \n",
       "6          1.24  \n",
       "7          1.39  \n",
       "8          3.09  \n",
       "9          2.56  "
      ]
     },
     "execution_count": 87,
     "metadata": {},
     "output_type": "execute_result"
    }
   ],
   "source": [
    "daten.head(10)"
   ]
  },
  {
   "cell_type": "code",
   "execution_count": 88,
   "metadata": {},
   "outputs": [
    {
     "data": {
      "text/html": [
       "<div>\n",
       "<style scoped>\n",
       "    .dataframe tbody tr th:only-of-type {\n",
       "        vertical-align: middle;\n",
       "    }\n",
       "\n",
       "    .dataframe tbody tr th {\n",
       "        vertical-align: top;\n",
       "    }\n",
       "\n",
       "    .dataframe thead th {\n",
       "        text-align: right;\n",
       "    }\n",
       "</style>\n",
       "<table border=\"1\" class=\"dataframe\">\n",
       "  <thead>\n",
       "    <tr style=\"text-align: right;\">\n",
       "      <th></th>\n",
       "      <th>date</th>\n",
       "      <th>currency_code</th>\n",
       "      <th>name</th>\n",
       "      <th>local_price</th>\n",
       "      <th>dollar_ex</th>\n",
       "      <th>dollar_price</th>\n",
       "    </tr>\n",
       "  </thead>\n",
       "  <tbody>\n",
       "    <tr>\n",
       "      <th>1941</th>\n",
       "      <td>2022-07-01</td>\n",
       "      <td>AED</td>\n",
       "      <td>United Arab Emirates</td>\n",
       "      <td>18.00</td>\n",
       "      <td>3</td>\n",
       "      <td>6.00</td>\n",
       "    </tr>\n",
       "    <tr>\n",
       "      <th>1942</th>\n",
       "      <td>2022-07-01</td>\n",
       "      <td>USD</td>\n",
       "      <td>United States</td>\n",
       "      <td>5.15</td>\n",
       "      <td>1</td>\n",
       "      <td>5.15</td>\n",
       "    </tr>\n",
       "    <tr>\n",
       "      <th>1943</th>\n",
       "      <td>2022-07-01</td>\n",
       "      <td>UYU</td>\n",
       "      <td>Uruguay</td>\n",
       "      <td>255.00</td>\n",
       "      <td>41</td>\n",
       "      <td>6.22</td>\n",
       "    </tr>\n",
       "    <tr>\n",
       "      <th>1944</th>\n",
       "      <td>2022-07-01</td>\n",
       "      <td>VES</td>\n",
       "      <td>Venezuela</td>\n",
       "      <td>10.00</td>\n",
       "      <td>5</td>\n",
       "      <td>2.00</td>\n",
       "    </tr>\n",
       "    <tr>\n",
       "      <th>1945</th>\n",
       "      <td>2022-07-01</td>\n",
       "      <td>VND</td>\n",
       "      <td>Vietnam</td>\n",
       "      <td>69000.00</td>\n",
       "      <td>23417</td>\n",
       "      <td>2.95</td>\n",
       "    </tr>\n",
       "  </tbody>\n",
       "</table>\n",
       "</div>"
      ],
      "text/plain": [
       "            date currency_code                  name  local_price  dollar_ex  \\\n",
       "1941  2022-07-01           AED  United Arab Emirates        18.00          3   \n",
       "1942  2022-07-01           USD         United States         5.15          1   \n",
       "1943  2022-07-01           UYU               Uruguay       255.00         41   \n",
       "1944  2022-07-01           VES             Venezuela        10.00          5   \n",
       "1945  2022-07-01           VND               Vietnam     69000.00      23417   \n",
       "\n",
       "      dollar_price  \n",
       "1941          6.00  \n",
       "1942          5.15  \n",
       "1943          6.22  \n",
       "1944          2.00  \n",
       "1945          2.95  "
      ]
     },
     "execution_count": 88,
     "metadata": {},
     "output_type": "execute_result"
    }
   ],
   "source": [
    "daten.tail()"
   ]
  },
  {
   "cell_type": "code",
   "execution_count": 89,
   "metadata": {},
   "outputs": [
    {
     "data": {
      "text/plain": [
       "date              object\n",
       "currency_code     object\n",
       "name              object\n",
       "local_price      float64\n",
       "dollar_ex          int64\n",
       "dollar_price     float64\n",
       "dtype: object"
      ]
     },
     "execution_count": 89,
     "metadata": {},
     "output_type": "execute_result"
    }
   ],
   "source": [
    "daten.dtypes"
   ]
  },
  {
   "cell_type": "code",
   "execution_count": 90,
   "metadata": {},
   "outputs": [
    {
     "data": {
      "text/plain": [
       "11676"
      ]
     },
     "execution_count": 90,
     "metadata": {},
     "output_type": "execute_result"
    }
   ],
   "source": [
    "daten.size"
   ]
  },
  {
   "cell_type": "code",
   "execution_count": 91,
   "metadata": {},
   "outputs": [
    {
     "data": {
      "text/plain": [
       "2"
      ]
     },
     "execution_count": 91,
     "metadata": {},
     "output_type": "execute_result"
    }
   ],
   "source": [
    "daten.ndim"
   ]
  },
  {
   "cell_type": "code",
   "execution_count": 92,
   "metadata": {},
   "outputs": [
    {
     "data": {
      "text/plain": [
       "(1946, 6)"
      ]
     },
     "execution_count": 92,
     "metadata": {},
     "output_type": "execute_result"
    }
   ],
   "source": [
    "daten.shape"
   ]
  },
  {
   "cell_type": "code",
   "execution_count": 93,
   "metadata": {},
   "outputs": [],
   "source": [
    "daten.columns = ['Datum', 'Währung', 'Land', 'Preis','DK', 'DP'] # Dollar-Kurs, Dollar-Preis"
   ]
  },
  {
   "cell_type": "code",
   "execution_count": 94,
   "metadata": {},
   "outputs": [
    {
     "data": {
      "text/html": [
       "<div>\n",
       "<style scoped>\n",
       "    .dataframe tbody tr th:only-of-type {\n",
       "        vertical-align: middle;\n",
       "    }\n",
       "\n",
       "    .dataframe tbody tr th {\n",
       "        vertical-align: top;\n",
       "    }\n",
       "\n",
       "    .dataframe thead th {\n",
       "        text-align: right;\n",
       "    }\n",
       "</style>\n",
       "<table border=\"1\" class=\"dataframe\">\n",
       "  <thead>\n",
       "    <tr style=\"text-align: right;\">\n",
       "      <th></th>\n",
       "      <th>Datum</th>\n",
       "      <th>Währung</th>\n",
       "      <th>Land</th>\n",
       "      <th>Preis</th>\n",
       "      <th>DK</th>\n",
       "      <th>DP</th>\n",
       "    </tr>\n",
       "  </thead>\n",
       "  <tbody>\n",
       "    <tr>\n",
       "      <th>0</th>\n",
       "      <td>2000-04-01</td>\n",
       "      <td>ARS</td>\n",
       "      <td>Argentina</td>\n",
       "      <td>2.5</td>\n",
       "      <td>1</td>\n",
       "      <td>2.5</td>\n",
       "    </tr>\n",
       "  </tbody>\n",
       "</table>\n",
       "</div>"
      ],
      "text/plain": [
       "        Datum Währung       Land  Preis  DK   DP\n",
       "0  2000-04-01     ARS  Argentina    2.5   1  2.5"
      ]
     },
     "execution_count": 94,
     "metadata": {},
     "output_type": "execute_result"
    }
   ],
   "source": [
    "daten.head(n=1)"
   ]
  },
  {
   "cell_type": "code",
   "execution_count": 95,
   "metadata": {},
   "outputs": [
    {
     "data": {
      "text/plain": [
       "0    2000-04-01\n",
       "1    2000-04-01\n",
       "2    2000-04-01\n",
       "3    2000-04-01\n",
       "4    2000-04-01\n",
       "Name: Datum, dtype: object"
      ]
     },
     "execution_count": 95,
     "metadata": {},
     "output_type": "execute_result"
    }
   ],
   "source": [
    "daten['Datum'].head()"
   ]
  },
  {
   "cell_type": "code",
   "execution_count": 96,
   "metadata": {},
   "outputs": [],
   "source": [
    "daten['Datum'] = pd.to_datetime(daten['Datum'], format='%Y-%m-%d')\n",
    "\n",
    "# Lesen Sie die Dokumentation Python-datetime für mehr Info über format\n",
    "# https://docs.python.org/3/library/datetime.html\n",
    "# https://docs.python.org/3/library/datetime.html#format-codes"
   ]
  },
  {
   "cell_type": "code",
   "execution_count": 97,
   "metadata": {},
   "outputs": [
    {
     "data": {
      "text/plain": [
       "Datum      datetime64[ns]\n",
       "Währung            object\n",
       "Land               object\n",
       "Preis             float64\n",
       "DK                  int64\n",
       "DP                float64\n",
       "dtype: object"
      ]
     },
     "execution_count": 97,
     "metadata": {},
     "output_type": "execute_result"
    }
   ],
   "source": [
    "daten.dtypes"
   ]
  },
  {
   "cell_type": "code",
   "execution_count": 98,
   "metadata": {},
   "outputs": [
    {
     "name": "stdout",
     "output_type": "stream",
     "text": [
      "2\n",
      "(1946, 6)\n",
      "11676\n"
     ]
    }
   ],
   "source": [
    "print(daten.ndim)\n",
    "print(daten.shape)\n",
    "print(daten.size)"
   ]
  },
  {
   "cell_type": "code",
   "execution_count": 99,
   "metadata": {},
   "outputs": [
    {
     "data": {
      "text/plain": [
       "0    ARS\n",
       "1    AUD\n",
       "2    BRL\n",
       "3    GBP\n",
       "4    CAD\n",
       "Name: Währung, dtype: object"
      ]
     },
     "execution_count": 99,
     "metadata": {},
     "output_type": "execute_result"
    }
   ],
   "source": [
    "daten.Währung.head()"
   ]
  },
  {
   "cell_type": "code",
   "execution_count": 100,
   "metadata": {},
   "outputs": [
    {
     "data": {
      "text/plain": [
       "0    Argentina\n",
       "1    Australia\n",
       "2       Brazil\n",
       "3      Britain\n",
       "4       Canada\n",
       "Name: Land, dtype: object"
      ]
     },
     "execution_count": 100,
     "metadata": {},
     "output_type": "execute_result"
    }
   ],
   "source": [
    "daten['Land'].head()"
   ]
  },
  {
   "cell_type": "code",
   "execution_count": 101,
   "metadata": {},
   "outputs": [
    {
     "data": {
      "text/plain": [
       "0    Argentina\n",
       "1    Australia\n",
       "2       Brazil\n",
       "3      Britain\n",
       "4       Canada\n",
       "Name: Land, dtype: object"
      ]
     },
     "execution_count": 101,
     "metadata": {},
     "output_type": "execute_result"
    }
   ],
   "source": [
    "daten.Land.head()"
   ]
  },
  {
   "cell_type": "code",
   "execution_count": 102,
   "metadata": {},
   "outputs": [
    {
     "data": {
      "text/plain": [
       "array(['Argentina', 'Australia', 'Brazil', 'Britain', 'Canada', 'Chile',\n",
       "       'China', 'Czech Republic', 'Denmark', 'Euro area', 'Hong Kong',\n",
       "       'Hungary', 'Indonesia', 'Israel', 'Japan', 'Malaysia', 'Mexico',\n",
       "       'New Zealand', 'Poland', 'Russia', 'Singapore', 'South Africa',\n",
       "       'South Korea', 'Sweden', 'Switzerland', 'Taiwan', 'Thailand',\n",
       "       'United States', 'Philippines', 'Norway', 'Peru', 'Turkey',\n",
       "       'Venezuela', 'Egypt', 'Colombia', 'Costa Rica', 'Pakistan',\n",
       "       'Saudi Arabia', 'Sri Lanka', 'Ukraine', 'Uruguay', 'UAE',\n",
       "       'Austria', 'Belgium', 'Estonia', 'Finland', 'France', 'Germany',\n",
       "       'Greece', 'India', 'Ireland', 'Italy', 'Netherlands', 'Portugal',\n",
       "       'Spain', 'Lithuania', 'Vietnam', 'Azerbaijan', 'Bahrain',\n",
       "       'Croatia', 'Guatemala', 'Honduras', 'Jordan', 'Kuwait', 'Latvia',\n",
       "       'Lebanon', 'Moldova', 'Nicaragua', 'Oman', 'Qatar', 'Romania',\n",
       "       'Slovakia', 'Slovenia', 'United Arab Emirates'], dtype=object)"
      ]
     },
     "execution_count": 102,
     "metadata": {},
     "output_type": "execute_result"
    }
   ],
   "source": [
    "daten.Land.unique()"
   ]
  },
  {
   "cell_type": "code",
   "execution_count": 103,
   "metadata": {},
   "outputs": [
    {
     "data": {
      "text/plain": [
       "0       False\n",
       "1       False\n",
       "2       False\n",
       "3       False\n",
       "4       False\n",
       "        ...  \n",
       "1941    False\n",
       "1942     True\n",
       "1943    False\n",
       "1944    False\n",
       "1945    False\n",
       "Name: Land, Length: 1946, dtype: bool"
      ]
     },
     "execution_count": 103,
     "metadata": {},
     "output_type": "execute_result"
    }
   ],
   "source": [
    "daten['Land'] == 'United States'"
   ]
  },
  {
   "cell_type": "code",
   "execution_count": 104,
   "metadata": {},
   "outputs": [
    {
     "data": {
      "text/html": [
       "<div>\n",
       "<style scoped>\n",
       "    .dataframe tbody tr th:only-of-type {\n",
       "        vertical-align: middle;\n",
       "    }\n",
       "\n",
       "    .dataframe tbody tr th {\n",
       "        vertical-align: top;\n",
       "    }\n",
       "\n",
       "    .dataframe thead th {\n",
       "        text-align: right;\n",
       "    }\n",
       "</style>\n",
       "<table border=\"1\" class=\"dataframe\">\n",
       "  <thead>\n",
       "    <tr style=\"text-align: right;\">\n",
       "      <th></th>\n",
       "      <th>Datum</th>\n",
       "      <th>Währung</th>\n",
       "      <th>Land</th>\n",
       "      <th>Preis</th>\n",
       "      <th>DK</th>\n",
       "      <th>DP</th>\n",
       "    </tr>\n",
       "  </thead>\n",
       "  <tbody>\n",
       "    <tr>\n",
       "      <th>27</th>\n",
       "      <td>2000-04-01</td>\n",
       "      <td>USD</td>\n",
       "      <td>United States</td>\n",
       "      <td>2.24</td>\n",
       "      <td>1</td>\n",
       "      <td>2.24</td>\n",
       "    </tr>\n",
       "    <tr>\n",
       "      <th>55</th>\n",
       "      <td>2001-04-01</td>\n",
       "      <td>USD</td>\n",
       "      <td>United States</td>\n",
       "      <td>2.24</td>\n",
       "      <td>1</td>\n",
       "      <td>2.24</td>\n",
       "    </tr>\n",
       "    <tr>\n",
       "      <th>87</th>\n",
       "      <td>2002-04-01</td>\n",
       "      <td>USD</td>\n",
       "      <td>United States</td>\n",
       "      <td>2.35</td>\n",
       "      <td>1</td>\n",
       "      <td>2.35</td>\n",
       "    </tr>\n",
       "    <tr>\n",
       "      <th>119</th>\n",
       "      <td>2003-04-01</td>\n",
       "      <td>USD</td>\n",
       "      <td>United States</td>\n",
       "      <td>2.46</td>\n",
       "      <td>1</td>\n",
       "      <td>2.46</td>\n",
       "    </tr>\n",
       "    <tr>\n",
       "      <th>158</th>\n",
       "      <td>2004-05-01</td>\n",
       "      <td>USD</td>\n",
       "      <td>United States</td>\n",
       "      <td>2.47</td>\n",
       "      <td>1</td>\n",
       "      <td>2.47</td>\n",
       "    </tr>\n",
       "  </tbody>\n",
       "</table>\n",
       "</div>"
      ],
      "text/plain": [
       "         Datum Währung           Land  Preis  DK    DP\n",
       "27  2000-04-01     USD  United States   2.24   1  2.24\n",
       "55  2001-04-01     USD  United States   2.24   1  2.24\n",
       "87  2002-04-01     USD  United States   2.35   1  2.35\n",
       "119 2003-04-01     USD  United States   2.46   1  2.46\n",
       "158 2004-05-01     USD  United States   2.47   1  2.47"
      ]
     },
     "execution_count": 104,
     "metadata": {},
     "output_type": "execute_result"
    }
   ],
   "source": [
    "daten.loc[daten['Land'] == 'United States'].head()"
   ]
  },
  {
   "cell_type": "code",
   "execution_count": 105,
   "metadata": {},
   "outputs": [
    {
     "data": {
      "text/html": [
       "<div>\n",
       "<style scoped>\n",
       "    .dataframe tbody tr th:only-of-type {\n",
       "        vertical-align: middle;\n",
       "    }\n",
       "\n",
       "    .dataframe tbody tr th {\n",
       "        vertical-align: top;\n",
       "    }\n",
       "\n",
       "    .dataframe thead th {\n",
       "        text-align: right;\n",
       "    }\n",
       "</style>\n",
       "<table border=\"1\" class=\"dataframe\">\n",
       "  <thead>\n",
       "    <tr style=\"text-align: right;\">\n",
       "      <th></th>\n",
       "      <th>Datum</th>\n",
       "      <th>Währung</th>\n",
       "      <th>Land</th>\n",
       "      <th>Preis</th>\n",
       "      <th>DK</th>\n",
       "      <th>DP</th>\n",
       "    </tr>\n",
       "  </thead>\n",
       "  <tbody>\n",
       "    <tr>\n",
       "      <th>27</th>\n",
       "      <td>2000-04-01</td>\n",
       "      <td>USD</td>\n",
       "      <td>United States</td>\n",
       "      <td>2.24</td>\n",
       "      <td>1</td>\n",
       "      <td>2.24</td>\n",
       "    </tr>\n",
       "    <tr>\n",
       "      <th>55</th>\n",
       "      <td>2001-04-01</td>\n",
       "      <td>USD</td>\n",
       "      <td>United States</td>\n",
       "      <td>2.24</td>\n",
       "      <td>1</td>\n",
       "      <td>2.24</td>\n",
       "    </tr>\n",
       "    <tr>\n",
       "      <th>87</th>\n",
       "      <td>2002-04-01</td>\n",
       "      <td>USD</td>\n",
       "      <td>United States</td>\n",
       "      <td>2.35</td>\n",
       "      <td>1</td>\n",
       "      <td>2.35</td>\n",
       "    </tr>\n",
       "    <tr>\n",
       "      <th>119</th>\n",
       "      <td>2003-04-01</td>\n",
       "      <td>USD</td>\n",
       "      <td>United States</td>\n",
       "      <td>2.46</td>\n",
       "      <td>1</td>\n",
       "      <td>2.46</td>\n",
       "    </tr>\n",
       "    <tr>\n",
       "      <th>158</th>\n",
       "      <td>2004-05-01</td>\n",
       "      <td>USD</td>\n",
       "      <td>United States</td>\n",
       "      <td>2.47</td>\n",
       "      <td>1</td>\n",
       "      <td>2.47</td>\n",
       "    </tr>\n",
       "  </tbody>\n",
       "</table>\n",
       "</div>"
      ],
      "text/plain": [
       "         Datum Währung           Land  Preis  DK    DP\n",
       "27  2000-04-01     USD  United States   2.24   1  2.24\n",
       "55  2001-04-01     USD  United States   2.24   1  2.24\n",
       "87  2002-04-01     USD  United States   2.35   1  2.35\n",
       "119 2003-04-01     USD  United States   2.46   1  2.46\n",
       "158 2004-05-01     USD  United States   2.47   1  2.47"
      ]
     },
     "execution_count": 105,
     "metadata": {},
     "output_type": "execute_result"
    }
   ],
   "source": [
    "daten[daten['Land'] == 'United States'].head()"
   ]
  },
  {
   "cell_type": "code",
   "execution_count": 106,
   "metadata": {},
   "outputs": [
    {
     "data": {
      "text/plain": [
       "pandas.core.series.Series"
      ]
     },
     "execution_count": 106,
     "metadata": {},
     "output_type": "execute_result"
    }
   ],
   "source": [
    "type(daten.iloc[27])"
   ]
  },
  {
   "cell_type": "code",
   "execution_count": 107,
   "metadata": {},
   "outputs": [
    {
     "data": {
      "text/plain": [
       "pandas.core.series.Series"
      ]
     },
     "execution_count": 107,
     "metadata": {},
     "output_type": "execute_result"
    }
   ],
   "source": [
    "type(daten[daten['Land'] == 'United States']['Preis'])"
   ]
  },
  {
   "cell_type": "code",
   "execution_count": 108,
   "metadata": {},
   "outputs": [],
   "source": [
    "usa_daten = daten[daten['Land'] == 'United States']"
   ]
  },
  {
   "cell_type": "code",
   "execution_count": 109,
   "metadata": {},
   "outputs": [
    {
     "data": {
      "text/html": [
       "<div>\n",
       "<style scoped>\n",
       "    .dataframe tbody tr th:only-of-type {\n",
       "        vertical-align: middle;\n",
       "    }\n",
       "\n",
       "    .dataframe tbody tr th {\n",
       "        vertical-align: top;\n",
       "    }\n",
       "\n",
       "    .dataframe thead th {\n",
       "        text-align: right;\n",
       "    }\n",
       "</style>\n",
       "<table border=\"1\" class=\"dataframe\">\n",
       "  <thead>\n",
       "    <tr style=\"text-align: right;\">\n",
       "      <th></th>\n",
       "      <th>Datum</th>\n",
       "      <th>Preis</th>\n",
       "      <th>DK</th>\n",
       "      <th>DP</th>\n",
       "    </tr>\n",
       "  </thead>\n",
       "  <tbody>\n",
       "    <tr>\n",
       "      <th>count</th>\n",
       "      <td>37</td>\n",
       "      <td>37.000000</td>\n",
       "      <td>37.0</td>\n",
       "      <td>37.000000</td>\n",
       "    </tr>\n",
       "    <tr>\n",
       "      <th>mean</th>\n",
       "      <td>2012-10-12 14:55:08.108108032</td>\n",
       "      <td>3.840541</td>\n",
       "      <td>1.0</td>\n",
       "      <td>3.840541</td>\n",
       "    </tr>\n",
       "    <tr>\n",
       "      <th>min</th>\n",
       "      <td>2000-04-01 00:00:00</td>\n",
       "      <td>2.240000</td>\n",
       "      <td>1.0</td>\n",
       "      <td>2.240000</td>\n",
       "    </tr>\n",
       "    <tr>\n",
       "      <th>25%</th>\n",
       "      <td>2007-06-01 00:00:00</td>\n",
       "      <td>3.000000</td>\n",
       "      <td>1.0</td>\n",
       "      <td>3.000000</td>\n",
       "    </tr>\n",
       "    <tr>\n",
       "      <th>50%</th>\n",
       "      <td>2013-07-01 00:00:00</td>\n",
       "      <td>4.180000</td>\n",
       "      <td>1.0</td>\n",
       "      <td>4.180000</td>\n",
       "    </tr>\n",
       "    <tr>\n",
       "      <th>75%</th>\n",
       "      <td>2018-01-01 00:00:00</td>\n",
       "      <td>4.610000</td>\n",
       "      <td>1.0</td>\n",
       "      <td>4.610000</td>\n",
       "    </tr>\n",
       "    <tr>\n",
       "      <th>max</th>\n",
       "      <td>2022-07-01 00:00:00</td>\n",
       "      <td>5.150000</td>\n",
       "      <td>1.0</td>\n",
       "      <td>5.150000</td>\n",
       "    </tr>\n",
       "    <tr>\n",
       "      <th>std</th>\n",
       "      <td>NaN</td>\n",
       "      <td>0.915987</td>\n",
       "      <td>0.0</td>\n",
       "      <td>0.915987</td>\n",
       "    </tr>\n",
       "  </tbody>\n",
       "</table>\n",
       "</div>"
      ],
      "text/plain": [
       "                               Datum      Preis    DK         DP\n",
       "count                             37  37.000000  37.0  37.000000\n",
       "mean   2012-10-12 14:55:08.108108032   3.840541   1.0   3.840541\n",
       "min              2000-04-01 00:00:00   2.240000   1.0   2.240000\n",
       "25%              2007-06-01 00:00:00   3.000000   1.0   3.000000\n",
       "50%              2013-07-01 00:00:00   4.180000   1.0   4.180000\n",
       "75%              2018-01-01 00:00:00   4.610000   1.0   4.610000\n",
       "max              2022-07-01 00:00:00   5.150000   1.0   5.150000\n",
       "std                              NaN   0.915987   0.0   0.915987"
      ]
     },
     "execution_count": 109,
     "metadata": {},
     "output_type": "execute_result"
    }
   ],
   "source": [
    "daten[daten['Land'] == 'United States'].describe()"
   ]
  },
  {
   "cell_type": "code",
   "execution_count": 110,
   "metadata": {},
   "outputs": [
    {
     "data": {
      "text/plain": [
       "[<matplotlib.lines.Line2D at 0x24b499de490>]"
      ]
     },
     "execution_count": 110,
     "metadata": {},
     "output_type": "execute_result"
    },
    {
     "data": {
      "image/png": "[encoded data removed]",
      "text/plain": [
       "<Figure size 640x480 with 1 Axes>"
      ]
     },
     "metadata": {},
     "output_type": "display_data"
    }
   ],
   "source": [
    "usa_fig, usa_ax = plt.subplots()\n",
    "usa_fig.suptitle('USA Big Mac Preise')\n",
    "usa_ax.set_ylabel('Dollar')\n",
    "usa_ax.set_xlabel('Datum')\n",
    "usa_ax.set_title('Ax Title')\n",
    "usa_ax.plot(usa_daten['Datum'], usa_daten['Preis'])"
   ]
  },
  {
   "cell_type": "code",
   "execution_count": 111,
   "metadata": {},
   "outputs": [
    {
     "data": {
      "text/plain": [
       "[<matplotlib.lines.Line2D at 0x24b49a90550>]"
      ]
     },
     "execution_count": 111,
     "metadata": {},
     "output_type": "execute_result"
    },
    {
     "data": {
      "image/png": "[encoded data removed]",
      "text/plain": [
       "<Figure size 1500x500 with 2 Axes>"
      ]
     },
     "metadata": {},
     "output_type": "display_data"
    }
   ],
   "source": [
    "fig, axs = plt.subplots(1, 2, figsize=(15,5))\n",
    "\n",
    "fig.suptitle('Big Mac Preise in Dollar in USA und DEU')\n",
    "\n",
    "axs[0].set_ylim([3.5,5.5])\n",
    "axs[1].set_ylim([3.5,5.5])\n",
    "\n",
    "axs[0].set_title('USA')\n",
    "axs[1].set_title('DEU')\n",
    "\n",
    "axs[0].plot(usa_daten[usa_daten['Datum'] > '2012']['Datum'], usa_daten[usa_daten['Datum'] > '2012']['DP'])\n",
    "\n",
    "ger_daten = daten[daten['Land'] == 'Germany']\n",
    "\n",
    "axs[1].plot(ger_daten[ger_daten['Datum'] > '2012']['Datum'], ger_daten[ger_daten['Datum'] > '2012']['DP'])\n",
    "\n",
    "# import matplotlib.dates as mdates\n",
    "# axs[1].xaxis.set_major_formatter(mdates.DateFormatter('%Y'))"
   ]
  },
  {
   "cell_type": "code",
   "execution_count": 112,
   "metadata": {},
   "outputs": [
    {
     "data": {
      "text/plain": [
       "Land\n",
       "Argentina               5.00\n",
       "Australia               6.70\n",
       "Austria                 4.35\n",
       "Azerbaijan              4.70\n",
       "Bahrain                 1.60\n",
       "                        ... \n",
       "United Arab Emirates    6.00\n",
       "United States           5.15\n",
       "Uruguay                 6.22\n",
       "Venezuela               9.75\n",
       "Vietnam                 3.05\n",
       "Name: DP, Length: 74, dtype: float64"
      ]
     },
     "execution_count": 112,
     "metadata": {},
     "output_type": "execute_result"
    }
   ],
   "source": [
    "daten.groupby(['Land'])['DP'].max()"
   ]
  },
  {
   "cell_type": "code",
   "execution_count": 141,
   "metadata": {},
   "outputs": [
    {
     "data": {
      "text/html": [
       "<div>\n",
       "<style scoped>\n",
       "    .dataframe tbody tr th:only-of-type {\n",
       "        vertical-align: middle;\n",
       "    }\n",
       "\n",
       "    .dataframe tbody tr th {\n",
       "        vertical-align: top;\n",
       "    }\n",
       "\n",
       "    .dataframe thead th {\n",
       "        text-align: right;\n",
       "    }\n",
       "</style>\n",
       "<table border=\"1\" class=\"dataframe\">\n",
       "  <thead>\n",
       "    <tr style=\"text-align: right;\">\n",
       "      <th></th>\n",
       "      <th>Datum</th>\n",
       "      <th>Währung</th>\n",
       "      <th>Land</th>\n",
       "      <th>Preis</th>\n",
       "      <th>DK</th>\n",
       "      <th>DP</th>\n",
       "    </tr>\n",
       "  </thead>\n",
       "  <tbody>\n",
       "  </tbody>\n",
       "</table>\n",
       "</div>"
      ],
      "text/plain": [
       "Empty DataFrame\n",
       "Columns: [Datum, Währung, Land, Preis, DK, DP]\n",
       "Index: []"
      ]
     },
     "execution_count": 141,
     "metadata": {},
     "output_type": "execute_result"
    }
   ],
   "source": [
    "df_max = pd.DataFrame(columns=daten.columns)\n",
    "df_max"
   ]
  },
  {
   "cell_type": "code",
   "execution_count": 142,
   "metadata": {},
   "outputs": [],
   "source": [
    "for land, dp in daten.groupby(['Land'])['DP'].max().items():\n",
    "    if df_max.empty == True:\n",
    "        df_max = daten.loc[(daten['Land'] == land) & (daten['DP'] == dp)]\n",
    "    else: \n",
    "        df_max = pd.concat([df_max, daten.loc[(daten['Land'] == land) & (daten['DP'] == dp)]])"
   ]
  },
  {
   "cell_type": "code",
   "execution_count": null,
   "metadata": {},
   "outputs": [],
   "source": [
    "# df_max.to_csv('max_preise.csv')"
   ]
  },
  {
   "cell_type": "code",
   "execution_count": null,
   "metadata": {},
   "outputs": [
    {
     "data": {
      "text/plain": [
       "array(['ARS', 'AUD', 'BRL', 'GBP', 'CAD', 'CLP', 'CNY', 'CZK', 'DKK',\n",
       "       'EUR', 'HKD', 'HUF', 'IDR', 'ILS', 'JPY', 'MYR', 'MXN', 'NZD',\n",
       "       'PLN', 'RUB', 'SGD', 'ZAR', 'KRW', 'SEK', 'CHF', 'TWD', 'THB',\n",
       "       'USD', 'PHP', 'NOK', 'PEN', 'TRY', 'VEF', 'EGP', 'COP', 'CRC',\n",
       "       'PKR', 'SAR', 'LKR', 'UAH', 'UYU', 'AED', 'INR', 'VND', 'AZN',\n",
       "       'BHD', 'HRK', 'GTQ', 'HNL', 'JOD', 'KWD', 'LBP', 'MDL', 'NIO',\n",
       "       'OMR', 'QAR', 'RON', 'VES'], dtype=object)"
      ]
     },
     "execution_count": 30,
     "metadata": {},
     "output_type": "execute_result"
    }
   ],
   "source": [
    "daten['Währung'].unique()"
   ]
  },
  {
   "cell_type": "code",
   "execution_count": null,
   "metadata": {},
   "outputs": [
    {
     "data": {
      "text/html": [
       "<div>\n",
       "<style scoped>\n",
       "    .dataframe tbody tr th:only-of-type {\n",
       "        vertical-align: middle;\n",
       "    }\n",
       "\n",
       "    .dataframe tbody tr th {\n",
       "        vertical-align: top;\n",
       "    }\n",
       "\n",
       "    .dataframe thead th {\n",
       "        text-align: right;\n",
       "    }\n",
       "</style>\n",
       "<table border=\"1\" class=\"dataframe\">\n",
       "  <thead>\n",
       "    <tr style=\"text-align: right;\">\n",
       "      <th></th>\n",
       "      <th>Datum</th>\n",
       "      <th>Land</th>\n",
       "      <th>Preis</th>\n",
       "      <th>DK</th>\n",
       "      <th>DP</th>\n",
       "    </tr>\n",
       "    <tr>\n",
       "      <th>Währung</th>\n",
       "      <th></th>\n",
       "      <th></th>\n",
       "      <th></th>\n",
       "      <th></th>\n",
       "      <th></th>\n",
       "    </tr>\n",
       "  </thead>\n",
       "  <tbody>\n",
       "    <tr>\n",
       "      <th>AED</th>\n",
       "      <td>31</td>\n",
       "      <td>2</td>\n",
       "      <td>9</td>\n",
       "      <td>1</td>\n",
       "      <td>9</td>\n",
       "    </tr>\n",
       "    <tr>\n",
       "      <th>ARS</th>\n",
       "      <td>37</td>\n",
       "      <td>1</td>\n",
       "      <td>25</td>\n",
       "      <td>22</td>\n",
       "      <td>30</td>\n",
       "    </tr>\n",
       "    <tr>\n",
       "      <th>AUD</th>\n",
       "      <td>37</td>\n",
       "      <td>1</td>\n",
       "      <td>24</td>\n",
       "      <td>1</td>\n",
       "      <td>24</td>\n",
       "    </tr>\n",
       "    <tr>\n",
       "      <th>AZN</th>\n",
       "      <td>9</td>\n",
       "      <td>1</td>\n",
       "      <td>3</td>\n",
       "      <td>1</td>\n",
       "      <td>3</td>\n",
       "    </tr>\n",
       "    <tr>\n",
       "      <th>BHD</th>\n",
       "      <td>9</td>\n",
       "      <td>1</td>\n",
       "      <td>4</td>\n",
       "      <td>1</td>\n",
       "      <td>4</td>\n",
       "    </tr>\n",
       "    <tr>\n",
       "      <th>BRL</th>\n",
       "      <td>37</td>\n",
       "      <td>1</td>\n",
       "      <td>28</td>\n",
       "      <td>5</td>\n",
       "      <td>28</td>\n",
       "    </tr>\n",
       "    <tr>\n",
       "      <th>CAD</th>\n",
       "      <td>37</td>\n",
       "      <td>1</td>\n",
       "      <td>28</td>\n",
       "      <td>1</td>\n",
       "      <td>28</td>\n",
       "    </tr>\n",
       "    <tr>\n",
       "      <th>CHF</th>\n",
       "      <td>37</td>\n",
       "      <td>1</td>\n",
       "      <td>4</td>\n",
       "      <td>1</td>\n",
       "      <td>4</td>\n",
       "    </tr>\n",
       "    <tr>\n",
       "      <th>CLP</th>\n",
       "      <td>37</td>\n",
       "      <td>1</td>\n",
       "      <td>23</td>\n",
       "      <td>36</td>\n",
       "      <td>35</td>\n",
       "    </tr>\n",
       "    <tr>\n",
       "      <th>CNY</th>\n",
       "      <td>37</td>\n",
       "      <td>1</td>\n",
       "      <td>27</td>\n",
       "      <td>3</td>\n",
       "      <td>26</td>\n",
       "    </tr>\n",
       "    <tr>\n",
       "      <th>COP</th>\n",
       "      <td>32</td>\n",
       "      <td>1</td>\n",
       "      <td>13</td>\n",
       "      <td>31</td>\n",
       "      <td>30</td>\n",
       "    </tr>\n",
       "    <tr>\n",
       "      <th>CRC</th>\n",
       "      <td>31</td>\n",
       "      <td>1</td>\n",
       "      <td>11</td>\n",
       "      <td>27</td>\n",
       "      <td>24</td>\n",
       "    </tr>\n",
       "    <tr>\n",
       "      <th>CZK</th>\n",
       "      <td>37</td>\n",
       "      <td>1</td>\n",
       "      <td>22</td>\n",
       "      <td>14</td>\n",
       "      <td>29</td>\n",
       "    </tr>\n",
       "    <tr>\n",
       "      <th>DKK</th>\n",
       "      <td>36</td>\n",
       "      <td>1</td>\n",
       "      <td>11</td>\n",
       "      <td>5</td>\n",
       "      <td>14</td>\n",
       "    </tr>\n",
       "    <tr>\n",
       "      <th>EGP</th>\n",
       "      <td>34</td>\n",
       "      <td>1</td>\n",
       "      <td>21</td>\n",
       "      <td>8</td>\n",
       "      <td>21</td>\n",
       "    </tr>\n",
       "    <tr>\n",
       "      <th>EUR</th>\n",
       "      <td>37</td>\n",
       "      <td>17</td>\n",
       "      <td>120</td>\n",
       "      <td>2</td>\n",
       "      <td>114</td>\n",
       "    </tr>\n",
       "    <tr>\n",
       "      <th>GBP</th>\n",
       "      <td>37</td>\n",
       "      <td>1</td>\n",
       "      <td>18</td>\n",
       "      <td>1</td>\n",
       "      <td>18</td>\n",
       "    </tr>\n",
       "    <tr>\n",
       "      <th>GTQ</th>\n",
       "      <td>9</td>\n",
       "      <td>1</td>\n",
       "      <td>2</td>\n",
       "      <td>1</td>\n",
       "      <td>2</td>\n",
       "    </tr>\n",
       "    <tr>\n",
       "      <th>HKD</th>\n",
       "      <td>37</td>\n",
       "      <td>1</td>\n",
       "      <td>17</td>\n",
       "      <td>2</td>\n",
       "      <td>17</td>\n",
       "    </tr>\n",
       "    <tr>\n",
       "      <th>HNL</th>\n",
       "      <td>9</td>\n",
       "      <td>1</td>\n",
       "      <td>4</td>\n",
       "      <td>2</td>\n",
       "      <td>6</td>\n",
       "    </tr>\n",
       "    <tr>\n",
       "      <th>HRK</th>\n",
       "      <td>9</td>\n",
       "      <td>1</td>\n",
       "      <td>6</td>\n",
       "      <td>2</td>\n",
       "      <td>6</td>\n",
       "    </tr>\n",
       "    <tr>\n",
       "      <th>HUF</th>\n",
       "      <td>37</td>\n",
       "      <td>1</td>\n",
       "      <td>22</td>\n",
       "      <td>35</td>\n",
       "      <td>32</td>\n",
       "    </tr>\n",
       "    <tr>\n",
       "      <th>IDR</th>\n",
       "      <td>37</td>\n",
       "      <td>1</td>\n",
       "      <td>21</td>\n",
       "      <td>37</td>\n",
       "      <td>30</td>\n",
       "    </tr>\n",
       "    <tr>\n",
       "      <th>ILS</th>\n",
       "      <td>28</td>\n",
       "      <td>1</td>\n",
       "      <td>10</td>\n",
       "      <td>2</td>\n",
       "      <td>10</td>\n",
       "    </tr>\n",
       "    <tr>\n",
       "      <th>INR</th>\n",
       "      <td>23</td>\n",
       "      <td>1</td>\n",
       "      <td>16</td>\n",
       "      <td>18</td>\n",
       "      <td>19</td>\n",
       "    </tr>\n",
       "    <tr>\n",
       "      <th>JOD</th>\n",
       "      <td>9</td>\n",
       "      <td>1</td>\n",
       "      <td>4</td>\n",
       "      <td>1</td>\n",
       "      <td>4</td>\n",
       "    </tr>\n",
       "    <tr>\n",
       "      <th>JPY</th>\n",
       "      <td>37</td>\n",
       "      <td>1</td>\n",
       "      <td>9</td>\n",
       "      <td>28</td>\n",
       "      <td>34</td>\n",
       "    </tr>\n",
       "    <tr>\n",
       "      <th>KRW</th>\n",
       "      <td>37</td>\n",
       "      <td>1</td>\n",
       "      <td>14</td>\n",
       "      <td>36</td>\n",
       "      <td>35</td>\n",
       "    </tr>\n",
       "    <tr>\n",
       "      <th>KWD</th>\n",
       "      <td>9</td>\n",
       "      <td>1</td>\n",
       "      <td>5</td>\n",
       "      <td>1</td>\n",
       "      <td>5</td>\n",
       "    </tr>\n",
       "    <tr>\n",
       "      <th>LBP</th>\n",
       "      <td>9</td>\n",
       "      <td>1</td>\n",
       "      <td>6</td>\n",
       "      <td>8</td>\n",
       "      <td>8</td>\n",
       "    </tr>\n",
       "    <tr>\n",
       "      <th>LKR</th>\n",
       "      <td>32</td>\n",
       "      <td>1</td>\n",
       "      <td>16</td>\n",
       "      <td>25</td>\n",
       "      <td>27</td>\n",
       "    </tr>\n",
       "    <tr>\n",
       "      <th>MDL</th>\n",
       "      <td>9</td>\n",
       "      <td>1</td>\n",
       "      <td>7</td>\n",
       "      <td>4</td>\n",
       "      <td>9</td>\n",
       "    </tr>\n",
       "    <tr>\n",
       "      <th>MXN</th>\n",
       "      <td>37</td>\n",
       "      <td>1</td>\n",
       "      <td>18</td>\n",
       "      <td>13</td>\n",
       "      <td>23</td>\n",
       "    </tr>\n",
       "    <tr>\n",
       "      <th>MYR</th>\n",
       "      <td>37</td>\n",
       "      <td>1</td>\n",
       "      <td>22</td>\n",
       "      <td>3</td>\n",
       "      <td>21</td>\n",
       "    </tr>\n",
       "    <tr>\n",
       "      <th>NIO</th>\n",
       "      <td>9</td>\n",
       "      <td>1</td>\n",
       "      <td>7</td>\n",
       "      <td>5</td>\n",
       "      <td>9</td>\n",
       "    </tr>\n",
       "    <tr>\n",
       "      <th>NOK</th>\n",
       "      <td>33</td>\n",
       "      <td>1</td>\n",
       "      <td>18</td>\n",
       "      <td>5</td>\n",
       "      <td>24</td>\n",
       "    </tr>\n",
       "    <tr>\n",
       "      <th>NZD</th>\n",
       "      <td>37</td>\n",
       "      <td>1</td>\n",
       "      <td>23</td>\n",
       "      <td>2</td>\n",
       "      <td>23</td>\n",
       "    </tr>\n",
       "    <tr>\n",
       "      <th>OMR</th>\n",
       "      <td>9</td>\n",
       "      <td>1</td>\n",
       "      <td>6</td>\n",
       "      <td>1</td>\n",
       "      <td>6</td>\n",
       "    </tr>\n",
       "    <tr>\n",
       "      <th>PEN</th>\n",
       "      <td>34</td>\n",
       "      <td>1</td>\n",
       "      <td>11</td>\n",
       "      <td>2</td>\n",
       "      <td>14</td>\n",
       "    </tr>\n",
       "    <tr>\n",
       "      <th>PHP</th>\n",
       "      <td>36</td>\n",
       "      <td>1</td>\n",
       "      <td>21</td>\n",
       "      <td>16</td>\n",
       "      <td>29</td>\n",
       "    </tr>\n",
       "    <tr>\n",
       "      <th>PKR</th>\n",
       "      <td>32</td>\n",
       "      <td>1</td>\n",
       "      <td>21</td>\n",
       "      <td>25</td>\n",
       "      <td>28</td>\n",
       "    </tr>\n",
       "    <tr>\n",
       "      <th>PLN</th>\n",
       "      <td>37</td>\n",
       "      <td>1</td>\n",
       "      <td>21</td>\n",
       "      <td>3</td>\n",
       "      <td>21</td>\n",
       "    </tr>\n",
       "    <tr>\n",
       "      <th>QAR</th>\n",
       "      <td>9</td>\n",
       "      <td>1</td>\n",
       "      <td>2</td>\n",
       "      <td>1</td>\n",
       "      <td>2</td>\n",
       "    </tr>\n",
       "    <tr>\n",
       "      <th>RON</th>\n",
       "      <td>9</td>\n",
       "      <td>1</td>\n",
       "      <td>6</td>\n",
       "      <td>2</td>\n",
       "      <td>6</td>\n",
       "    </tr>\n",
       "    <tr>\n",
       "      <th>RUB</th>\n",
       "      <td>36</td>\n",
       "      <td>1</td>\n",
       "      <td>24</td>\n",
       "      <td>21</td>\n",
       "      <td>34</td>\n",
       "    </tr>\n",
       "    <tr>\n",
       "      <th>SAR</th>\n",
       "      <td>32</td>\n",
       "      <td>1</td>\n",
       "      <td>9</td>\n",
       "      <td>1</td>\n",
       "      <td>9</td>\n",
       "    </tr>\n",
       "    <tr>\n",
       "      <th>SEK</th>\n",
       "      <td>37</td>\n",
       "      <td>1</td>\n",
       "      <td>27</td>\n",
       "      <td>6</td>\n",
       "      <td>33</td>\n",
       "    </tr>\n",
       "    <tr>\n",
       "      <th>SGD</th>\n",
       "      <td>37</td>\n",
       "      <td>1</td>\n",
       "      <td>17</td>\n",
       "      <td>1</td>\n",
       "      <td>17</td>\n",
       "    </tr>\n",
       "    <tr>\n",
       "      <th>THB</th>\n",
       "      <td>37</td>\n",
       "      <td>1</td>\n",
       "      <td>17</td>\n",
       "      <td>14</td>\n",
       "      <td>35</td>\n",
       "    </tr>\n",
       "    <tr>\n",
       "      <th>TRY</th>\n",
       "      <td>35</td>\n",
       "      <td>1</td>\n",
       "      <td>25</td>\n",
       "      <td>13</td>\n",
       "      <td>30</td>\n",
       "    </tr>\n",
       "    <tr>\n",
       "      <th>TWD</th>\n",
       "      <td>37</td>\n",
       "      <td>1</td>\n",
       "      <td>5</td>\n",
       "      <td>8</td>\n",
       "      <td>22</td>\n",
       "    </tr>\n",
       "    <tr>\n",
       "      <th>UAH</th>\n",
       "      <td>31</td>\n",
       "      <td>1</td>\n",
       "      <td>24</td>\n",
       "      <td>13</td>\n",
       "      <td>25</td>\n",
       "    </tr>\n",
       "    <tr>\n",
       "      <th>USD</th>\n",
       "      <td>37</td>\n",
       "      <td>1</td>\n",
       "      <td>28</td>\n",
       "      <td>1</td>\n",
       "      <td>28</td>\n",
       "    </tr>\n",
       "    <tr>\n",
       "      <th>UYU</th>\n",
       "      <td>32</td>\n",
       "      <td>1</td>\n",
       "      <td>23</td>\n",
       "      <td>18</td>\n",
       "      <td>28</td>\n",
       "    </tr>\n",
       "    <tr>\n",
       "      <th>VEF</th>\n",
       "      <td>22</td>\n",
       "      <td>1</td>\n",
       "      <td>19</td>\n",
       "      <td>18</td>\n",
       "      <td>18</td>\n",
       "    </tr>\n",
       "    <tr>\n",
       "      <th>VES</th>\n",
       "      <td>3</td>\n",
       "      <td>1</td>\n",
       "      <td>3</td>\n",
       "      <td>3</td>\n",
       "      <td>3</td>\n",
       "    </tr>\n",
       "    <tr>\n",
       "      <th>VND</th>\n",
       "      <td>17</td>\n",
       "      <td>1</td>\n",
       "      <td>4</td>\n",
       "      <td>17</td>\n",
       "      <td>14</td>\n",
       "    </tr>\n",
       "    <tr>\n",
       "      <th>ZAR</th>\n",
       "      <td>37</td>\n",
       "      <td>1</td>\n",
       "      <td>22</td>\n",
       "      <td>12</td>\n",
       "      <td>28</td>\n",
       "    </tr>\n",
       "  </tbody>\n",
       "</table>\n",
       "</div>"
      ],
      "text/plain": [
       "         Datum  Land  Preis  DK   DP\n",
       "Währung                             \n",
       "AED         31     2      9   1    9\n",
       "ARS         37     1     25  22   30\n",
       "AUD         37     1     24   1   24\n",
       "AZN          9     1      3   1    3\n",
       "BHD          9     1      4   1    4\n",
       "BRL         37     1     28   5   28\n",
       "CAD         37     1     28   1   28\n",
       "CHF         37     1      4   1    4\n",
       "CLP         37     1     23  36   35\n",
       "CNY         37     1     27   3   26\n",
       "COP         32     1     13  31   30\n",
       "CRC         31     1     11  27   24\n",
       "CZK         37     1     22  14   29\n",
       "DKK         36     1     11   5   14\n",
       "EGP         34     1     21   8   21\n",
       "EUR         37    17    120   2  114\n",
       "GBP         37     1     18   1   18\n",
       "GTQ          9     1      2   1    2\n",
       "HKD         37     1     17   2   17\n",
       "HNL          9     1      4   2    6\n",
       "HRK          9     1      6   2    6\n",
       "HUF         37     1     22  35   32\n",
       "IDR         37     1     21  37   30\n",
       "ILS         28     1     10   2   10\n",
       "INR         23     1     16  18   19\n",
       "JOD          9     1      4   1    4\n",
       "JPY         37     1      9  28   34\n",
       "KRW         37     1     14  36   35\n",
       "KWD          9     1      5   1    5\n",
       "LBP          9     1      6   8    8\n",
       "LKR         32     1     16  25   27\n",
       "MDL          9     1      7   4    9\n",
       "MXN         37     1     18  13   23\n",
       "MYR         37     1     22   3   21\n",
       "NIO          9     1      7   5    9\n",
       "NOK         33     1     18   5   24\n",
       "NZD         37     1     23   2   23\n",
       "OMR          9     1      6   1    6\n",
       "PEN         34     1     11   2   14\n",
       "PHP         36     1     21  16   29\n",
       "PKR         32     1     21  25   28\n",
       "PLN         37     1     21   3   21\n",
       "QAR          9     1      2   1    2\n",
       "RON          9     1      6   2    6\n",
       "RUB         36     1     24  21   34\n",
       "SAR         32     1      9   1    9\n",
       "SEK         37     1     27   6   33\n",
       "SGD         37     1     17   1   17\n",
       "THB         37     1     17  14   35\n",
       "TRY         35     1     25  13   30\n",
       "TWD         37     1      5   8   22\n",
       "UAH         31     1     24  13   25\n",
       "USD         37     1     28   1   28\n",
       "UYU         32     1     23  18   28\n",
       "VEF         22     1     19  18   18\n",
       "VES          3     1      3   3    3\n",
       "VND         17     1      4  17   14\n",
       "ZAR         37     1     22  12   28"
      ]
     },
     "execution_count": 31,
     "metadata": {},
     "output_type": "execute_result"
    }
   ],
   "source": [
    "daten.groupby('Währung').nunique()"
   ]
  },
  {
   "cell_type": "code",
   "execution_count": null,
   "metadata": {},
   "outputs": [
    {
     "data": {
      "text/html": [
       "<div>\n",
       "<style scoped>\n",
       "    .dataframe tbody tr th:only-of-type {\n",
       "        vertical-align: middle;\n",
       "    }\n",
       "\n",
       "    .dataframe tbody tr th {\n",
       "        vertical-align: top;\n",
       "    }\n",
       "\n",
       "    .dataframe thead th {\n",
       "        text-align: right;\n",
       "    }\n",
       "</style>\n",
       "<table border=\"1\" class=\"dataframe\">\n",
       "  <thead>\n",
       "    <tr style=\"text-align: right;\">\n",
       "      <th></th>\n",
       "      <th>Land</th>\n",
       "      <th>Preis</th>\n",
       "    </tr>\n",
       "  </thead>\n",
       "  <tbody>\n",
       "    <tr>\n",
       "      <th>0</th>\n",
       "      <td>Argentina</td>\n",
       "      <td>2.50</td>\n",
       "    </tr>\n",
       "    <tr>\n",
       "      <th>1</th>\n",
       "      <td>Australia</td>\n",
       "      <td>2.59</td>\n",
       "    </tr>\n",
       "    <tr>\n",
       "      <th>2</th>\n",
       "      <td>Brazil</td>\n",
       "      <td>2.95</td>\n",
       "    </tr>\n",
       "    <tr>\n",
       "      <th>3</th>\n",
       "      <td>Britain</td>\n",
       "      <td>1.90</td>\n",
       "    </tr>\n",
       "    <tr>\n",
       "      <th>4</th>\n",
       "      <td>Canada</td>\n",
       "      <td>2.85</td>\n",
       "    </tr>\n",
       "    <tr>\n",
       "      <th>5</th>\n",
       "      <td>Chile</td>\n",
       "      <td>1260.00</td>\n",
       "    </tr>\n",
       "    <tr>\n",
       "      <th>6</th>\n",
       "      <td>China</td>\n",
       "      <td>9.90</td>\n",
       "    </tr>\n",
       "    <tr>\n",
       "      <th>7</th>\n",
       "      <td>Czech Republic</td>\n",
       "      <td>54.37</td>\n",
       "    </tr>\n",
       "    <tr>\n",
       "      <th>8</th>\n",
       "      <td>Denmark</td>\n",
       "      <td>24.75</td>\n",
       "    </tr>\n",
       "    <tr>\n",
       "      <th>9</th>\n",
       "      <td>Euro area</td>\n",
       "      <td>2.56</td>\n",
       "    </tr>\n",
       "  </tbody>\n",
       "</table>\n",
       "</div>"
      ],
      "text/plain": [
       "             Land    Preis\n",
       "0       Argentina     2.50\n",
       "1       Australia     2.59\n",
       "2          Brazil     2.95\n",
       "3         Britain     1.90\n",
       "4          Canada     2.85\n",
       "5           Chile  1260.00\n",
       "6           China     9.90\n",
       "7  Czech Republic    54.37\n",
       "8         Denmark    24.75\n",
       "9       Euro area     2.56"
      ]
     },
     "execution_count": 32,
     "metadata": {},
     "output_type": "execute_result"
    }
   ],
   "source": [
    "daten.loc[:,['Land', 'Preis']].head(n=10)"
   ]
  },
  {
   "cell_type": "code",
   "execution_count": null,
   "metadata": {},
   "outputs": [
    {
     "data": {
      "text/html": [
       "<div>\n",
       "<style scoped>\n",
       "    .dataframe tbody tr th:only-of-type {\n",
       "        vertical-align: middle;\n",
       "    }\n",
       "\n",
       "    .dataframe tbody tr th {\n",
       "        vertical-align: top;\n",
       "    }\n",
       "\n",
       "    .dataframe thead th {\n",
       "        text-align: right;\n",
       "    }\n",
       "</style>\n",
       "<table border=\"1\" class=\"dataframe\">\n",
       "  <thead>\n",
       "    <tr style=\"text-align: right;\">\n",
       "      <th></th>\n",
       "      <th>Preis</th>\n",
       "    </tr>\n",
       "    <tr>\n",
       "      <th>Land</th>\n",
       "      <th></th>\n",
       "    </tr>\n",
       "  </thead>\n",
       "  <tbody>\n",
       "    <tr>\n",
       "      <th>Argentina</th>\n",
       "      <td>81.174595</td>\n",
       "    </tr>\n",
       "    <tr>\n",
       "      <th>Australia</th>\n",
       "      <td>4.823378</td>\n",
       "    </tr>\n",
       "    <tr>\n",
       "      <th>Brazil</th>\n",
       "      <td>12.189730</td>\n",
       "    </tr>\n",
       "    <tr>\n",
       "      <th>Britain</th>\n",
       "      <td>2.670541</td>\n",
       "    </tr>\n",
       "    <tr>\n",
       "      <th>Canada</th>\n",
       "      <td>5.121892</td>\n",
       "    </tr>\n",
       "    <tr>\n",
       "      <th>...</th>\n",
       "      <td>...</td>\n",
       "    </tr>\n",
       "    <tr>\n",
       "      <th>Qatar</th>\n",
       "      <td>12.777778</td>\n",
       "    </tr>\n",
       "    <tr>\n",
       "      <th>Romania</th>\n",
       "      <td>9.922222</td>\n",
       "    </tr>\n",
       "    <tr>\n",
       "      <th>Slovakia</th>\n",
       "      <td>3.500000</td>\n",
       "    </tr>\n",
       "    <tr>\n",
       "      <th>Slovenia</th>\n",
       "      <td>2.555556</td>\n",
       "    </tr>\n",
       "    <tr>\n",
       "      <th>United Arab Emirates</th>\n",
       "      <td>15.194444</td>\n",
       "    </tr>\n",
       "  </tbody>\n",
       "</table>\n",
       "<p>74 rows × 1 columns</p>\n",
       "</div>"
      ],
      "text/plain": [
       "                          Preis\n",
       "Land                           \n",
       "Argentina             81.174595\n",
       "Australia              4.823378\n",
       "Brazil                12.189730\n",
       "Britain                2.670541\n",
       "Canada                 5.121892\n",
       "...                         ...\n",
       "Qatar                 12.777778\n",
       "Romania                9.922222\n",
       "Slovakia               3.500000\n",
       "Slovenia               2.555556\n",
       "United Arab Emirates  15.194444\n",
       "\n",
       "[74 rows x 1 columns]"
      ]
     },
     "execution_count": 33,
     "metadata": {},
     "output_type": "execute_result"
    }
   ],
   "source": [
    "daten.loc[:,['Land', 'Preis']].groupby(pd.Grouper('Land')).mean()"
   ]
  },
  {
   "cell_type": "code",
   "execution_count": null,
   "metadata": {},
   "outputs": [
    {
     "data": {
      "text/html": [
       "<div>\n",
       "<style scoped>\n",
       "    .dataframe tbody tr th:only-of-type {\n",
       "        vertical-align: middle;\n",
       "    }\n",
       "\n",
       "    .dataframe tbody tr th {\n",
       "        vertical-align: top;\n",
       "    }\n",
       "\n",
       "    .dataframe thead th {\n",
       "        text-align: right;\n",
       "    }\n",
       "</style>\n",
       "<table border=\"1\" class=\"dataframe\">\n",
       "  <thead>\n",
       "    <tr style=\"text-align: right;\">\n",
       "      <th></th>\n",
       "      <th>Datum</th>\n",
       "      <th>Währung</th>\n",
       "      <th>Land</th>\n",
       "      <th>Preis</th>\n",
       "      <th>DK</th>\n",
       "      <th>DP</th>\n",
       "    </tr>\n",
       "  </thead>\n",
       "  <tbody>\n",
       "    <tr>\n",
       "      <th>522</th>\n",
       "      <td>2011-07-01</td>\n",
       "      <td>EUR</td>\n",
       "      <td>Austria</td>\n",
       "      <td>3.09</td>\n",
       "      <td>1</td>\n",
       "      <td>3.09</td>\n",
       "    </tr>\n",
       "    <tr>\n",
       "      <th>523</th>\n",
       "      <td>2011-07-01</td>\n",
       "      <td>EUR</td>\n",
       "      <td>Belgium</td>\n",
       "      <td>3.75</td>\n",
       "      <td>1</td>\n",
       "      <td>3.75</td>\n",
       "    </tr>\n",
       "    <tr>\n",
       "      <th>534</th>\n",
       "      <td>2011-07-01</td>\n",
       "      <td>EUR</td>\n",
       "      <td>Estonia</td>\n",
       "      <td>2.20</td>\n",
       "      <td>1</td>\n",
       "      <td>2.20</td>\n",
       "    </tr>\n",
       "    <tr>\n",
       "      <th>536</th>\n",
       "      <td>2011-07-01</td>\n",
       "      <td>EUR</td>\n",
       "      <td>Finland</td>\n",
       "      <td>3.75</td>\n",
       "      <td>1</td>\n",
       "      <td>3.75</td>\n",
       "    </tr>\n",
       "    <tr>\n",
       "      <th>537</th>\n",
       "      <td>2011-07-01</td>\n",
       "      <td>EUR</td>\n",
       "      <td>France</td>\n",
       "      <td>3.50</td>\n",
       "      <td>1</td>\n",
       "      <td>3.50</td>\n",
       "    </tr>\n",
       "    <tr>\n",
       "      <th>...</th>\n",
       "      <td>...</td>\n",
       "      <td>...</td>\n",
       "      <td>...</td>\n",
       "      <td>...</td>\n",
       "      <td>...</td>\n",
       "      <td>...</td>\n",
       "    </tr>\n",
       "    <tr>\n",
       "      <th>1916</th>\n",
       "      <td>2022-07-01</td>\n",
       "      <td>EUR</td>\n",
       "      <td>Netherlands</td>\n",
       "      <td>4.50</td>\n",
       "      <td>1</td>\n",
       "      <td>4.50</td>\n",
       "    </tr>\n",
       "    <tr>\n",
       "      <th>1925</th>\n",
       "      <td>2022-07-01</td>\n",
       "      <td>EUR</td>\n",
       "      <td>Portugal</td>\n",
       "      <td>4.00</td>\n",
       "      <td>1</td>\n",
       "      <td>4.00</td>\n",
       "    </tr>\n",
       "    <tr>\n",
       "      <th>1930</th>\n",
       "      <td>2022-07-01</td>\n",
       "      <td>EUR</td>\n",
       "      <td>Slovakia</td>\n",
       "      <td>3.90</td>\n",
       "      <td>1</td>\n",
       "      <td>3.90</td>\n",
       "    </tr>\n",
       "    <tr>\n",
       "      <th>1931</th>\n",
       "      <td>2022-07-01</td>\n",
       "      <td>EUR</td>\n",
       "      <td>Slovenia</td>\n",
       "      <td>3.20</td>\n",
       "      <td>1</td>\n",
       "      <td>3.20</td>\n",
       "    </tr>\n",
       "    <tr>\n",
       "      <th>1934</th>\n",
       "      <td>2022-07-01</td>\n",
       "      <td>EUR</td>\n",
       "      <td>Spain</td>\n",
       "      <td>4.58</td>\n",
       "      <td>1</td>\n",
       "      <td>4.58</td>\n",
       "    </tr>\n",
       "  </tbody>\n",
       "</table>\n",
       "<p>314 rows × 6 columns</p>\n",
       "</div>"
      ],
      "text/plain": [
       "          Datum Währung         Land  Preis  DK    DP\n",
       "522  2011-07-01     EUR      Austria   3.09   1  3.09\n",
       "523  2011-07-01     EUR      Belgium   3.75   1  3.75\n",
       "534  2011-07-01     EUR      Estonia   2.20   1  2.20\n",
       "536  2011-07-01     EUR      Finland   3.75   1  3.75\n",
       "537  2011-07-01     EUR       France   3.50   1  3.50\n",
       "...         ...     ...          ...    ...  ..   ...\n",
       "1916 2022-07-01     EUR  Netherlands   4.50   1  4.50\n",
       "1925 2022-07-01     EUR     Portugal   4.00   1  4.00\n",
       "1930 2022-07-01     EUR     Slovakia   3.90   1  3.90\n",
       "1931 2022-07-01     EUR     Slovenia   3.20   1  3.20\n",
       "1934 2022-07-01     EUR        Spain   4.58   1  4.58\n",
       "\n",
       "[314 rows x 6 columns]"
      ]
     },
     "execution_count": 34,
     "metadata": {},
     "output_type": "execute_result"
    }
   ],
   "source": [
    "daten.loc[(daten['Währung'] == 'EUR') & (daten['Land'] != 'Euro area')]"
   ]
  },
  {
   "cell_type": "code",
   "execution_count": null,
   "metadata": {},
   "outputs": [
    {
     "data": {
      "text/html": [
       "<div>\n",
       "<style scoped>\n",
       "    .dataframe tbody tr th:only-of-type {\n",
       "        vertical-align: middle;\n",
       "    }\n",
       "\n",
       "    .dataframe tbody tr th {\n",
       "        vertical-align: top;\n",
       "    }\n",
       "\n",
       "    .dataframe thead th {\n",
       "        text-align: right;\n",
       "    }\n",
       "</style>\n",
       "<table border=\"1\" class=\"dataframe\">\n",
       "  <thead>\n",
       "    <tr style=\"text-align: right;\">\n",
       "      <th></th>\n",
       "      <th>Datum</th>\n",
       "      <th>Währung</th>\n",
       "      <th>Land</th>\n",
       "      <th>Preis</th>\n",
       "      <th>DK</th>\n",
       "      <th>DP</th>\n",
       "    </tr>\n",
       "  </thead>\n",
       "  <tbody>\n",
       "    <tr>\n",
       "      <th>6</th>\n",
       "      <td>2000-04-01</td>\n",
       "      <td>CNY</td>\n",
       "      <td>China</td>\n",
       "      <td>9.90</td>\n",
       "      <td>8</td>\n",
       "      <td>1.24</td>\n",
       "    </tr>\n",
       "    <tr>\n",
       "      <th>34</th>\n",
       "      <td>2001-04-01</td>\n",
       "      <td>CNY</td>\n",
       "      <td>China</td>\n",
       "      <td>9.90</td>\n",
       "      <td>8</td>\n",
       "      <td>1.24</td>\n",
       "    </tr>\n",
       "    <tr>\n",
       "      <th>62</th>\n",
       "      <td>2002-04-01</td>\n",
       "      <td>CNY</td>\n",
       "      <td>China</td>\n",
       "      <td>10.50</td>\n",
       "      <td>8</td>\n",
       "      <td>1.31</td>\n",
       "    </tr>\n",
       "    <tr>\n",
       "      <th>95</th>\n",
       "      <td>2003-04-01</td>\n",
       "      <td>CNY</td>\n",
       "      <td>China</td>\n",
       "      <td>9.90</td>\n",
       "      <td>8</td>\n",
       "      <td>1.24</td>\n",
       "    </tr>\n",
       "    <tr>\n",
       "      <th>127</th>\n",
       "      <td>2004-05-01</td>\n",
       "      <td>CNY</td>\n",
       "      <td>China</td>\n",
       "      <td>10.40</td>\n",
       "      <td>8</td>\n",
       "      <td>1.30</td>\n",
       "    </tr>\n",
       "    <tr>\n",
       "      <th>167</th>\n",
       "      <td>2005-06-01</td>\n",
       "      <td>CNY</td>\n",
       "      <td>China</td>\n",
       "      <td>10.50</td>\n",
       "      <td>8</td>\n",
       "      <td>1.31</td>\n",
       "    </tr>\n",
       "    <tr>\n",
       "      <th>208</th>\n",
       "      <td>2006-01-01</td>\n",
       "      <td>CNY</td>\n",
       "      <td>China</td>\n",
       "      <td>10.50</td>\n",
       "      <td>8</td>\n",
       "      <td>1.31</td>\n",
       "    </tr>\n",
       "    <tr>\n",
       "      <th>240</th>\n",
       "      <td>2006-05-01</td>\n",
       "      <td>CNY</td>\n",
       "      <td>China</td>\n",
       "      <td>10.50</td>\n",
       "      <td>8</td>\n",
       "      <td>1.31</td>\n",
       "    </tr>\n",
       "    <tr>\n",
       "      <th>281</th>\n",
       "      <td>2007-01-01</td>\n",
       "      <td>CNY</td>\n",
       "      <td>China</td>\n",
       "      <td>11.00</td>\n",
       "      <td>7</td>\n",
       "      <td>1.57</td>\n",
       "    </tr>\n",
       "    <tr>\n",
       "      <th>322</th>\n",
       "      <td>2007-06-01</td>\n",
       "      <td>CNY</td>\n",
       "      <td>China</td>\n",
       "      <td>11.00</td>\n",
       "      <td>7</td>\n",
       "      <td>1.57</td>\n",
       "    </tr>\n",
       "    <tr>\n",
       "      <th>363</th>\n",
       "      <td>2008-06-01</td>\n",
       "      <td>CNY</td>\n",
       "      <td>China</td>\n",
       "      <td>12.50</td>\n",
       "      <td>6</td>\n",
       "      <td>2.08</td>\n",
       "    </tr>\n",
       "    <tr>\n",
       "      <th>403</th>\n",
       "      <td>2009-07-01</td>\n",
       "      <td>CNY</td>\n",
       "      <td>China</td>\n",
       "      <td>12.50</td>\n",
       "      <td>6</td>\n",
       "      <td>2.08</td>\n",
       "    </tr>\n",
       "    <tr>\n",
       "      <th>444</th>\n",
       "      <td>2010-01-01</td>\n",
       "      <td>CNY</td>\n",
       "      <td>China</td>\n",
       "      <td>12.50</td>\n",
       "      <td>6</td>\n",
       "      <td>2.08</td>\n",
       "    </tr>\n",
       "    <tr>\n",
       "      <th>485</th>\n",
       "      <td>2010-07-01</td>\n",
       "      <td>CNY</td>\n",
       "      <td>China</td>\n",
       "      <td>13.20</td>\n",
       "      <td>6</td>\n",
       "      <td>2.20</td>\n",
       "    </tr>\n",
       "    <tr>\n",
       "      <th>528</th>\n",
       "      <td>2011-07-01</td>\n",
       "      <td>CNY</td>\n",
       "      <td>China</td>\n",
       "      <td>14.65</td>\n",
       "      <td>6</td>\n",
       "      <td>2.44</td>\n",
       "    </tr>\n",
       "    <tr>\n",
       "      <th>583</th>\n",
       "      <td>2012-01-01</td>\n",
       "      <td>CNY</td>\n",
       "      <td>China</td>\n",
       "      <td>15.40</td>\n",
       "      <td>6</td>\n",
       "      <td>2.57</td>\n",
       "    </tr>\n",
       "    <tr>\n",
       "      <th>638</th>\n",
       "      <td>2012-07-01</td>\n",
       "      <td>CNY</td>\n",
       "      <td>China</td>\n",
       "      <td>15.65</td>\n",
       "      <td>6</td>\n",
       "      <td>2.61</td>\n",
       "    </tr>\n",
       "    <tr>\n",
       "      <th>691</th>\n",
       "      <td>2013-01-01</td>\n",
       "      <td>CNY</td>\n",
       "      <td>China</td>\n",
       "      <td>16.00</td>\n",
       "      <td>6</td>\n",
       "      <td>2.67</td>\n",
       "    </tr>\n",
       "    <tr>\n",
       "      <th>746</th>\n",
       "      <td>2013-07-01</td>\n",
       "      <td>CNY</td>\n",
       "      <td>China</td>\n",
       "      <td>16.00</td>\n",
       "      <td>6</td>\n",
       "      <td>2.67</td>\n",
       "    </tr>\n",
       "    <tr>\n",
       "      <th>801</th>\n",
       "      <td>2014-01-01</td>\n",
       "      <td>CNY</td>\n",
       "      <td>China</td>\n",
       "      <td>16.60</td>\n",
       "      <td>6</td>\n",
       "      <td>2.77</td>\n",
       "    </tr>\n",
       "    <tr>\n",
       "      <th>857</th>\n",
       "      <td>2014-07-01</td>\n",
       "      <td>CNY</td>\n",
       "      <td>China</td>\n",
       "      <td>16.90</td>\n",
       "      <td>6</td>\n",
       "      <td>2.82</td>\n",
       "    </tr>\n",
       "    <tr>\n",
       "      <th>914</th>\n",
       "      <td>2015-01-01</td>\n",
       "      <td>CNY</td>\n",
       "      <td>China</td>\n",
       "      <td>17.20</td>\n",
       "      <td>6</td>\n",
       "      <td>2.87</td>\n",
       "    </tr>\n",
       "    <tr>\n",
       "      <th>970</th>\n",
       "      <td>2015-07-01</td>\n",
       "      <td>CNY</td>\n",
       "      <td>China</td>\n",
       "      <td>17.00</td>\n",
       "      <td>6</td>\n",
       "      <td>2.83</td>\n",
       "    </tr>\n",
       "    <tr>\n",
       "      <th>1026</th>\n",
       "      <td>2016-01-01</td>\n",
       "      <td>CNY</td>\n",
       "      <td>China</td>\n",
       "      <td>17.60</td>\n",
       "      <td>6</td>\n",
       "      <td>2.93</td>\n",
       "    </tr>\n",
       "    <tr>\n",
       "      <th>1082</th>\n",
       "      <td>2016-07-01</td>\n",
       "      <td>CNY</td>\n",
       "      <td>China</td>\n",
       "      <td>18.60</td>\n",
       "      <td>6</td>\n",
       "      <td>3.10</td>\n",
       "    </tr>\n",
       "    <tr>\n",
       "      <th>1138</th>\n",
       "      <td>2017-01-01</td>\n",
       "      <td>CNY</td>\n",
       "      <td>China</td>\n",
       "      <td>19.60</td>\n",
       "      <td>6</td>\n",
       "      <td>3.27</td>\n",
       "    </tr>\n",
       "    <tr>\n",
       "      <th>1194</th>\n",
       "      <td>2017-07-01</td>\n",
       "      <td>CNY</td>\n",
       "      <td>China</td>\n",
       "      <td>19.80</td>\n",
       "      <td>6</td>\n",
       "      <td>3.30</td>\n",
       "    </tr>\n",
       "    <tr>\n",
       "      <th>1250</th>\n",
       "      <td>2018-01-01</td>\n",
       "      <td>CNY</td>\n",
       "      <td>China</td>\n",
       "      <td>20.40</td>\n",
       "      <td>6</td>\n",
       "      <td>3.40</td>\n",
       "    </tr>\n",
       "    <tr>\n",
       "      <th>1308</th>\n",
       "      <td>2018-07-01</td>\n",
       "      <td>CNY</td>\n",
       "      <td>China</td>\n",
       "      <td>20.50</td>\n",
       "      <td>6</td>\n",
       "      <td>3.42</td>\n",
       "    </tr>\n",
       "    <tr>\n",
       "      <th>1380</th>\n",
       "      <td>2019-01-01</td>\n",
       "      <td>CNY</td>\n",
       "      <td>China</td>\n",
       "      <td>20.90</td>\n",
       "      <td>6</td>\n",
       "      <td>3.48</td>\n",
       "    </tr>\n",
       "    <tr>\n",
       "      <th>1452</th>\n",
       "      <td>2019-07-09</td>\n",
       "      <td>CNY</td>\n",
       "      <td>China</td>\n",
       "      <td>21.00</td>\n",
       "      <td>6</td>\n",
       "      <td>3.50</td>\n",
       "    </tr>\n",
       "    <tr>\n",
       "      <th>1524</th>\n",
       "      <td>2020-01-14</td>\n",
       "      <td>CNY</td>\n",
       "      <td>China</td>\n",
       "      <td>21.50</td>\n",
       "      <td>6</td>\n",
       "      <td>3.58</td>\n",
       "    </tr>\n",
       "    <tr>\n",
       "      <th>1596</th>\n",
       "      <td>2020-07-01</td>\n",
       "      <td>CNY</td>\n",
       "      <td>China</td>\n",
       "      <td>21.70</td>\n",
       "      <td>7</td>\n",
       "      <td>3.10</td>\n",
       "    </tr>\n",
       "    <tr>\n",
       "      <th>1668</th>\n",
       "      <td>2021-01-01</td>\n",
       "      <td>CNY</td>\n",
       "      <td>China</td>\n",
       "      <td>22.40</td>\n",
       "      <td>6</td>\n",
       "      <td>3.73</td>\n",
       "    </tr>\n",
       "    <tr>\n",
       "      <th>1740</th>\n",
       "      <td>2021-07-01</td>\n",
       "      <td>CNY</td>\n",
       "      <td>China</td>\n",
       "      <td>22.40</td>\n",
       "      <td>6</td>\n",
       "      <td>3.73</td>\n",
       "    </tr>\n",
       "    <tr>\n",
       "      <th>1813</th>\n",
       "      <td>2022-01-01</td>\n",
       "      <td>CNY</td>\n",
       "      <td>China</td>\n",
       "      <td>24.40</td>\n",
       "      <td>6</td>\n",
       "      <td>4.07</td>\n",
       "    </tr>\n",
       "    <tr>\n",
       "      <th>1886</th>\n",
       "      <td>2022-07-01</td>\n",
       "      <td>CNY</td>\n",
       "      <td>China</td>\n",
       "      <td>24.00</td>\n",
       "      <td>6</td>\n",
       "      <td>4.00</td>\n",
       "    </tr>\n",
       "  </tbody>\n",
       "</table>\n",
       "</div>"
      ],
      "text/plain": [
       "          Datum Währung   Land  Preis  DK    DP\n",
       "6    2000-04-01     CNY  China   9.90   8  1.24\n",
       "34   2001-04-01     CNY  China   9.90   8  1.24\n",
       "62   2002-04-01     CNY  China  10.50   8  1.31\n",
       "95   2003-04-01     CNY  China   9.90   8  1.24\n",
       "127  2004-05-01     CNY  China  10.40   8  1.30\n",
       "167  2005-06-01     CNY  China  10.50   8  1.31\n",
       "208  2006-01-01     CNY  China  10.50   8  1.31\n",
       "240  2006-05-01     CNY  China  10.50   8  1.31\n",
       "281  2007-01-01     CNY  China  11.00   7  1.57\n",
       "322  2007-06-01     CNY  China  11.00   7  1.57\n",
       "363  2008-06-01     CNY  China  12.50   6  2.08\n",
       "403  2009-07-01     CNY  China  12.50   6  2.08\n",
       "444  2010-01-01     CNY  China  12.50   6  2.08\n",
       "485  2010-07-01     CNY  China  13.20   6  2.20\n",
       "528  2011-07-01     CNY  China  14.65   6  2.44\n",
       "583  2012-01-01     CNY  China  15.40   6  2.57\n",
       "638  2012-07-01     CNY  China  15.65   6  2.61\n",
       "691  2013-01-01     CNY  China  16.00   6  2.67\n",
       "746  2013-07-01     CNY  China  16.00   6  2.67\n",
       "801  2014-01-01     CNY  China  16.60   6  2.77\n",
       "857  2014-07-01     CNY  China  16.90   6  2.82\n",
       "914  2015-01-01     CNY  China  17.20   6  2.87\n",
       "970  2015-07-01     CNY  China  17.00   6  2.83\n",
       "1026 2016-01-01     CNY  China  17.60   6  2.93\n",
       "1082 2016-07-01     CNY  China  18.60   6  3.10\n",
       "1138 2017-01-01     CNY  China  19.60   6  3.27\n",
       "1194 2017-07-01     CNY  China  19.80   6  3.30\n",
       "1250 2018-01-01     CNY  China  20.40   6  3.40\n",
       "1308 2018-07-01     CNY  China  20.50   6  3.42\n",
       "1380 2019-01-01     CNY  China  20.90   6  3.48\n",
       "1452 2019-07-09     CNY  China  21.00   6  3.50\n",
       "1524 2020-01-14     CNY  China  21.50   6  3.58\n",
       "1596 2020-07-01     CNY  China  21.70   7  3.10\n",
       "1668 2021-01-01     CNY  China  22.40   6  3.73\n",
       "1740 2021-07-01     CNY  China  22.40   6  3.73\n",
       "1813 2022-01-01     CNY  China  24.40   6  4.07\n",
       "1886 2022-07-01     CNY  China  24.00   6  4.00"
      ]
     },
     "execution_count": 35,
     "metadata": {},
     "output_type": "execute_result"
    }
   ],
   "source": [
    "daten[daten.Land == 'China']"
   ]
  },
  {
   "cell_type": "code",
   "execution_count": null,
   "metadata": {},
   "outputs": [
    {
     "data": {
      "text/plain": [
       "RangeIndex(start=0, stop=1946, step=1)"
      ]
     },
     "execution_count": 36,
     "metadata": {},
     "output_type": "execute_result"
    }
   ],
   "source": [
    "daten.index"
   ]
  },
  {
   "cell_type": "code",
   "execution_count": null,
   "metadata": {},
   "outputs": [],
   "source": [
    "daten.index = daten['Datum']"
   ]
  },
  {
   "cell_type": "code",
   "execution_count": null,
   "metadata": {},
   "outputs": [
    {
     "data": {
      "text/plain": [
       "Datum      datetime64[ns]\n",
       "Währung            object\n",
       "Land               object\n",
       "Preis             float64\n",
       "DK                  int64\n",
       "DP                float64\n",
       "dtype: object"
      ]
     },
     "execution_count": 38,
     "metadata": {},
     "output_type": "execute_result"
    }
   ],
   "source": [
    "daten.dtypes"
   ]
  },
  {
   "cell_type": "code",
   "execution_count": null,
   "metadata": {},
   "outputs": [
    {
     "data": {
      "text/plain": [
       "DatetimeIndex(['2000-04-01', '2000-04-01', '2000-04-01', '2000-04-01',\n",
       "               '2000-04-01', '2000-04-01', '2000-04-01', '2000-04-01',\n",
       "               '2000-04-01', '2000-04-01',\n",
       "               ...\n",
       "               '2022-07-01', '2022-07-01', '2022-07-01', '2022-07-01',\n",
       "               '2022-07-01', '2022-07-01', '2022-07-01', '2022-07-01',\n",
       "               '2022-07-01', '2022-07-01'],\n",
       "              dtype='datetime64[ns]', name='Datum', length=1946, freq=None)"
      ]
     },
     "execution_count": 39,
     "metadata": {},
     "output_type": "execute_result"
    }
   ],
   "source": [
    "daten.index"
   ]
  },
  {
   "cell_type": "code",
   "execution_count": null,
   "metadata": {},
   "outputs": [
    {
     "data": {
      "text/html": [
       "<div>\n",
       "<style scoped>\n",
       "    .dataframe tbody tr th:only-of-type {\n",
       "        vertical-align: middle;\n",
       "    }\n",
       "\n",
       "    .dataframe tbody tr th {\n",
       "        vertical-align: top;\n",
       "    }\n",
       "\n",
       "    .dataframe thead th {\n",
       "        text-align: right;\n",
       "    }\n",
       "</style>\n",
       "<table border=\"1\" class=\"dataframe\">\n",
       "  <thead>\n",
       "    <tr style=\"text-align: right;\">\n",
       "      <th></th>\n",
       "      <th>Datum</th>\n",
       "      <th>Währung</th>\n",
       "      <th>Land</th>\n",
       "      <th>Preis</th>\n",
       "      <th>DK</th>\n",
       "      <th>DP</th>\n",
       "    </tr>\n",
       "    <tr>\n",
       "      <th>Datum</th>\n",
       "      <th></th>\n",
       "      <th></th>\n",
       "      <th></th>\n",
       "      <th></th>\n",
       "      <th></th>\n",
       "      <th></th>\n",
       "    </tr>\n",
       "  </thead>\n",
       "  <tbody>\n",
       "    <tr>\n",
       "      <th>2000-04-01</th>\n",
       "      <td>2000-04-01</td>\n",
       "      <td>ARS</td>\n",
       "      <td>Argentina</td>\n",
       "      <td>2.50</td>\n",
       "      <td>1</td>\n",
       "      <td>2.50</td>\n",
       "    </tr>\n",
       "    <tr>\n",
       "      <th>2000-04-01</th>\n",
       "      <td>2000-04-01</td>\n",
       "      <td>AUD</td>\n",
       "      <td>Australia</td>\n",
       "      <td>2.59</td>\n",
       "      <td>1</td>\n",
       "      <td>2.59</td>\n",
       "    </tr>\n",
       "    <tr>\n",
       "      <th>2000-04-01</th>\n",
       "      <td>2000-04-01</td>\n",
       "      <td>BRL</td>\n",
       "      <td>Brazil</td>\n",
       "      <td>2.95</td>\n",
       "      <td>1</td>\n",
       "      <td>2.95</td>\n",
       "    </tr>\n",
       "    <tr>\n",
       "      <th>2000-04-01</th>\n",
       "      <td>2000-04-01</td>\n",
       "      <td>GBP</td>\n",
       "      <td>Britain</td>\n",
       "      <td>1.90</td>\n",
       "      <td>1</td>\n",
       "      <td>1.90</td>\n",
       "    </tr>\n",
       "    <tr>\n",
       "      <th>2000-04-01</th>\n",
       "      <td>2000-04-01</td>\n",
       "      <td>CAD</td>\n",
       "      <td>Canada</td>\n",
       "      <td>2.85</td>\n",
       "      <td>1</td>\n",
       "      <td>2.85</td>\n",
       "    </tr>\n",
       "  </tbody>\n",
       "</table>\n",
       "</div>"
      ],
      "text/plain": [
       "                Datum Währung       Land  Preis  DK    DP\n",
       "Datum                                                    \n",
       "2000-04-01 2000-04-01     ARS  Argentina   2.50   1  2.50\n",
       "2000-04-01 2000-04-01     AUD  Australia   2.59   1  2.59\n",
       "2000-04-01 2000-04-01     BRL     Brazil   2.95   1  2.95\n",
       "2000-04-01 2000-04-01     GBP    Britain   1.90   1  1.90\n",
       "2000-04-01 2000-04-01     CAD     Canada   2.85   1  2.85"
      ]
     },
     "execution_count": 40,
     "metadata": {},
     "output_type": "execute_result"
    }
   ],
   "source": [
    "daten.head()"
   ]
  },
  {
   "cell_type": "code",
   "execution_count": null,
   "metadata": {},
   "outputs": [
    {
     "data": {
      "text/plain": [
       "<Axes: title={'center': 'China Big Mac Preise'}, xlabel='Datum', ylabel='RMB'>"
      ]
     },
     "execution_count": 41,
     "metadata": {},
     "output_type": "execute_result"
    },
    {
     "data": {
      "image/png": "[encoded data removed]",
      "text/plain": [
       "<Figure size 640x480 with 1 Axes>"
      ]
     },
     "metadata": {},
     "output_type": "display_data"
    }
   ],
   "source": [
    "daten[daten['Land'] == 'ma'].groupby(pd.Grouper(freq='YE'))['Preis'].mean().plot(xlabel='Datum', ylabel='RMB', title='China Big Mac Preise')"
   ]
  },
  {
   "cell_type": "code",
   "execution_count": null,
   "metadata": {},
   "outputs": [
    {
     "data": {
      "text/plain": [
       "Land\n",
       "Venezuela        9\n",
       "Vietnam          9\n",
       "Uruguay          3\n",
       "United States    2\n",
       "Name: count, dtype: int64"
      ]
     },
     "execution_count": 42,
     "metadata": {},
     "output_type": "execute_result"
    }
   ],
   "source": [
    "daten.groupby(pd.Grouper('DP', freq='YE')).max()['Land'].value_counts()"
   ]
  },
  {
   "cell_type": "code",
   "execution_count": null,
   "metadata": {},
   "outputs": [
    {
     "data": {
      "text/plain": [
       "<BarContainer object of 4 artists>"
      ]
     },
     "execution_count": 43,
     "metadata": {},
     "output_type": "execute_result"
    },
    {
     "data": {
      "image/png": "[encoded data removed]",
      "text/plain": [
       "<Figure size 640x480 with 1 Axes>"
      ]
     },
     "metadata": {},
     "output_type": "display_data"
    }
   ],
   "source": [
    "fig, ax = plt.subplots()\n",
    "x = daten.groupby(pd.Grouper('DP', freq='YE')).max()['Land'].value_counts().index\n",
    "y = daten.groupby(pd.Grouper('DP', freq='YE')).max()['Land'].value_counts()\n",
    "fig.suptitle('Höchste Preise pro Land')\n",
    "ax.bar(x, y)"
   ]
  },
  {
   "cell_type": "code",
   "execution_count": null,
   "metadata": {},
   "outputs": [],
   "source": [
    "usa_preise = daten.loc[daten['Land'] == 'United States'].groupby(pd.Grouper(freq='YE'))['Preis'].mean()"
   ]
  },
  {
   "cell_type": "code",
   "execution_count": null,
   "metadata": {},
   "outputs": [
    {
     "data": {
      "text/plain": [
       "DatetimeIndex(['2001-01-31', '2002-01-31', '2003-01-31', '2004-01-31',\n",
       "               '2005-01-31', '2006-01-31', '2007-01-31', '2008-01-31',\n",
       "               '2009-01-31', '2010-01-31', '2011-01-31', '2012-01-31',\n",
       "               '2013-01-31', '2014-01-31', '2015-01-31', '2016-01-31',\n",
       "               '2017-01-31', '2018-01-31', '2019-01-31', '2020-01-31',\n",
       "               '2021-01-31', '2022-01-31'],\n",
       "              dtype='datetime64[ns]', freq='YE-JAN')"
      ]
     },
     "execution_count": 45,
     "metadata": {},
     "output_type": "execute_result"
    }
   ],
   "source": [
    "pd.date_range(usa_preise.index.values[0], usa_preise.index.values[-1], freq='YE-JAN')"
   ]
  },
  {
   "cell_type": "code",
   "execution_count": null,
   "metadata": {},
   "outputs": [
    {
     "data": {
      "text/plain": [
       "2024"
      ]
     },
     "execution_count": 46,
     "metadata": {},
     "output_type": "execute_result"
    }
   ],
   "source": [
    "pd.Timestamp.today().year"
   ]
  },
  {
   "cell_type": "code",
   "execution_count": null,
   "metadata": {},
   "outputs": [],
   "source": [
    "jahre = pd.DataFrame(pd.Timestamp.today().year - pd.to_datetime(usa_preise.index.values).year)"
   ]
  },
  {
   "cell_type": "code",
   "execution_count": null,
   "metadata": {},
   "outputs": [],
   "source": [
    "jahre.index = usa_preise.index\n",
    "jahre.columns = ['Jahre']"
   ]
  },
  {
   "cell_type": "code",
   "execution_count": null,
   "metadata": {},
   "outputs": [
    {
     "data": {
      "text/html": [
       "<div>\n",
       "<style scoped>\n",
       "    .dataframe tbody tr th:only-of-type {\n",
       "        vertical-align: middle;\n",
       "    }\n",
       "\n",
       "    .dataframe tbody tr th {\n",
       "        vertical-align: top;\n",
       "    }\n",
       "\n",
       "    .dataframe thead th {\n",
       "        text-align: right;\n",
       "    }\n",
       "</style>\n",
       "<table border=\"1\" class=\"dataframe\">\n",
       "  <thead>\n",
       "    <tr style=\"text-align: right;\">\n",
       "      <th></th>\n",
       "      <th>Jahre</th>\n",
       "    </tr>\n",
       "    <tr>\n",
       "      <th>Datum</th>\n",
       "      <th></th>\n",
       "    </tr>\n",
       "  </thead>\n",
       "  <tbody>\n",
       "    <tr>\n",
       "      <th>2000-12-31</th>\n",
       "      <td>24</td>\n",
       "    </tr>\n",
       "    <tr>\n",
       "      <th>2001-12-31</th>\n",
       "      <td>23</td>\n",
       "    </tr>\n",
       "    <tr>\n",
       "      <th>2002-12-31</th>\n",
       "      <td>22</td>\n",
       "    </tr>\n",
       "    <tr>\n",
       "      <th>2003-12-31</th>\n",
       "      <td>21</td>\n",
       "    </tr>\n",
       "    <tr>\n",
       "      <th>2004-12-31</th>\n",
       "      <td>20</td>\n",
       "    </tr>\n",
       "  </tbody>\n",
       "</table>\n",
       "</div>"
      ],
      "text/plain": [
       "            Jahre\n",
       "Datum            \n",
       "2000-12-31     24\n",
       "2001-12-31     23\n",
       "2002-12-31     22\n",
       "2003-12-31     21\n",
       "2004-12-31     20"
      ]
     },
     "execution_count": 49,
     "metadata": {},
     "output_type": "execute_result"
    }
   ],
   "source": [
    "jahre.head()"
   ]
  },
  {
   "cell_type": "code",
   "execution_count": null,
   "metadata": {},
   "outputs": [
    {
     "data": {
      "text/plain": [
       "array([1, 1])"
      ]
     },
     "execution_count": 50,
     "metadata": {},
     "output_type": "execute_result"
    }
   ],
   "source": [
    "np.full((2), 1)"
   ]
  },
  {
   "cell_type": "code",
   "execution_count": null,
   "metadata": {},
   "outputs": [
    {
     "name": "stdout",
     "output_type": "stream",
     "text": [
      "            Zinsen\n",
      "Datum             \n",
      "2000-12-31    0.03\n",
      "2001-12-31    0.03\n",
      "2002-12-31    0.03\n",
      "2003-12-31    0.03\n",
      "2004-12-31    0.03\n",
      "(23, 1)\n"
     ]
    }
   ],
   "source": [
    "zinsen = pd.Series(np.full((len(jahre)), 0.03))\n",
    "zinsen.index = jahre.index\n",
    "zinsen = pd.DataFrame(zinsen, columns=['Zinsen'])\n",
    "print(zinsen.head())\n",
    "print(zinsen.shape)"
   ]
  },
  {
   "cell_type": "code",
   "execution_count": null,
   "metadata": {},
   "outputs": [
    {
     "name": "stdout",
     "output_type": "stream",
     "text": [
      "(23, 1)\n",
      "(23, 1)\n"
     ]
    }
   ],
   "source": [
    "usa_preise = pd.DataFrame(usa_preise)\n",
    "jahre = pd.DataFrame(jahre)\n",
    "print(usa_preise.shape)\n",
    "print(jahre.shape)"
   ]
  },
  {
   "cell_type": "code",
   "execution_count": null,
   "metadata": {},
   "outputs": [],
   "source": [
    "usa_preise = pd.DataFrame({'Preise': usa_preise.Preis, 'Zinsen': zinsen.Zinsen, 'Jahre': jahre.Jahre}, index=jahre.index)"
   ]
  },
  {
   "cell_type": "code",
   "execution_count": null,
   "metadata": {},
   "outputs": [
    {
     "data": {
      "text/html": [
       "<div>\n",
       "<style scoped>\n",
       "    .dataframe tbody tr th:only-of-type {\n",
       "        vertical-align: middle;\n",
       "    }\n",
       "\n",
       "    .dataframe tbody tr th {\n",
       "        vertical-align: top;\n",
       "    }\n",
       "\n",
       "    .dataframe thead th {\n",
       "        text-align: right;\n",
       "    }\n",
       "</style>\n",
       "<table border=\"1\" class=\"dataframe\">\n",
       "  <thead>\n",
       "    <tr style=\"text-align: right;\">\n",
       "      <th></th>\n",
       "      <th>Preise</th>\n",
       "      <th>Zinsen</th>\n",
       "      <th>Jahre</th>\n",
       "    </tr>\n",
       "    <tr>\n",
       "      <th>Datum</th>\n",
       "      <th></th>\n",
       "      <th></th>\n",
       "      <th></th>\n",
       "    </tr>\n",
       "  </thead>\n",
       "  <tbody>\n",
       "    <tr>\n",
       "      <th>2018-12-31</th>\n",
       "      <td>4.615</td>\n",
       "      <td>0.03</td>\n",
       "      <td>6</td>\n",
       "    </tr>\n",
       "    <tr>\n",
       "      <th>2019-12-31</th>\n",
       "      <td>4.710</td>\n",
       "      <td>0.03</td>\n",
       "      <td>5</td>\n",
       "    </tr>\n",
       "    <tr>\n",
       "      <th>2020-12-31</th>\n",
       "      <td>4.820</td>\n",
       "      <td>0.03</td>\n",
       "      <td>4</td>\n",
       "    </tr>\n",
       "    <tr>\n",
       "      <th>2021-12-31</th>\n",
       "      <td>4.910</td>\n",
       "      <td>0.03</td>\n",
       "      <td>3</td>\n",
       "    </tr>\n",
       "    <tr>\n",
       "      <th>2022-12-31</th>\n",
       "      <td>5.095</td>\n",
       "      <td>0.03</td>\n",
       "      <td>2</td>\n",
       "    </tr>\n",
       "  </tbody>\n",
       "</table>\n",
       "</div>"
      ],
      "text/plain": [
       "            Preise  Zinsen  Jahre\n",
       "Datum                            \n",
       "2018-12-31   4.615    0.03      6\n",
       "2019-12-31   4.710    0.03      5\n",
       "2020-12-31   4.820    0.03      4\n",
       "2021-12-31   4.910    0.03      3\n",
       "2022-12-31   5.095    0.03      2"
      ]
     },
     "execution_count": 54,
     "metadata": {},
     "output_type": "execute_result"
    }
   ],
   "source": [
    "usa_preise.tail()"
   ]
  },
  {
   "cell_type": "code",
   "execution_count": null,
   "metadata": {},
   "outputs": [
    {
     "data": {
      "text/plain": [
       "(2, 3)"
      ]
     },
     "execution_count": 55,
     "metadata": {},
     "output_type": "execute_result"
    }
   ],
   "source": [
    "np.array(([5.5, 0.03, 1],\n",
    "          [5.69, 0.03, 0])).shape"
   ]
  },
  {
   "cell_type": "code",
   "execution_count": null,
   "metadata": {},
   "outputs": [],
   "source": [
    "neu_daten = pd.DataFrame(np.array(([5.5, 0.03, 1],\n",
    "                               [5.69, 0.03, 0])))\n",
    "\n",
    "neu_daten.index = [pd.Timestamp(day=31, month=12, year=2023), pd.Timestamp(day=31, month=12, year=2024)]"
   ]
  },
  {
   "cell_type": "code",
   "execution_count": null,
   "metadata": {},
   "outputs": [],
   "source": [
    "neu_daten.columns = usa_preise.columns"
   ]
  },
  {
   "cell_type": "code",
   "execution_count": null,
   "metadata": {},
   "outputs": [],
   "source": [
    "usa_preise = pd.concat([usa_preise, neu_daten], join='outer')"
   ]
  },
  {
   "cell_type": "code",
   "execution_count": null,
   "metadata": {},
   "outputs": [
    {
     "data": {
      "text/html": [
       "<div>\n",
       "<style scoped>\n",
       "    .dataframe tbody tr th:only-of-type {\n",
       "        vertical-align: middle;\n",
       "    }\n",
       "\n",
       "    .dataframe tbody tr th {\n",
       "        vertical-align: top;\n",
       "    }\n",
       "\n",
       "    .dataframe thead th {\n",
       "        text-align: right;\n",
       "    }\n",
       "</style>\n",
       "<table border=\"1\" class=\"dataframe\">\n",
       "  <thead>\n",
       "    <tr style=\"text-align: right;\">\n",
       "      <th></th>\n",
       "      <th>Preise</th>\n",
       "      <th>Zinsen</th>\n",
       "      <th>Jahre</th>\n",
       "    </tr>\n",
       "  </thead>\n",
       "  <tbody>\n",
       "    <tr>\n",
       "      <th>2020-12-31</th>\n",
       "      <td>4.820</td>\n",
       "      <td>0.03</td>\n",
       "      <td>4.0</td>\n",
       "    </tr>\n",
       "    <tr>\n",
       "      <th>2021-12-31</th>\n",
       "      <td>4.910</td>\n",
       "      <td>0.03</td>\n",
       "      <td>3.0</td>\n",
       "    </tr>\n",
       "    <tr>\n",
       "      <th>2022-12-31</th>\n",
       "      <td>5.095</td>\n",
       "      <td>0.03</td>\n",
       "      <td>2.0</td>\n",
       "    </tr>\n",
       "    <tr>\n",
       "      <th>2023-12-31</th>\n",
       "      <td>5.500</td>\n",
       "      <td>0.03</td>\n",
       "      <td>1.0</td>\n",
       "    </tr>\n",
       "    <tr>\n",
       "      <th>2024-12-31</th>\n",
       "      <td>5.690</td>\n",
       "      <td>0.03</td>\n",
       "      <td>0.0</td>\n",
       "    </tr>\n",
       "  </tbody>\n",
       "</table>\n",
       "</div>"
      ],
      "text/plain": [
       "            Preise  Zinsen  Jahre\n",
       "2020-12-31   4.820    0.03    4.0\n",
       "2021-12-31   4.910    0.03    3.0\n",
       "2022-12-31   5.095    0.03    2.0\n",
       "2023-12-31   5.500    0.03    1.0\n",
       "2024-12-31   5.690    0.03    0.0"
      ]
     },
     "execution_count": 59,
     "metadata": {},
     "output_type": "execute_result"
    }
   ],
   "source": [
    "usa_preise.tail()"
   ]
  },
  {
   "cell_type": "code",
   "execution_count": null,
   "metadata": {},
   "outputs": [],
   "source": [
    "def inflation(data: pd.Series):\n",
    "    return data.iloc[0] * (1 + data.iloc[1]) ** data.iloc[2]"
   ]
  },
  {
   "cell_type": "code",
   "execution_count": null,
   "metadata": {},
   "outputs": [
    {
     "data": {
      "text/plain": [
       "np.float64(11.046221254112044)"
      ]
     },
     "execution_count": 61,
     "metadata": {},
     "output_type": "execute_result"
    }
   ],
   "source": [
    "inflation(pd.Series((10, 0.01, 10)))"
   ]
  },
  {
   "cell_type": "code",
   "execution_count": null,
   "metadata": {},
   "outputs": [
    {
     "data": {
      "text/plain": [
       "(25, 3)"
      ]
     },
     "execution_count": 62,
     "metadata": {},
     "output_type": "execute_result"
    }
   ],
   "source": [
    "usa_preise.shape"
   ]
  },
  {
   "cell_type": "code",
   "execution_count": null,
   "metadata": {},
   "outputs": [
    {
     "data": {
      "text/plain": [
       "2000-12-31    4.553459\n",
       "2001-12-31    4.420834\n",
       "2002-12-31    4.502843\n",
       "2003-12-31    4.576325\n",
       "2004-12-31    4.461095\n",
       "2005-12-31    4.524046\n",
       "2006-12-31    4.639130\n",
       "2007-12-31    4.867636\n",
       "2008-12-31    5.151108\n",
       "2009-12-31    5.343828\n",
       "2010-12-31    5.263812\n",
       "2011-12-31    5.345463\n",
       "2012-12-31    5.539081\n",
       "2013-12-31    5.682280\n",
       "2014-12-31    5.731803\n",
       "2015-12-31    5.597477\n",
       "2016-12-31    5.567455\n",
       "2017-12-31    5.534432\n",
       "2018-12-31    5.510551\n",
       "2019-12-31    5.460181\n",
       "2020-12-31    5.424952\n",
       "2021-12-31    5.365290\n",
       "2022-12-31    5.405286\n",
       "2023-12-31    5.665000\n",
       "2024-12-31    5.690000\n",
       "dtype: float64"
      ]
     },
     "execution_count": 63,
     "metadata": {},
     "output_type": "execute_result"
    }
   ],
   "source": [
    "usa_preise.apply(inflation, axis=1)"
   ]
  },
  {
   "cell_type": "code",
   "execution_count": null,
   "metadata": {},
   "outputs": [
    {
     "data": {
      "text/plain": [
       "Datum\n",
       "2000-12-31    2.24\n",
       "2001-12-31    2.24\n",
       "2002-12-31    2.35\n",
       "2003-12-31    2.46\n",
       "2004-12-31    2.47\n",
       "Freq: YE-DEC, Name: Preis, dtype: float64"
      ]
     },
     "execution_count": 64,
     "metadata": {},
     "output_type": "execute_result"
    }
   ],
   "source": [
    "daten.loc[daten['Land'] == 'United States'].groupby(pd.Grouper(freq='YE'))['Preis'].mean().head()"
   ]
  },
  {
   "cell_type": "code",
   "execution_count": null,
   "metadata": {},
   "outputs": [
    {
     "data": {
      "text/plain": [
       "np.float64(4.420833784923597)"
      ]
     },
     "execution_count": 65,
     "metadata": {},
     "output_type": "execute_result"
    }
   ],
   "source": [
    "inflation(usa_preise.iloc[1])"
   ]
  },
  {
   "cell_type": "code",
   "execution_count": null,
   "metadata": {},
   "outputs": [],
   "source": [
    "usa_preise['Inflation'] = usa_preise.apply(inflation, axis=1)"
   ]
  },
  {
   "cell_type": "code",
   "execution_count": null,
   "metadata": {},
   "outputs": [
    {
     "data": {
      "text/html": [
       "<div>\n",
       "<style scoped>\n",
       "    .dataframe tbody tr th:only-of-type {\n",
       "        vertical-align: middle;\n",
       "    }\n",
       "\n",
       "    .dataframe tbody tr th {\n",
       "        vertical-align: top;\n",
       "    }\n",
       "\n",
       "    .dataframe thead th {\n",
       "        text-align: right;\n",
       "    }\n",
       "</style>\n",
       "<table border=\"1\" class=\"dataframe\">\n",
       "  <thead>\n",
       "    <tr style=\"text-align: right;\">\n",
       "      <th></th>\n",
       "      <th>Preise</th>\n",
       "      <th>Zinsen</th>\n",
       "      <th>Jahre</th>\n",
       "      <th>Inflation</th>\n",
       "    </tr>\n",
       "  </thead>\n",
       "  <tbody>\n",
       "    <tr>\n",
       "      <th>2000-12-31</th>\n",
       "      <td>2.240</td>\n",
       "      <td>0.03</td>\n",
       "      <td>24.0</td>\n",
       "      <td>4.553459</td>\n",
       "    </tr>\n",
       "    <tr>\n",
       "      <th>2001-12-31</th>\n",
       "      <td>2.240</td>\n",
       "      <td>0.03</td>\n",
       "      <td>23.0</td>\n",
       "      <td>4.420834</td>\n",
       "    </tr>\n",
       "    <tr>\n",
       "      <th>2002-12-31</th>\n",
       "      <td>2.350</td>\n",
       "      <td>0.03</td>\n",
       "      <td>22.0</td>\n",
       "      <td>4.502843</td>\n",
       "    </tr>\n",
       "    <tr>\n",
       "      <th>2003-12-31</th>\n",
       "      <td>2.460</td>\n",
       "      <td>0.03</td>\n",
       "      <td>21.0</td>\n",
       "      <td>4.576325</td>\n",
       "    </tr>\n",
       "    <tr>\n",
       "      <th>2004-12-31</th>\n",
       "      <td>2.470</td>\n",
       "      <td>0.03</td>\n",
       "      <td>20.0</td>\n",
       "      <td>4.461095</td>\n",
       "    </tr>\n",
       "    <tr>\n",
       "      <th>2005-12-31</th>\n",
       "      <td>2.580</td>\n",
       "      <td>0.03</td>\n",
       "      <td>19.0</td>\n",
       "      <td>4.524046</td>\n",
       "    </tr>\n",
       "    <tr>\n",
       "      <th>2006-12-31</th>\n",
       "      <td>2.725</td>\n",
       "      <td>0.03</td>\n",
       "      <td>18.0</td>\n",
       "      <td>4.639130</td>\n",
       "    </tr>\n",
       "    <tr>\n",
       "      <th>2007-12-31</th>\n",
       "      <td>2.945</td>\n",
       "      <td>0.03</td>\n",
       "      <td>17.0</td>\n",
       "      <td>4.867636</td>\n",
       "    </tr>\n",
       "    <tr>\n",
       "      <th>2008-12-31</th>\n",
       "      <td>3.210</td>\n",
       "      <td>0.03</td>\n",
       "      <td>16.0</td>\n",
       "      <td>5.151108</td>\n",
       "    </tr>\n",
       "    <tr>\n",
       "      <th>2009-12-31</th>\n",
       "      <td>3.430</td>\n",
       "      <td>0.03</td>\n",
       "      <td>15.0</td>\n",
       "      <td>5.343828</td>\n",
       "    </tr>\n",
       "    <tr>\n",
       "      <th>2010-12-31</th>\n",
       "      <td>3.480</td>\n",
       "      <td>0.03</td>\n",
       "      <td>14.0</td>\n",
       "      <td>5.263812</td>\n",
       "    </tr>\n",
       "    <tr>\n",
       "      <th>2011-12-31</th>\n",
       "      <td>3.640</td>\n",
       "      <td>0.03</td>\n",
       "      <td>13.0</td>\n",
       "      <td>5.345463</td>\n",
       "    </tr>\n",
       "    <tr>\n",
       "      <th>2012-12-31</th>\n",
       "      <td>3.885</td>\n",
       "      <td>0.03</td>\n",
       "      <td>12.0</td>\n",
       "      <td>5.539081</td>\n",
       "    </tr>\n",
       "    <tr>\n",
       "      <th>2013-12-31</th>\n",
       "      <td>4.105</td>\n",
       "      <td>0.03</td>\n",
       "      <td>11.0</td>\n",
       "      <td>5.682280</td>\n",
       "    </tr>\n",
       "    <tr>\n",
       "      <th>2014-12-31</th>\n",
       "      <td>4.265</td>\n",
       "      <td>0.03</td>\n",
       "      <td>10.0</td>\n",
       "      <td>5.731803</td>\n",
       "    </tr>\n",
       "    <tr>\n",
       "      <th>2015-12-31</th>\n",
       "      <td>4.290</td>\n",
       "      <td>0.03</td>\n",
       "      <td>9.0</td>\n",
       "      <td>5.597477</td>\n",
       "    </tr>\n",
       "    <tr>\n",
       "      <th>2016-12-31</th>\n",
       "      <td>4.395</td>\n",
       "      <td>0.03</td>\n",
       "      <td>8.0</td>\n",
       "      <td>5.567455</td>\n",
       "    </tr>\n",
       "    <tr>\n",
       "      <th>2017-12-31</th>\n",
       "      <td>4.500</td>\n",
       "      <td>0.03</td>\n",
       "      <td>7.0</td>\n",
       "      <td>5.534432</td>\n",
       "    </tr>\n",
       "    <tr>\n",
       "      <th>2018-12-31</th>\n",
       "      <td>4.615</td>\n",
       "      <td>0.03</td>\n",
       "      <td>6.0</td>\n",
       "      <td>5.510551</td>\n",
       "    </tr>\n",
       "    <tr>\n",
       "      <th>2019-12-31</th>\n",
       "      <td>4.710</td>\n",
       "      <td>0.03</td>\n",
       "      <td>5.0</td>\n",
       "      <td>5.460181</td>\n",
       "    </tr>\n",
       "    <tr>\n",
       "      <th>2020-12-31</th>\n",
       "      <td>4.820</td>\n",
       "      <td>0.03</td>\n",
       "      <td>4.0</td>\n",
       "      <td>5.424952</td>\n",
       "    </tr>\n",
       "    <tr>\n",
       "      <th>2021-12-31</th>\n",
       "      <td>4.910</td>\n",
       "      <td>0.03</td>\n",
       "      <td>3.0</td>\n",
       "      <td>5.365290</td>\n",
       "    </tr>\n",
       "    <tr>\n",
       "      <th>2022-12-31</th>\n",
       "      <td>5.095</td>\n",
       "      <td>0.03</td>\n",
       "      <td>2.0</td>\n",
       "      <td>5.405286</td>\n",
       "    </tr>\n",
       "    <tr>\n",
       "      <th>2023-12-31</th>\n",
       "      <td>5.500</td>\n",
       "      <td>0.03</td>\n",
       "      <td>1.0</td>\n",
       "      <td>5.665000</td>\n",
       "    </tr>\n",
       "    <tr>\n",
       "      <th>2024-12-31</th>\n",
       "      <td>5.690</td>\n",
       "      <td>0.03</td>\n",
       "      <td>0.0</td>\n",
       "      <td>5.690000</td>\n",
       "    </tr>\n",
       "  </tbody>\n",
       "</table>\n",
       "</div>"
      ],
      "text/plain": [
       "            Preise  Zinsen  Jahre  Inflation\n",
       "2000-12-31   2.240    0.03   24.0   4.553459\n",
       "2001-12-31   2.240    0.03   23.0   4.420834\n",
       "2002-12-31   2.350    0.03   22.0   4.502843\n",
       "2003-12-31   2.460    0.03   21.0   4.576325\n",
       "2004-12-31   2.470    0.03   20.0   4.461095\n",
       "2005-12-31   2.580    0.03   19.0   4.524046\n",
       "2006-12-31   2.725    0.03   18.0   4.639130\n",
       "2007-12-31   2.945    0.03   17.0   4.867636\n",
       "2008-12-31   3.210    0.03   16.0   5.151108\n",
       "2009-12-31   3.430    0.03   15.0   5.343828\n",
       "2010-12-31   3.480    0.03   14.0   5.263812\n",
       "2011-12-31   3.640    0.03   13.0   5.345463\n",
       "2012-12-31   3.885    0.03   12.0   5.539081\n",
       "2013-12-31   4.105    0.03   11.0   5.682280\n",
       "2014-12-31   4.265    0.03   10.0   5.731803\n",
       "2015-12-31   4.290    0.03    9.0   5.597477\n",
       "2016-12-31   4.395    0.03    8.0   5.567455\n",
       "2017-12-31   4.500    0.03    7.0   5.534432\n",
       "2018-12-31   4.615    0.03    6.0   5.510551\n",
       "2019-12-31   4.710    0.03    5.0   5.460181\n",
       "2020-12-31   4.820    0.03    4.0   5.424952\n",
       "2021-12-31   4.910    0.03    3.0   5.365290\n",
       "2022-12-31   5.095    0.03    2.0   5.405286\n",
       "2023-12-31   5.500    0.03    1.0   5.665000\n",
       "2024-12-31   5.690    0.03    0.0   5.690000"
      ]
     },
     "execution_count": 67,
     "metadata": {},
     "output_type": "execute_result"
    }
   ],
   "source": [
    "usa_preise"
   ]
  },
  {
   "cell_type": "code",
   "execution_count": null,
   "metadata": {},
   "outputs": [
    {
     "data": {
      "text/plain": [
       "<matplotlib.legend.Legend at 0x24b46b70050>"
      ]
     },
     "execution_count": 68,
     "metadata": {},
     "output_type": "execute_result"
    },
    {
     "data": {
      "image/png": "[encoded data removed]",
      "text/plain": [
       "<Figure size 640x480 with 1 Axes>"
      ]
     },
     "metadata": {},
     "output_type": "display_data"
    }
   ],
   "source": [
    "fig, ax = plt.subplots()\n",
    "zeit = usa_preise.index\n",
    "mean_adj_preise = np.full((len(zeit),), usa_preise['Inflation'].mean())\n",
    "\n",
    "ax.set_title('Preise und adjustierte Preise von Big Macs in der USA')\n",
    "ax.set_ylim((2,6.5))\n",
    "ax.plot(zeit, usa_preise['Preise'], color='blue', label='Preise')\n",
    "ax.plot(zeit, usa_preise['Inflation'], color='red', label='Adjustiert')\n",
    "ax.plot(zeit, mean_adj_preise, linestyle='--', color='green', label='Adj. Preis Mittelwert')\n",
    "\n",
    "ax.fill_between(zeit, usa_preise['Inflation'], mean_adj_preise, color='pink', where=usa_preise['Inflation'] < mean_adj_preise)\n",
    "ax.set_ylabel('Dollar')\n",
    "ax.legend(loc='upper left')\n",
    "# fig.savefig('adjustiert0.png', format='png')"
   ]
  },
  {
   "cell_type": "code",
   "execution_count": null,
   "metadata": {},
   "outputs": [
    {
     "data": {
      "text/html": [
       "<div>\n",
       "<style scoped>\n",
       "    .dataframe tbody tr th:only-of-type {\n",
       "        vertical-align: middle;\n",
       "    }\n",
       "\n",
       "    .dataframe tbody tr th {\n",
       "        vertical-align: top;\n",
       "    }\n",
       "\n",
       "    .dataframe thead th {\n",
       "        text-align: right;\n",
       "    }\n",
       "</style>\n",
       "<table border=\"1\" class=\"dataframe\">\n",
       "  <thead>\n",
       "    <tr style=\"text-align: right;\">\n",
       "      <th></th>\n",
       "      <th>Preise</th>\n",
       "      <th>Zinsen</th>\n",
       "      <th>Jahre</th>\n",
       "      <th>Inflation</th>\n",
       "    </tr>\n",
       "  </thead>\n",
       "  <tbody>\n",
       "    <tr>\n",
       "      <th>2000-12-31</th>\n",
       "      <td>2.24</td>\n",
       "      <td>0.03</td>\n",
       "      <td>24.0</td>\n",
       "      <td>4.553459</td>\n",
       "    </tr>\n",
       "    <tr>\n",
       "      <th>2001-12-31</th>\n",
       "      <td>2.24</td>\n",
       "      <td>0.03</td>\n",
       "      <td>23.0</td>\n",
       "      <td>4.420834</td>\n",
       "    </tr>\n",
       "    <tr>\n",
       "      <th>2002-12-31</th>\n",
       "      <td>2.35</td>\n",
       "      <td>0.03</td>\n",
       "      <td>22.0</td>\n",
       "      <td>4.502843</td>\n",
       "    </tr>\n",
       "    <tr>\n",
       "      <th>2003-12-31</th>\n",
       "      <td>2.46</td>\n",
       "      <td>0.03</td>\n",
       "      <td>21.0</td>\n",
       "      <td>4.576325</td>\n",
       "    </tr>\n",
       "    <tr>\n",
       "      <th>2004-12-31</th>\n",
       "      <td>2.47</td>\n",
       "      <td>0.03</td>\n",
       "      <td>20.0</td>\n",
       "      <td>4.461095</td>\n",
       "    </tr>\n",
       "  </tbody>\n",
       "</table>\n",
       "</div>"
      ],
      "text/plain": [
       "            Preise  Zinsen  Jahre  Inflation\n",
       "2000-12-31    2.24    0.03   24.0   4.553459\n",
       "2001-12-31    2.24    0.03   23.0   4.420834\n",
       "2002-12-31    2.35    0.03   22.0   4.502843\n",
       "2003-12-31    2.46    0.03   21.0   4.576325\n",
       "2004-12-31    2.47    0.03   20.0   4.461095"
      ]
     },
     "execution_count": 69,
     "metadata": {},
     "output_type": "execute_result"
    }
   ],
   "source": [
    "usa_preise.head()"
   ]
  },
  {
   "cell_type": "code",
   "execution_count": null,
   "metadata": {},
   "outputs": [],
   "source": [
    "infla = pd.read_csv('C:\\\\Users\\\\pat_h\\\\OneDrive\\\\p-spohr-repos\\\\HTW-Berlin-Pytorium\\\\daten\\\\inflation.csv', header='infer')"
   ]
  },
  {
   "cell_type": "code",
   "execution_count": null,
   "metadata": {},
   "outputs": [
    {
     "data": {
      "text/html": [
       "<div>\n",
       "<style scoped>\n",
       "    .dataframe tbody tr th:only-of-type {\n",
       "        vertical-align: middle;\n",
       "    }\n",
       "\n",
       "    .dataframe tbody tr th {\n",
       "        vertical-align: top;\n",
       "    }\n",
       "\n",
       "    .dataframe thead th {\n",
       "        text-align: right;\n",
       "    }\n",
       "</style>\n",
       "<table border=\"1\" class=\"dataframe\">\n",
       "  <thead>\n",
       "    <tr style=\"text-align: right;\">\n",
       "      <th></th>\n",
       "      <th>Year</th>\n",
       "      <th>Jan</th>\n",
       "      <th>Feb</th>\n",
       "      <th>Mar</th>\n",
       "      <th>Apr</th>\n",
       "      <th>May</th>\n",
       "      <th>Jun</th>\n",
       "      <th>Jul</th>\n",
       "      <th>Aug</th>\n",
       "      <th>Sep</th>\n",
       "      <th>Oct</th>\n",
       "      <th>Nov</th>\n",
       "      <th>Dec</th>\n",
       "      <th>HALF1</th>\n",
       "      <th>HALF2</th>\n",
       "    </tr>\n",
       "  </thead>\n",
       "  <tbody>\n",
       "    <tr>\n",
       "      <th>0</th>\n",
       "      <td>2000</td>\n",
       "      <td>2.0</td>\n",
       "      <td>2.2</td>\n",
       "      <td>2.4</td>\n",
       "      <td>2.3</td>\n",
       "      <td>2.4</td>\n",
       "      <td>2.5</td>\n",
       "      <td>2.5</td>\n",
       "      <td>2.6</td>\n",
       "      <td>2.6</td>\n",
       "      <td>2.5</td>\n",
       "      <td>2.6</td>\n",
       "      <td>2.6</td>\n",
       "      <td>2.3</td>\n",
       "      <td>2.5</td>\n",
       "    </tr>\n",
       "    <tr>\n",
       "      <th>1</th>\n",
       "      <td>2001</td>\n",
       "      <td>2.6</td>\n",
       "      <td>2.7</td>\n",
       "      <td>2.7</td>\n",
       "      <td>2.6</td>\n",
       "      <td>2.5</td>\n",
       "      <td>2.7</td>\n",
       "      <td>2.7</td>\n",
       "      <td>2.7</td>\n",
       "      <td>2.6</td>\n",
       "      <td>2.6</td>\n",
       "      <td>2.8</td>\n",
       "      <td>2.7</td>\n",
       "      <td>2.6</td>\n",
       "      <td>2.7</td>\n",
       "    </tr>\n",
       "    <tr>\n",
       "      <th>2</th>\n",
       "      <td>2002</td>\n",
       "      <td>2.6</td>\n",
       "      <td>2.6</td>\n",
       "      <td>2.4</td>\n",
       "      <td>2.5</td>\n",
       "      <td>2.5</td>\n",
       "      <td>2.3</td>\n",
       "      <td>2.2</td>\n",
       "      <td>2.4</td>\n",
       "      <td>2.2</td>\n",
       "      <td>2.2</td>\n",
       "      <td>2.0</td>\n",
       "      <td>1.9</td>\n",
       "      <td>2.5</td>\n",
       "      <td>2.2</td>\n",
       "    </tr>\n",
       "    <tr>\n",
       "      <th>3</th>\n",
       "      <td>2003</td>\n",
       "      <td>1.9</td>\n",
       "      <td>1.7</td>\n",
       "      <td>1.7</td>\n",
       "      <td>1.5</td>\n",
       "      <td>1.6</td>\n",
       "      <td>1.5</td>\n",
       "      <td>1.5</td>\n",
       "      <td>1.3</td>\n",
       "      <td>1.2</td>\n",
       "      <td>1.3</td>\n",
       "      <td>1.1</td>\n",
       "      <td>1.1</td>\n",
       "      <td>1.7</td>\n",
       "      <td>1.3</td>\n",
       "    </tr>\n",
       "    <tr>\n",
       "      <th>4</th>\n",
       "      <td>2004</td>\n",
       "      <td>1.1</td>\n",
       "      <td>1.2</td>\n",
       "      <td>1.6</td>\n",
       "      <td>1.8</td>\n",
       "      <td>1.7</td>\n",
       "      <td>1.9</td>\n",
       "      <td>1.8</td>\n",
       "      <td>1.7</td>\n",
       "      <td>2.0</td>\n",
       "      <td>2.0</td>\n",
       "      <td>2.2</td>\n",
       "      <td>2.2</td>\n",
       "      <td>1.6</td>\n",
       "      <td>2.0</td>\n",
       "    </tr>\n",
       "  </tbody>\n",
       "</table>\n",
       "</div>"
      ],
      "text/plain": [
       "   Year  Jan  Feb  Mar  Apr  May  Jun  Jul  Aug  Sep  Oct  Nov  Dec  HALF1  \\\n",
       "0  2000  2.0  2.2  2.4  2.3  2.4  2.5  2.5  2.6  2.6  2.5  2.6  2.6    2.3   \n",
       "1  2001  2.6  2.7  2.7  2.6  2.5  2.7  2.7  2.7  2.6  2.6  2.8  2.7    2.6   \n",
       "2  2002  2.6  2.6  2.4  2.5  2.5  2.3  2.2  2.4  2.2  2.2  2.0  1.9    2.5   \n",
       "3  2003  1.9  1.7  1.7  1.5  1.6  1.5  1.5  1.3  1.2  1.3  1.1  1.1    1.7   \n",
       "4  2004  1.1  1.2  1.6  1.8  1.7  1.9  1.8  1.7  2.0  2.0  2.2  2.2    1.6   \n",
       "\n",
       "   HALF2  \n",
       "0    2.5  \n",
       "1    2.7  \n",
       "2    2.2  \n",
       "3    1.3  \n",
       "4    2.0  "
      ]
     },
     "execution_count": 71,
     "metadata": {},
     "output_type": "execute_result"
    }
   ],
   "source": [
    "infla.head()"
   ]
  },
  {
   "cell_type": "code",
   "execution_count": null,
   "metadata": {},
   "outputs": [],
   "source": [
    "infla = infla.drop(columns=['Year', 'HALF1', 'HALF2'])"
   ]
  },
  {
   "cell_type": "code",
   "execution_count": null,
   "metadata": {},
   "outputs": [],
   "source": [
    "infla.index = usa_preise.index"
   ]
  },
  {
   "cell_type": "code",
   "execution_count": null,
   "metadata": {},
   "outputs": [
    {
     "data": {
      "text/plain": [
       "(25, 12)"
      ]
     },
     "execution_count": 74,
     "metadata": {},
     "output_type": "execute_result"
    }
   ],
   "source": [
    "infla.shape"
   ]
  },
  {
   "cell_type": "code",
   "execution_count": null,
   "metadata": {},
   "outputs": [],
   "source": [
    "infla = infla.mean(axis=1)"
   ]
  },
  {
   "cell_type": "code",
   "execution_count": null,
   "metadata": {},
   "outputs": [
    {
     "data": {
      "text/plain": [
       "2000-12-31    2.433333\n",
       "2001-12-31    2.658333\n",
       "2002-12-31    2.316667\n",
       "2003-12-31    1.450000\n",
       "2004-12-31    1.766667\n",
       "dtype: float64"
      ]
     },
     "execution_count": 76,
     "metadata": {},
     "output_type": "execute_result"
    }
   ],
   "source": [
    "infla.head()"
   ]
  },
  {
   "cell_type": "code",
   "execution_count": null,
   "metadata": {},
   "outputs": [],
   "source": [
    "usa_preise['Zinsen'] = infla / 100"
   ]
  },
  {
   "cell_type": "code",
   "execution_count": null,
   "metadata": {},
   "outputs": [
    {
     "data": {
      "text/plain": [
       "(25,)"
      ]
     },
     "execution_count": 78,
     "metadata": {},
     "output_type": "execute_result"
    }
   ],
   "source": [
    "usa_preise['Zinsen'].shape"
   ]
  },
  {
   "cell_type": "code",
   "execution_count": null,
   "metadata": {},
   "outputs": [
    {
     "data": {
      "text/plain": [
       "np.float64(0.023883333333333326)"
      ]
     },
     "execution_count": 79,
     "metadata": {},
     "output_type": "execute_result"
    }
   ],
   "source": [
    "usa_preise['Zinsen'].mean()"
   ]
  },
  {
   "cell_type": "code",
   "execution_count": null,
   "metadata": {},
   "outputs": [],
   "source": [
    "usa_preise['Inflation'] = usa_preise.apply(inflation, axis=1)"
   ]
  },
  {
   "cell_type": "code",
   "execution_count": null,
   "metadata": {},
   "outputs": [
    {
     "data": {
      "text/html": [
       "<div>\n",
       "<style scoped>\n",
       "    .dataframe tbody tr th:only-of-type {\n",
       "        vertical-align: middle;\n",
       "    }\n",
       "\n",
       "    .dataframe tbody tr th {\n",
       "        vertical-align: top;\n",
       "    }\n",
       "\n",
       "    .dataframe thead th {\n",
       "        text-align: right;\n",
       "    }\n",
       "</style>\n",
       "<table border=\"1\" class=\"dataframe\">\n",
       "  <thead>\n",
       "    <tr style=\"text-align: right;\">\n",
       "      <th></th>\n",
       "      <th>Preise</th>\n",
       "      <th>Zinsen</th>\n",
       "      <th>Jahre</th>\n",
       "      <th>Inflation</th>\n",
       "    </tr>\n",
       "  </thead>\n",
       "  <tbody>\n",
       "    <tr>\n",
       "      <th>2000-12-31</th>\n",
       "      <td>2.240</td>\n",
       "      <td>0.024333</td>\n",
       "      <td>24.0</td>\n",
       "      <td>3.988773</td>\n",
       "    </tr>\n",
       "    <tr>\n",
       "      <th>2001-12-31</th>\n",
       "      <td>2.240</td>\n",
       "      <td>0.026583</td>\n",
       "      <td>23.0</td>\n",
       "      <td>4.095574</td>\n",
       "    </tr>\n",
       "    <tr>\n",
       "      <th>2002-12-31</th>\n",
       "      <td>2.350</td>\n",
       "      <td>0.023167</td>\n",
       "      <td>22.0</td>\n",
       "      <td>3.889451</td>\n",
       "    </tr>\n",
       "    <tr>\n",
       "      <th>2003-12-31</th>\n",
       "      <td>2.460</td>\n",
       "      <td>0.014500</td>\n",
       "      <td>21.0</td>\n",
       "      <td>3.328344</td>\n",
       "    </tr>\n",
       "    <tr>\n",
       "      <th>2004-12-31</th>\n",
       "      <td>2.470</td>\n",
       "      <td>0.017667</td>\n",
       "      <td>20.0</td>\n",
       "      <td>3.505968</td>\n",
       "    </tr>\n",
       "    <tr>\n",
       "      <th>2005-12-31</th>\n",
       "      <td>2.580</td>\n",
       "      <td>0.021667</td>\n",
       "      <td>19.0</td>\n",
       "      <td>3.876993</td>\n",
       "    </tr>\n",
       "    <tr>\n",
       "      <th>2006-12-31</th>\n",
       "      <td>2.725</td>\n",
       "      <td>0.024917</td>\n",
       "      <td>18.0</td>\n",
       "      <td>4.243855</td>\n",
       "    </tr>\n",
       "    <tr>\n",
       "      <th>2007-12-31</th>\n",
       "      <td>2.945</td>\n",
       "      <td>0.023250</td>\n",
       "      <td>17.0</td>\n",
       "      <td>4.352864</td>\n",
       "    </tr>\n",
       "    <tr>\n",
       "      <th>2008-12-31</th>\n",
       "      <td>3.210</td>\n",
       "      <td>0.023083</td>\n",
       "      <td>16.0</td>\n",
       "      <td>4.624675</td>\n",
       "    </tr>\n",
       "    <tr>\n",
       "      <th>2009-12-31</th>\n",
       "      <td>3.430</td>\n",
       "      <td>0.016917</td>\n",
       "      <td>15.0</td>\n",
       "      <td>4.411381</td>\n",
       "    </tr>\n",
       "    <tr>\n",
       "      <th>2010-12-31</th>\n",
       "      <td>3.480</td>\n",
       "      <td>0.009583</td>\n",
       "      <td>14.0</td>\n",
       "      <td>3.977129</td>\n",
       "    </tr>\n",
       "    <tr>\n",
       "      <th>2011-12-31</th>\n",
       "      <td>3.640</td>\n",
       "      <td>0.016667</td>\n",
       "      <td>13.0</td>\n",
       "      <td>4.512560</td>\n",
       "    </tr>\n",
       "    <tr>\n",
       "      <th>2012-12-31</th>\n",
       "      <td>3.885</td>\n",
       "      <td>0.021167</td>\n",
       "      <td>12.0</td>\n",
       "      <td>4.995174</td>\n",
       "    </tr>\n",
       "    <tr>\n",
       "      <th>2013-12-31</th>\n",
       "      <td>4.105</td>\n",
       "      <td>0.017583</td>\n",
       "      <td>11.0</td>\n",
       "      <td>4.972594</td>\n",
       "    </tr>\n",
       "    <tr>\n",
       "      <th>2014-12-31</th>\n",
       "      <td>4.265</td>\n",
       "      <td>0.017500</td>\n",
       "      <td>10.0</td>\n",
       "      <td>5.072981</td>\n",
       "    </tr>\n",
       "    <tr>\n",
       "      <th>2015-12-31</th>\n",
       "      <td>4.290</td>\n",
       "      <td>0.018250</td>\n",
       "      <td>9.0</td>\n",
       "      <td>5.048322</td>\n",
       "    </tr>\n",
       "    <tr>\n",
       "      <th>2016-12-31</th>\n",
       "      <td>4.395</td>\n",
       "      <td>0.021917</td>\n",
       "      <td>8.0</td>\n",
       "      <td>5.227364</td>\n",
       "    </tr>\n",
       "    <tr>\n",
       "      <th>2017-12-31</th>\n",
       "      <td>4.500</td>\n",
       "      <td>0.018500</td>\n",
       "      <td>7.0</td>\n",
       "      <td>5.116109</td>\n",
       "    </tr>\n",
       "    <tr>\n",
       "      <th>2018-12-31</th>\n",
       "      <td>4.615</td>\n",
       "      <td>0.021333</td>\n",
       "      <td>6.0</td>\n",
       "      <td>5.238136</td>\n",
       "    </tr>\n",
       "    <tr>\n",
       "      <th>2019-12-31</th>\n",
       "      <td>4.710</td>\n",
       "      <td>0.022000</td>\n",
       "      <td>5.0</td>\n",
       "      <td>5.251403</td>\n",
       "    </tr>\n",
       "    <tr>\n",
       "      <th>2020-12-31</th>\n",
       "      <td>4.820</td>\n",
       "      <td>0.017000</td>\n",
       "      <td>4.0</td>\n",
       "      <td>5.156213</td>\n",
       "    </tr>\n",
       "    <tr>\n",
       "      <th>2021-12-31</th>\n",
       "      <td>4.910</td>\n",
       "      <td>0.035750</td>\n",
       "      <td>3.0</td>\n",
       "      <td>5.455648</td>\n",
       "    </tr>\n",
       "    <tr>\n",
       "      <th>2022-12-31</th>\n",
       "      <td>5.095</td>\n",
       "      <td>0.061500</td>\n",
       "      <td>2.0</td>\n",
       "      <td>5.740956</td>\n",
       "    </tr>\n",
       "    <tr>\n",
       "      <th>2023-12-31</th>\n",
       "      <td>5.500</td>\n",
       "      <td>0.047750</td>\n",
       "      <td>1.0</td>\n",
       "      <td>5.762625</td>\n",
       "    </tr>\n",
       "    <tr>\n",
       "      <th>2024-12-31</th>\n",
       "      <td>5.690</td>\n",
       "      <td>0.034500</td>\n",
       "      <td>0.0</td>\n",
       "      <td>5.690000</td>\n",
       "    </tr>\n",
       "  </tbody>\n",
       "</table>\n",
       "</div>"
      ],
      "text/plain": [
       "            Preise    Zinsen  Jahre  Inflation\n",
       "2000-12-31   2.240  0.024333   24.0   3.988773\n",
       "2001-12-31   2.240  0.026583   23.0   4.095574\n",
       "2002-12-31   2.350  0.023167   22.0   3.889451\n",
       "2003-12-31   2.460  0.014500   21.0   3.328344\n",
       "2004-12-31   2.470  0.017667   20.0   3.505968\n",
       "2005-12-31   2.580  0.021667   19.0   3.876993\n",
       "2006-12-31   2.725  0.024917   18.0   4.243855\n",
       "2007-12-31   2.945  0.023250   17.0   4.352864\n",
       "2008-12-31   3.210  0.023083   16.0   4.624675\n",
       "2009-12-31   3.430  0.016917   15.0   4.411381\n",
       "2010-12-31   3.480  0.009583   14.0   3.977129\n",
       "2011-12-31   3.640  0.016667   13.0   4.512560\n",
       "2012-12-31   3.885  0.021167   12.0   4.995174\n",
       "2013-12-31   4.105  0.017583   11.0   4.972594\n",
       "2014-12-31   4.265  0.017500   10.0   5.072981\n",
       "2015-12-31   4.290  0.018250    9.0   5.048322\n",
       "2016-12-31   4.395  0.021917    8.0   5.227364\n",
       "2017-12-31   4.500  0.018500    7.0   5.116109\n",
       "2018-12-31   4.615  0.021333    6.0   5.238136\n",
       "2019-12-31   4.710  0.022000    5.0   5.251403\n",
       "2020-12-31   4.820  0.017000    4.0   5.156213\n",
       "2021-12-31   4.910  0.035750    3.0   5.455648\n",
       "2022-12-31   5.095  0.061500    2.0   5.740956\n",
       "2023-12-31   5.500  0.047750    1.0   5.762625\n",
       "2024-12-31   5.690  0.034500    0.0   5.690000"
      ]
     },
     "execution_count": 81,
     "metadata": {},
     "output_type": "execute_result"
    }
   ],
   "source": [
    "usa_preise"
   ]
  },
  {
   "cell_type": "code",
   "execution_count": null,
   "metadata": {},
   "outputs": [
    {
     "data": {
      "text/plain": [
       "<matplotlib.legend.Legend at 0x24b46bf9450>"
      ]
     },
     "execution_count": 82,
     "metadata": {},
     "output_type": "execute_result"
    },
    {
     "data": {
      "image/png": "[encoded data removed]",
      "text/plain": [
       "<Figure size 640x480 with 1 Axes>"
      ]
     },
     "metadata": {},
     "output_type": "display_data"
    }
   ],
   "source": [
    "fig, ax = plt.subplots()\n",
    "zeit = usa_preise.index\n",
    "mean_adj_preise = np.full((len(zeit),), usa_preise['Inflation'].mean())\n",
    "\n",
    "ax.set_title('Preise und adjustierte Preise von Big Macs in der USA')\n",
    "ax.set_ylim((2,6.5))\n",
    "ax.plot(zeit, usa_preise['Preise'], color='blue', label='Preise')\n",
    "ax.plot(zeit, usa_preise['Inflation'], color='red', label='Adjustiert')\n",
    "ax.plot(zeit, mean_adj_preise, linestyle='--', color='green', label='Adj. Preis Mittelwert')\n",
    "\n",
    "ax.fill_between(zeit, usa_preise['Inflation'], mean_adj_preise, color='pink', where=usa_preise['Inflation'] < mean_adj_preise)\n",
    "ax.set_ylabel('Dollar')\n",
    "ax.legend(loc='upper left')\n",
    "# fig.savefig('adjustiert1.png', format='png')"
   ]
  }
 ],
 "metadata": {
  "kernelspec": {
   "display_name": "datasci",
   "language": "python",
   "name": "python3"
  },
  "language_info": {
   "codemirror_mode": {
    "name": "ipython",
    "version": 3
   },
   "file_extension": ".py",
   "mimetype": "text/x-python",
   "name": "python",
   "nbconvert_exporter": "python",
   "pygments_lexer": "ipython3",
   "version": "3.13.0"
  }
 },
 "nbformat": 4,
 "nbformat_minor": 2
}
